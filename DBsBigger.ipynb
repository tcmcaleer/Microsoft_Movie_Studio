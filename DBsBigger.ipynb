{
 "metadata": {
  "language_info": {
   "codemirror_mode": {
    "name": "ipython",
    "version": 3
   },
   "file_extension": ".py",
   "mimetype": "text/x-python",
   "name": "python",
   "nbconvert_exporter": "python",
   "pygments_lexer": "ipython3",
   "version": "3.8.3-final"
  },
  "orig_nbformat": 2,
  "kernelspec": {
   "name": "Python 3.8.3 64-bit ('base': conda)",
   "display_name": "Python 3.8.3 64-bit ('base': conda)",
   "metadata": {
    "interpreter": {
     "hash": "8a4dba99b337f7b7c56f3257436139b377f4b22d5009ee8ecea169cfe4d2a37e"
    }
   }
  }
 },
 "nbformat": 4,
 "nbformat_minor": 2,
 "cells": [
  {
   "cell_type": "code",
   "execution_count": 1,
   "metadata": {},
   "outputs": [],
   "source": [
    "#import needed modules\n",
    "import pandas as pd\n",
    "import numpy as np\n",
    "import requests\n",
    "from bs4 import BeautifulSoup\n",
    "import seaborn as sns\n",
    "import matplotlib.pyplot as plt"
   ]
  },
  {
   "cell_type": "code",
   "execution_count": 2,
   "metadata": {},
   "outputs": [],
   "source": [
    "#Livin' in csv city\n",
    "mjgross = pd.read_csv('D:/Flatiron/Project/Zips/bom.movie_gross.csv/bom.movie_gross.csv')\n",
    "imdbname = pd.read_csv('D:/Flatiron/Project/Zips/imdb.name.basics.csv/name.basics.csv')\n",
    "imdbtitle = pd.read_csv('D:/Flatiron/Project/Zips/imdb.title.akas.csv/title.akas.csv')\n",
    "imdbtitle2 = pd.read_csv('D:/Flatiron/Project/Zips/imdb.title.basics.csv/title.basics.csv')\n",
    "imdbcrew = pd.read_csv('D:/Flatiron/Project/Zips/imdb.title.crew.csv/title.crew.csv')\n",
    "imdbprinc = pd.read_csv('D:/Flatiron/Project/Zips/imdb.title.principals.csv/title.principals.csv')\n",
    "imdbrate = pd.read_csv('D:/Flatiron/Project/Zips/imdb.title.ratings.csv/title.ratings.csv')\n",
    "rtinfo = pd.read_csv('D:/Flatiron/Project/Zips/rt.movie_info.tsv/rt.movie_info.tsv', delimiter='\\t')\n",
    "rtreviews = pd.read_csv('D:/Flatiron/Project/Zips/rt.reviews.tsv/rt.reviews.tsv', sep=None)\n",
    "tmdbmovies = pd.read_csv('D:/Flatiron/Project/Zips/tmdb.movies.csv/tmdb.movies.csv')\n",
    "tnbudgets = pd.read_csv('D:/Flatiron/Project/Zips/tn.movie_budgets.csv/tn.movie_budgets.csv')"
   ]
  },
  {
   "cell_type": "code",
   "execution_count": 3,
   "metadata": {},
   "outputs": [],
   "source": [
    "# joined imdbcrew and imdbtitle2\n",
    "imdbcrewtitle2 = imdbtitle2.join(imdbcrew.set_index('tconst'), on='tconst')\n"
   ]
  },
  {
   "cell_type": "code",
   "execution_count": 4,
   "metadata": {},
   "outputs": [],
   "source": [
    "#Editing, dropping mostly empty or useless columns\n",
    "imdbname.drop(['birth_year','death_year'], axis=1, inplace=True)\n",
    "imdbtitle.drop(['attributes','language'], axis=1, inplace=True)\n",
    "imdbprinc.drop(['job','characters'], axis=1, inplace=True)\n",
    "rtinfo.drop(['synopsis','theater_date','dvd_date','studio','currency'], axis=1, inplace=True)"
   ]
  },
  {
   "cell_type": "code",
   "execution_count": 5,
   "metadata": {},
   "outputs": [
    {
     "output_type": "stream",
     "name": "stdout",
     "text": [
      "{28: 'Action', 12: 'Adventure', 16: 'Animation', 35: 'Comedy', 80: 'Crime', 99: 'Documentary', 18: 'Drama', 10751: 'Family', 14: 'Fantasy', 36: 'History', 27: 'Horror', 10402: 'Music', 9648: 'Mystery', 10749: 'Romance', 878: 'Science Fiction', 10770: 'TV Movie', 53: 'Thriller', 10752: 'War', 37: 'Western'}\n"
     ]
    }
   ],
   "source": [
    "#Make new dict of genres, cutting out fluff\n",
    "genre_dict = [{\"id\":28,\"name\":\"Action\"},{\"id\":12,\"name\":\"Adventure\"},{\"id\":16,\"name\":\"Animation\"},{\"id\":35,\"name\":\"Comedy\"},{\"id\":80,\"name\":\"Crime\"},{\"id\":99,\"name\":\"Documentary\"},{\"id\":18,\"name\":\"Drama\"},{\"id\":10751,\"name\":\"Family\"},{\"id\":14,\"name\":\"Fantasy\"},{\"id\":36,\"name\":\"History\"},{\"id\":27,\"name\":\"Horror\"},{\"id\":10402,\"name\":\"Music\"},{\"id\":9648,\"name\":\"Mystery\"},{\"id\":10749,\"name\":\"Romance\"},{\"id\":878,\"name\":\"Science Fiction\"},{\"id\":10770,\"name\":\"TV Movie\"},{\"id\":53,\"name\":\"Thriller\"},{\"id\":10752,\"name\":\"War\"},{\"id\":37,\"name\":\"Western\"}]\n",
    "k = []\n",
    "v = []\n",
    "for i in range(len(genre_dict)):\n",
    "    k.append(genre_dict[i]['id'])\n",
    "    v.append(genre_dict[i]['name'])\n",
    "gendic = dict(zip(k,v))\n",
    "print(gendic)"
   ]
  },
  {
   "cell_type": "code",
   "execution_count": 6,
   "metadata": {},
   "outputs": [],
   "source": [
    "#Make lists out of Series\n",
    "titles = tmdbmovies['title'].to_list()\n",
    "gennums = tmdbmovies['genre_ids'].to_list()"
   ]
  },
  {
   "cell_type": "code",
   "execution_count": 7,
   "metadata": {},
   "outputs": [],
   "source": [
    "#Create empty DataFrame\n",
    "genresnp = np.zeros(shape=(26517, 19))\n",
    "genre = pd.DataFrame(genresnp, columns = v)\n",
    "genre = genre.applymap(lambda x: int(x))\n",
    "genre['titles'] = titles\n",
    "genre = genre.set_index('titles')"
   ]
  },
  {
   "cell_type": "code",
   "execution_count": 8,
   "metadata": {},
   "outputs": [],
   "source": [
    "#Make list of lists of ints out of list of strings of lists of ints. It was as hard as it is confusing.\n",
    "gennums = [i.strip(\"[]\").split(\", \") for i in gennums] \n",
    "gennums = [[int(j) for j in i if j] for i in gennums]"
   ]
  },
  {
   "cell_type": "code",
   "execution_count": 9,
   "metadata": {},
   "outputs": [],
   "source": [
    "#Use list of int genres as keys to produce names of genres in genre dictionary.\n",
    "gennums = [[gendic[j] for j in i if j] for i in gennums]\n",
    "gennums\n",
    "n= -1\n",
    "for i in gennums:\n",
    "    n += 1\n",
    "    for j in i:\n",
    "        if j:\n",
    "            genre.iloc[n].loc[j] += 1\n",
    "genre\n",
    "genres = genre.columns"
   ]
  },
  {
   "cell_type": "code",
   "execution_count": 10,
   "metadata": {},
   "outputs": [
    {
     "output_type": "execute_result",
     "data": {
      "text/plain": [
       "                                              Action  Adventure  Animation  \\\n",
       "titles                                                                       \n",
       "Harry Potter and the Deathly Hallows: Part 1       0          1          0   \n",
       "How to Train Your Dragon                           0          1          1   \n",
       "Iron Man 2                                         1          1          0   \n",
       "Toy Story                                          0          0          1   \n",
       "Inception                                          1          1          0   \n",
       "...                                              ...        ...        ...   \n",
       "Laboratory Conditions                              0          0          0   \n",
       "_EXHIBIT_84xxx_                                    0          0          0   \n",
       "The Last One                                       1          1          0   \n",
       "Trailer Made                                       1          1          0   \n",
       "The Church                                         0          0          0   \n",
       "\n",
       "                                              Comedy  Crime  Documentary  \\\n",
       "titles                                                                     \n",
       "Harry Potter and the Deathly Hallows: Part 1       0      0            0   \n",
       "How to Train Your Dragon                           0      0            0   \n",
       "Iron Man 2                                         0      0            0   \n",
       "Toy Story                                          1      0            0   \n",
       "Inception                                          0      0            0   \n",
       "...                                              ...    ...          ...   \n",
       "Laboratory Conditions                              0      0            0   \n",
       "_EXHIBIT_84xxx_                                    0      0            0   \n",
       "The Last One                                       0      0            0   \n",
       "Trailer Made                                       0      0            0   \n",
       "The Church                                         0      0            0   \n",
       "\n",
       "                                              Drama  Family  Fantasy  History  \\\n",
       "titles                                                                          \n",
       "Harry Potter and the Deathly Hallows: Part 1      0       1        1        0   \n",
       "How to Train Your Dragon                          0       1        1        0   \n",
       "Iron Man 2                                        0       0        0        0   \n",
       "Toy Story                                         0       1        0        0   \n",
       "Inception                                         0       0        0        0   \n",
       "...                                             ...     ...      ...      ...   \n",
       "Laboratory Conditions                             1       0        0        0   \n",
       "_EXHIBIT_84xxx_                                   1       0        0        0   \n",
       "The Last One                                      0       0        1        0   \n",
       "Trailer Made                                      0       1        0        0   \n",
       "The Church                                        0       0        0        0   \n",
       "\n",
       "                                              Horror  Music  Mystery  Romance  \\\n",
       "titles                                                                          \n",
       "Harry Potter and the Deathly Hallows: Part 1       0      0        0        0   \n",
       "How to Train Your Dragon                           0      0        0        0   \n",
       "Iron Man 2                                         0      0        0        0   \n",
       "Toy Story                                          0      0        0        0   \n",
       "Inception                                          0      0        0        0   \n",
       "...                                              ...    ...      ...      ...   \n",
       "Laboratory Conditions                              1      0        0        0   \n",
       "_EXHIBIT_84xxx_                                    0      0        0        0   \n",
       "The Last One                                       0      0        0        0   \n",
       "Trailer Made                                       0      0        0        0   \n",
       "The Church                                         1      0        0        0   \n",
       "\n",
       "                                              Science Fiction  TV Movie  \\\n",
       "titles                                                                    \n",
       "Harry Potter and the Deathly Hallows: Part 1                0         0   \n",
       "How to Train Your Dragon                                    0         0   \n",
       "Iron Man 2                                                  1         0   \n",
       "Toy Story                                                   0         0   \n",
       "Inception                                                   1         0   \n",
       "...                                                       ...       ...   \n",
       "Laboratory Conditions                                       0         0   \n",
       "_EXHIBIT_84xxx_                                             0         0   \n",
       "The Last One                                                0         0   \n",
       "Trailer Made                                                0         0   \n",
       "The Church                                                  0         0   \n",
       "\n",
       "                                              Thriller  War  Western  \n",
       "titles                                                                \n",
       "Harry Potter and the Deathly Hallows: Part 1         0    0        0  \n",
       "How to Train Your Dragon                             0    0        0  \n",
       "Iron Man 2                                           0    0        0  \n",
       "Toy Story                                            0    0        0  \n",
       "Inception                                            0    0        0  \n",
       "...                                                ...  ...      ...  \n",
       "Laboratory Conditions                                0    0        0  \n",
       "_EXHIBIT_84xxx_                                      1    0        0  \n",
       "The Last One                                         0    0        0  \n",
       "Trailer Made                                         0    0        0  \n",
       "The Church                                           1    0        0  \n",
       "\n",
       "[26517 rows x 19 columns]"
      ],
      "text/html": "<div>\n<style scoped>\n    .dataframe tbody tr th:only-of-type {\n        vertical-align: middle;\n    }\n\n    .dataframe tbody tr th {\n        vertical-align: top;\n    }\n\n    .dataframe thead th {\n        text-align: right;\n    }\n</style>\n<table border=\"1\" class=\"dataframe\">\n  <thead>\n    <tr style=\"text-align: right;\">\n      <th></th>\n      <th>Action</th>\n      <th>Adventure</th>\n      <th>Animation</th>\n      <th>Comedy</th>\n      <th>Crime</th>\n      <th>Documentary</th>\n      <th>Drama</th>\n      <th>Family</th>\n      <th>Fantasy</th>\n      <th>History</th>\n      <th>Horror</th>\n      <th>Music</th>\n      <th>Mystery</th>\n      <th>Romance</th>\n      <th>Science Fiction</th>\n      <th>TV Movie</th>\n      <th>Thriller</th>\n      <th>War</th>\n      <th>Western</th>\n    </tr>\n    <tr>\n      <th>titles</th>\n      <th></th>\n      <th></th>\n      <th></th>\n      <th></th>\n      <th></th>\n      <th></th>\n      <th></th>\n      <th></th>\n      <th></th>\n      <th></th>\n      <th></th>\n      <th></th>\n      <th></th>\n      <th></th>\n      <th></th>\n      <th></th>\n      <th></th>\n      <th></th>\n      <th></th>\n    </tr>\n  </thead>\n  <tbody>\n    <tr>\n      <th>Harry Potter and the Deathly Hallows: Part 1</th>\n      <td>0</td>\n      <td>1</td>\n      <td>0</td>\n      <td>0</td>\n      <td>0</td>\n      <td>0</td>\n      <td>0</td>\n      <td>1</td>\n      <td>1</td>\n      <td>0</td>\n      <td>0</td>\n      <td>0</td>\n      <td>0</td>\n      <td>0</td>\n      <td>0</td>\n      <td>0</td>\n      <td>0</td>\n      <td>0</td>\n      <td>0</td>\n    </tr>\n    <tr>\n      <th>How to Train Your Dragon</th>\n      <td>0</td>\n      <td>1</td>\n      <td>1</td>\n      <td>0</td>\n      <td>0</td>\n      <td>0</td>\n      <td>0</td>\n      <td>1</td>\n      <td>1</td>\n      <td>0</td>\n      <td>0</td>\n      <td>0</td>\n      <td>0</td>\n      <td>0</td>\n      <td>0</td>\n      <td>0</td>\n      <td>0</td>\n      <td>0</td>\n      <td>0</td>\n    </tr>\n    <tr>\n      <th>Iron Man 2</th>\n      <td>1</td>\n      <td>1</td>\n      <td>0</td>\n      <td>0</td>\n      <td>0</td>\n      <td>0</td>\n      <td>0</td>\n      <td>0</td>\n      <td>0</td>\n      <td>0</td>\n      <td>0</td>\n      <td>0</td>\n      <td>0</td>\n      <td>0</td>\n      <td>1</td>\n      <td>0</td>\n      <td>0</td>\n      <td>0</td>\n      <td>0</td>\n    </tr>\n    <tr>\n      <th>Toy Story</th>\n      <td>0</td>\n      <td>0</td>\n      <td>1</td>\n      <td>1</td>\n      <td>0</td>\n      <td>0</td>\n      <td>0</td>\n      <td>1</td>\n      <td>0</td>\n      <td>0</td>\n      <td>0</td>\n      <td>0</td>\n      <td>0</td>\n      <td>0</td>\n      <td>0</td>\n      <td>0</td>\n      <td>0</td>\n      <td>0</td>\n      <td>0</td>\n    </tr>\n    <tr>\n      <th>Inception</th>\n      <td>1</td>\n      <td>1</td>\n      <td>0</td>\n      <td>0</td>\n      <td>0</td>\n      <td>0</td>\n      <td>0</td>\n      <td>0</td>\n      <td>0</td>\n      <td>0</td>\n      <td>0</td>\n      <td>0</td>\n      <td>0</td>\n      <td>0</td>\n      <td>1</td>\n      <td>0</td>\n      <td>0</td>\n      <td>0</td>\n      <td>0</td>\n    </tr>\n    <tr>\n      <th>...</th>\n      <td>...</td>\n      <td>...</td>\n      <td>...</td>\n      <td>...</td>\n      <td>...</td>\n      <td>...</td>\n      <td>...</td>\n      <td>...</td>\n      <td>...</td>\n      <td>...</td>\n      <td>...</td>\n      <td>...</td>\n      <td>...</td>\n      <td>...</td>\n      <td>...</td>\n      <td>...</td>\n      <td>...</td>\n      <td>...</td>\n      <td>...</td>\n    </tr>\n    <tr>\n      <th>Laboratory Conditions</th>\n      <td>0</td>\n      <td>0</td>\n      <td>0</td>\n      <td>0</td>\n      <td>0</td>\n      <td>0</td>\n      <td>1</td>\n      <td>0</td>\n      <td>0</td>\n      <td>0</td>\n      <td>1</td>\n      <td>0</td>\n      <td>0</td>\n      <td>0</td>\n      <td>0</td>\n      <td>0</td>\n      <td>0</td>\n      <td>0</td>\n      <td>0</td>\n    </tr>\n    <tr>\n      <th>_EXHIBIT_84xxx_</th>\n      <td>0</td>\n      <td>0</td>\n      <td>0</td>\n      <td>0</td>\n      <td>0</td>\n      <td>0</td>\n      <td>1</td>\n      <td>0</td>\n      <td>0</td>\n      <td>0</td>\n      <td>0</td>\n      <td>0</td>\n      <td>0</td>\n      <td>0</td>\n      <td>0</td>\n      <td>0</td>\n      <td>1</td>\n      <td>0</td>\n      <td>0</td>\n    </tr>\n    <tr>\n      <th>The Last One</th>\n      <td>1</td>\n      <td>1</td>\n      <td>0</td>\n      <td>0</td>\n      <td>0</td>\n      <td>0</td>\n      <td>0</td>\n      <td>0</td>\n      <td>1</td>\n      <td>0</td>\n      <td>0</td>\n      <td>0</td>\n      <td>0</td>\n      <td>0</td>\n      <td>0</td>\n      <td>0</td>\n      <td>0</td>\n      <td>0</td>\n      <td>0</td>\n    </tr>\n    <tr>\n      <th>Trailer Made</th>\n      <td>1</td>\n      <td>1</td>\n      <td>0</td>\n      <td>0</td>\n      <td>0</td>\n      <td>0</td>\n      <td>0</td>\n      <td>1</td>\n      <td>0</td>\n      <td>0</td>\n      <td>0</td>\n      <td>0</td>\n      <td>0</td>\n      <td>0</td>\n      <td>0</td>\n      <td>0</td>\n      <td>0</td>\n      <td>0</td>\n      <td>0</td>\n    </tr>\n    <tr>\n      <th>The Church</th>\n      <td>0</td>\n      <td>0</td>\n      <td>0</td>\n      <td>0</td>\n      <td>0</td>\n      <td>0</td>\n      <td>0</td>\n      <td>0</td>\n      <td>0</td>\n      <td>0</td>\n      <td>1</td>\n      <td>0</td>\n      <td>0</td>\n      <td>0</td>\n      <td>0</td>\n      <td>0</td>\n      <td>1</td>\n      <td>0</td>\n      <td>0</td>\n    </tr>\n  </tbody>\n</table>\n<p>26517 rows × 19 columns</p>\n</div>"
     },
     "metadata": {},
     "execution_count": 10
    }
   ],
   "source": [
    "genre"
   ]
  },
  {
   "cell_type": "code",
   "execution_count": 10,
   "metadata": {},
   "outputs": [
    {
     "output_type": "error",
     "ename": "ValueError",
     "evalue": "cannot reindex from a duplicate axis",
     "traceback": [
      "\u001b[1;31m---------------------------------------------------------------------------\u001b[0m",
      "\u001b[1;31mValueError\u001b[0m                                Traceback (most recent call last)",
      "\u001b[1;32m<ipython-input-10-7b000b90abcd>\u001b[0m in \u001b[0;36m<module>\u001b[1;34m\u001b[0m\n\u001b[0;32m      1\u001b[0m \u001b[0mmjgross\u001b[0m \u001b[1;33m=\u001b[0m \u001b[0mmjgross\u001b[0m\u001b[1;33m[\u001b[0m\u001b[1;33m~\u001b[0m\u001b[0mmjgross\u001b[0m\u001b[1;33m[\u001b[0m\u001b[1;34m'title'\u001b[0m\u001b[1;33m]\u001b[0m\u001b[1;33m.\u001b[0m\u001b[0mduplicated\u001b[0m\u001b[1;33m(\u001b[0m\u001b[1;33m)\u001b[0m\u001b[1;33m]\u001b[0m\u001b[1;33m\u001b[0m\u001b[1;33m\u001b[0m\u001b[0m\n\u001b[1;32m----> 2\u001b[1;33m \u001b[0mgenre\u001b[0m\u001b[1;33m.\u001b[0m\u001b[0mreindex\u001b[0m\u001b[1;33m(\u001b[0m\u001b[0mlist\u001b[0m\u001b[1;33m(\u001b[0m\u001b[0mmjgross\u001b[0m\u001b[1;33m[\u001b[0m\u001b[1;34m'title'\u001b[0m\u001b[1;33m]\u001b[0m\u001b[1;33m)\u001b[0m\u001b[1;33m)\u001b[0m\u001b[1;33m\u001b[0m\u001b[1;33m\u001b[0m\u001b[0m\n\u001b[0m\u001b[0;32m      3\u001b[0m \u001b[0mgenre\u001b[0m\u001b[1;33m\u001b[0m\u001b[1;33m\u001b[0m\u001b[0m\n",
      "\u001b[1;32m~\\anaconda3\\lib\\site-packages\\pandas\\util\\_decorators.py\u001b[0m in \u001b[0;36mwrapper\u001b[1;34m(*args, **kwargs)\u001b[0m\n\u001b[0;32m    225\u001b[0m         \u001b[1;33m@\u001b[0m\u001b[0mwraps\u001b[0m\u001b[1;33m(\u001b[0m\u001b[0mfunc\u001b[0m\u001b[1;33m)\u001b[0m\u001b[1;33m\u001b[0m\u001b[1;33m\u001b[0m\u001b[0m\n\u001b[0;32m    226\u001b[0m         \u001b[1;32mdef\u001b[0m \u001b[0mwrapper\u001b[0m\u001b[1;33m(\u001b[0m\u001b[1;33m*\u001b[0m\u001b[0margs\u001b[0m\u001b[1;33m,\u001b[0m \u001b[1;33m**\u001b[0m\u001b[0mkwargs\u001b[0m\u001b[1;33m)\u001b[0m \u001b[1;33m->\u001b[0m \u001b[0mCallable\u001b[0m\u001b[1;33m[\u001b[0m\u001b[1;33m...\u001b[0m\u001b[1;33m,\u001b[0m \u001b[0mAny\u001b[0m\u001b[1;33m]\u001b[0m\u001b[1;33m:\u001b[0m\u001b[1;33m\u001b[0m\u001b[1;33m\u001b[0m\u001b[0m\n\u001b[1;32m--> 227\u001b[1;33m             \u001b[1;32mreturn\u001b[0m \u001b[0mfunc\u001b[0m\u001b[1;33m(\u001b[0m\u001b[1;33m*\u001b[0m\u001b[0margs\u001b[0m\u001b[1;33m,\u001b[0m \u001b[1;33m**\u001b[0m\u001b[0mkwargs\u001b[0m\u001b[1;33m)\u001b[0m\u001b[1;33m\u001b[0m\u001b[1;33m\u001b[0m\u001b[0m\n\u001b[0m\u001b[0;32m    228\u001b[0m \u001b[1;33m\u001b[0m\u001b[0m\n\u001b[0;32m    229\u001b[0m         \u001b[0mkind\u001b[0m \u001b[1;33m=\u001b[0m \u001b[0minspect\u001b[0m\u001b[1;33m.\u001b[0m\u001b[0mParameter\u001b[0m\u001b[1;33m.\u001b[0m\u001b[0mPOSITIONAL_OR_KEYWORD\u001b[0m\u001b[1;33m\u001b[0m\u001b[1;33m\u001b[0m\u001b[0m\n",
      "\u001b[1;32m~\\anaconda3\\lib\\site-packages\\pandas\\core\\frame.py\u001b[0m in \u001b[0;36mreindex\u001b[1;34m(self, *args, **kwargs)\u001b[0m\n\u001b[0;32m   3854\u001b[0m         \u001b[0mkwargs\u001b[0m\u001b[1;33m.\u001b[0m\u001b[0mpop\u001b[0m\u001b[1;33m(\u001b[0m\u001b[1;34m\"axis\"\u001b[0m\u001b[1;33m,\u001b[0m \u001b[1;32mNone\u001b[0m\u001b[1;33m)\u001b[0m\u001b[1;33m\u001b[0m\u001b[1;33m\u001b[0m\u001b[0m\n\u001b[0;32m   3855\u001b[0m         \u001b[0mkwargs\u001b[0m\u001b[1;33m.\u001b[0m\u001b[0mpop\u001b[0m\u001b[1;33m(\u001b[0m\u001b[1;34m\"labels\"\u001b[0m\u001b[1;33m,\u001b[0m \u001b[1;32mNone\u001b[0m\u001b[1;33m)\u001b[0m\u001b[1;33m\u001b[0m\u001b[1;33m\u001b[0m\u001b[0m\n\u001b[1;32m-> 3856\u001b[1;33m         \u001b[1;32mreturn\u001b[0m \u001b[0msuper\u001b[0m\u001b[1;33m(\u001b[0m\u001b[1;33m)\u001b[0m\u001b[1;33m.\u001b[0m\u001b[0mreindex\u001b[0m\u001b[1;33m(\u001b[0m\u001b[1;33m**\u001b[0m\u001b[0mkwargs\u001b[0m\u001b[1;33m)\u001b[0m\u001b[1;33m\u001b[0m\u001b[1;33m\u001b[0m\u001b[0m\n\u001b[0m\u001b[0;32m   3857\u001b[0m \u001b[1;33m\u001b[0m\u001b[0m\n\u001b[0;32m   3858\u001b[0m     def drop(\n",
      "\u001b[1;32m~\\anaconda3\\lib\\site-packages\\pandas\\core\\generic.py\u001b[0m in \u001b[0;36mreindex\u001b[1;34m(self, *args, **kwargs)\u001b[0m\n\u001b[0;32m   4541\u001b[0m \u001b[1;33m\u001b[0m\u001b[0m\n\u001b[0;32m   4542\u001b[0m         \u001b[1;31m# perform the reindex on the axes\u001b[0m\u001b[1;33m\u001b[0m\u001b[1;33m\u001b[0m\u001b[1;33m\u001b[0m\u001b[0m\n\u001b[1;32m-> 4543\u001b[1;33m         return self._reindex_axes(\n\u001b[0m\u001b[0;32m   4544\u001b[0m             \u001b[0maxes\u001b[0m\u001b[1;33m,\u001b[0m \u001b[0mlevel\u001b[0m\u001b[1;33m,\u001b[0m \u001b[0mlimit\u001b[0m\u001b[1;33m,\u001b[0m \u001b[0mtolerance\u001b[0m\u001b[1;33m,\u001b[0m \u001b[0mmethod\u001b[0m\u001b[1;33m,\u001b[0m \u001b[0mfill_value\u001b[0m\u001b[1;33m,\u001b[0m \u001b[0mcopy\u001b[0m\u001b[1;33m\u001b[0m\u001b[1;33m\u001b[0m\u001b[0m\n\u001b[0;32m   4545\u001b[0m         ).__finalize__(self)\n",
      "\u001b[1;32m~\\anaconda3\\lib\\site-packages\\pandas\\core\\frame.py\u001b[0m in \u001b[0;36m_reindex_axes\u001b[1;34m(self, axes, level, limit, tolerance, method, fill_value, copy)\u001b[0m\n\u001b[0;32m   3741\u001b[0m         \u001b[0mindex\u001b[0m \u001b[1;33m=\u001b[0m \u001b[0maxes\u001b[0m\u001b[1;33m[\u001b[0m\u001b[1;34m\"index\"\u001b[0m\u001b[1;33m]\u001b[0m\u001b[1;33m\u001b[0m\u001b[1;33m\u001b[0m\u001b[0m\n\u001b[0;32m   3742\u001b[0m         \u001b[1;32mif\u001b[0m \u001b[0mindex\u001b[0m \u001b[1;32mis\u001b[0m \u001b[1;32mnot\u001b[0m \u001b[1;32mNone\u001b[0m\u001b[1;33m:\u001b[0m\u001b[1;33m\u001b[0m\u001b[1;33m\u001b[0m\u001b[0m\n\u001b[1;32m-> 3743\u001b[1;33m             frame = frame._reindex_index(\n\u001b[0m\u001b[0;32m   3744\u001b[0m                 \u001b[0mindex\u001b[0m\u001b[1;33m,\u001b[0m \u001b[0mmethod\u001b[0m\u001b[1;33m,\u001b[0m \u001b[0mcopy\u001b[0m\u001b[1;33m,\u001b[0m \u001b[0mlevel\u001b[0m\u001b[1;33m,\u001b[0m \u001b[0mfill_value\u001b[0m\u001b[1;33m,\u001b[0m \u001b[0mlimit\u001b[0m\u001b[1;33m,\u001b[0m \u001b[0mtolerance\u001b[0m\u001b[1;33m\u001b[0m\u001b[1;33m\u001b[0m\u001b[0m\n\u001b[0;32m   3745\u001b[0m             )\n",
      "\u001b[1;32m~\\anaconda3\\lib\\site-packages\\pandas\\core\\frame.py\u001b[0m in \u001b[0;36m_reindex_index\u001b[1;34m(self, new_index, method, copy, level, fill_value, limit, tolerance)\u001b[0m\n\u001b[0;32m   3760\u001b[0m             \u001b[0mnew_index\u001b[0m\u001b[1;33m,\u001b[0m \u001b[0mmethod\u001b[0m\u001b[1;33m=\u001b[0m\u001b[0mmethod\u001b[0m\u001b[1;33m,\u001b[0m \u001b[0mlevel\u001b[0m\u001b[1;33m=\u001b[0m\u001b[0mlevel\u001b[0m\u001b[1;33m,\u001b[0m \u001b[0mlimit\u001b[0m\u001b[1;33m=\u001b[0m\u001b[0mlimit\u001b[0m\u001b[1;33m,\u001b[0m \u001b[0mtolerance\u001b[0m\u001b[1;33m=\u001b[0m\u001b[0mtolerance\u001b[0m\u001b[1;33m\u001b[0m\u001b[1;33m\u001b[0m\u001b[0m\n\u001b[0;32m   3761\u001b[0m         )\n\u001b[1;32m-> 3762\u001b[1;33m         return self._reindex_with_indexers(\n\u001b[0m\u001b[0;32m   3763\u001b[0m             \u001b[1;33m{\u001b[0m\u001b[1;36m0\u001b[0m\u001b[1;33m:\u001b[0m \u001b[1;33m[\u001b[0m\u001b[0mnew_index\u001b[0m\u001b[1;33m,\u001b[0m \u001b[0mindexer\u001b[0m\u001b[1;33m]\u001b[0m\u001b[1;33m}\u001b[0m\u001b[1;33m,\u001b[0m\u001b[1;33m\u001b[0m\u001b[1;33m\u001b[0m\u001b[0m\n\u001b[0;32m   3764\u001b[0m             \u001b[0mcopy\u001b[0m\u001b[1;33m=\u001b[0m\u001b[0mcopy\u001b[0m\u001b[1;33m,\u001b[0m\u001b[1;33m\u001b[0m\u001b[1;33m\u001b[0m\u001b[0m\n",
      "\u001b[1;32m~\\anaconda3\\lib\\site-packages\\pandas\\core\\generic.py\u001b[0m in \u001b[0;36m_reindex_with_indexers\u001b[1;34m(self, reindexers, fill_value, copy, allow_dups)\u001b[0m\n\u001b[0;32m   4605\u001b[0m \u001b[1;33m\u001b[0m\u001b[0m\n\u001b[0;32m   4606\u001b[0m             \u001b[1;31m# TODO: speed up on homogeneous DataFrame objects\u001b[0m\u001b[1;33m\u001b[0m\u001b[1;33m\u001b[0m\u001b[1;33m\u001b[0m\u001b[0m\n\u001b[1;32m-> 4607\u001b[1;33m             new_data = new_data.reindex_indexer(\n\u001b[0m\u001b[0;32m   4608\u001b[0m                 \u001b[0mindex\u001b[0m\u001b[1;33m,\u001b[0m\u001b[1;33m\u001b[0m\u001b[1;33m\u001b[0m\u001b[0m\n\u001b[0;32m   4609\u001b[0m                 \u001b[0mindexer\u001b[0m\u001b[1;33m,\u001b[0m\u001b[1;33m\u001b[0m\u001b[1;33m\u001b[0m\u001b[0m\n",
      "\u001b[1;32m~\\anaconda3\\lib\\site-packages\\pandas\\core\\internals\\managers.py\u001b[0m in \u001b[0;36mreindex_indexer\u001b[1;34m(self, new_axis, indexer, axis, fill_value, allow_dups, copy)\u001b[0m\n\u001b[0;32m   1249\u001b[0m         \u001b[1;31m# some axes don't allow reindexing with dups\u001b[0m\u001b[1;33m\u001b[0m\u001b[1;33m\u001b[0m\u001b[1;33m\u001b[0m\u001b[0m\n\u001b[0;32m   1250\u001b[0m         \u001b[1;32mif\u001b[0m \u001b[1;32mnot\u001b[0m \u001b[0mallow_dups\u001b[0m\u001b[1;33m:\u001b[0m\u001b[1;33m\u001b[0m\u001b[1;33m\u001b[0m\u001b[0m\n\u001b[1;32m-> 1251\u001b[1;33m             \u001b[0mself\u001b[0m\u001b[1;33m.\u001b[0m\u001b[0maxes\u001b[0m\u001b[1;33m[\u001b[0m\u001b[0maxis\u001b[0m\u001b[1;33m]\u001b[0m\u001b[1;33m.\u001b[0m\u001b[0m_can_reindex\u001b[0m\u001b[1;33m(\u001b[0m\u001b[0mindexer\u001b[0m\u001b[1;33m)\u001b[0m\u001b[1;33m\u001b[0m\u001b[1;33m\u001b[0m\u001b[0m\n\u001b[0m\u001b[0;32m   1252\u001b[0m \u001b[1;33m\u001b[0m\u001b[0m\n\u001b[0;32m   1253\u001b[0m         \u001b[1;32mif\u001b[0m \u001b[0maxis\u001b[0m \u001b[1;33m>=\u001b[0m \u001b[0mself\u001b[0m\u001b[1;33m.\u001b[0m\u001b[0mndim\u001b[0m\u001b[1;33m:\u001b[0m\u001b[1;33m\u001b[0m\u001b[1;33m\u001b[0m\u001b[0m\n",
      "\u001b[1;32m~\\anaconda3\\lib\\site-packages\\pandas\\core\\indexes\\base.py\u001b[0m in \u001b[0;36m_can_reindex\u001b[1;34m(self, indexer)\u001b[0m\n\u001b[0;32m   3097\u001b[0m         \u001b[1;31m# trying to reindex on an axis with duplicates\u001b[0m\u001b[1;33m\u001b[0m\u001b[1;33m\u001b[0m\u001b[1;33m\u001b[0m\u001b[0m\n\u001b[0;32m   3098\u001b[0m         \u001b[1;32mif\u001b[0m \u001b[1;32mnot\u001b[0m \u001b[0mself\u001b[0m\u001b[1;33m.\u001b[0m\u001b[0mis_unique\u001b[0m \u001b[1;32mand\u001b[0m \u001b[0mlen\u001b[0m\u001b[1;33m(\u001b[0m\u001b[0mindexer\u001b[0m\u001b[1;33m)\u001b[0m\u001b[1;33m:\u001b[0m\u001b[1;33m\u001b[0m\u001b[1;33m\u001b[0m\u001b[0m\n\u001b[1;32m-> 3099\u001b[1;33m             \u001b[1;32mraise\u001b[0m \u001b[0mValueError\u001b[0m\u001b[1;33m(\u001b[0m\u001b[1;34m\"cannot reindex from a duplicate axis\"\u001b[0m\u001b[1;33m)\u001b[0m\u001b[1;33m\u001b[0m\u001b[1;33m\u001b[0m\u001b[0m\n\u001b[0m\u001b[0;32m   3100\u001b[0m \u001b[1;33m\u001b[0m\u001b[0m\n\u001b[0;32m   3101\u001b[0m     \u001b[1;32mdef\u001b[0m \u001b[0mreindex\u001b[0m\u001b[1;33m(\u001b[0m\u001b[0mself\u001b[0m\u001b[1;33m,\u001b[0m \u001b[0mtarget\u001b[0m\u001b[1;33m,\u001b[0m \u001b[0mmethod\u001b[0m\u001b[1;33m=\u001b[0m\u001b[1;32mNone\u001b[0m\u001b[1;33m,\u001b[0m \u001b[0mlevel\u001b[0m\u001b[1;33m=\u001b[0m\u001b[1;32mNone\u001b[0m\u001b[1;33m,\u001b[0m \u001b[0mlimit\u001b[0m\u001b[1;33m=\u001b[0m\u001b[1;32mNone\u001b[0m\u001b[1;33m,\u001b[0m \u001b[0mtolerance\u001b[0m\u001b[1;33m=\u001b[0m\u001b[1;32mNone\u001b[0m\u001b[1;33m)\u001b[0m\u001b[1;33m:\u001b[0m\u001b[1;33m\u001b[0m\u001b[1;33m\u001b[0m\u001b[0m\n",
      "\u001b[1;31mValueError\u001b[0m: cannot reindex from a duplicate axis"
     ]
    }
   ],
   "source": [
    "mjgross = mjgross[~mjgross['title'].duplicated()]\n",
    "genre.reindex(list(mjgross['title']))\n",
    "genre"
   ]
  },
  {
   "cell_type": "code",
   "execution_count": null,
   "metadata": {},
   "outputs": [],
   "source": [
    "#list of movies that made over $400 million\n",
    "top21 = ['Toy Story',\n",
    " 'The Avengers',\n",
    " 'The Dark Knight Rises',\n",
    " 'The Hunger Games',\n",
    " 'Frozen',\n",
    " 'Iron Man 3',\n",
    " 'The Hunger Games: Catching Fire',\n",
    " 'Star Wars: The Force Awakens',\n",
    " 'Jurassic World',\n",
    " 'Avengers: Age of Ultron',\n",
    " 'Captain America: Civil War',\n",
    " 'Rogue One: A Star Wars Story',\n",
    " 'Finding Dory',\n",
    " 'Star Wars: The Last Jedi',\n",
    " 'Beauty and the Beast',\n",
    " 'Jumanji: Welcome to the Jungle',\n",
    " 'Wonder Woman',\n",
    " 'Avengers: Infinity War',\n",
    " 'Black Panther',\n",
    " 'Jurassic World: Fallen Kingdom',\n",
    " 'Incredibles 2']"
   ]
  },
  {
   "cell_type": "code",
   "execution_count": null,
   "metadata": {},
   "outputs": [],
   "source": [
    "#list of amounts the movies made\n",
    "moneybank = [415000000.0,\n",
    " 623400000,\n",
    " 448100000,\n",
    " 408000000,\n",
    " 400700000,\n",
    " 409000000,\n",
    " 424700000,\n",
    " 936700000,\n",
    " 652300000,\n",
    " 459000000,\n",
    " 408100000,\n",
    " 532200000,\n",
    " 486300000,\n",
    " 620200000,\n",
    " 504000000,\n",
    " 404500000,\n",
    " 412600000,\n",
    " 678800000,\n",
    " 700100000,\n",
    " 417700000,\n",
    " 608600000]"
   ]
  },
  {
   "cell_type": "code",
   "execution_count": null,
   "metadata": {},
   "outputs": [],
   "source": [
    "# New df of genres of top 21 movies\n",
    "genre21 = genre[~genre.index.duplicated()]\n",
    "genre21 = genre21.reindex(top21)"
   ]
  },
  {
   "cell_type": "code",
   "execution_count": null,
   "metadata": {},
   "outputs": [],
   "source": [
    "# Add columns for domestic gross and budget\n",
    "genre21 = genre[~genre.index.duplicated()]\n",
    "genre21 = genre21.reindex(top21)\n",
    "genre21['domgross'] = moneybank\n",
    "tnbudgets = tnbudgets.set_index('movie')\n",
    "tnbudgets21 = tnbudgets[~tnbudgets.index.duplicated()]\n",
    "tnbudgets21 = tnbudgets21.reindex(top21)\n",
    "tnbudgets21.shape\n",
    "budgets21 = list(tnbudgets21['production_budget'])\n",
    "genre21['budget'] = budgets21"
   ]
  },
  {
   "cell_type": "code",
   "execution_count": null,
   "metadata": {},
   "outputs": [],
   "source": [
    "# Clean budget column.\n",
    "genre21['budget'] = genre21['budget'].str.replace(',','')\n",
    "genre21['budget'] = genre21['budget'].fillna(10)\n",
    "genre21['budget'] = genre21['budget'].apply(lambda x: int(str(x)[1:]))"
   ]
  },
  {
   "cell_type": "code",
   "execution_count": null,
   "metadata": {},
   "outputs": [],
   "source": [
    "# Found missing values using original source's website\n",
    "genre21.loc['Star Wars: The Force Awakens', 'budget'] = 306000000\n",
    "genre21.loc['Star Wars: The Last Jedi', 'budget'] = 200000000"
   ]
  },
  {
   "cell_type": "code",
   "execution_count": null,
   "metadata": {},
   "outputs": [],
   "source": [
    "# Use new columns to create informative columns\n",
    "genre21['return'] = genre21['domgross'] / genre21['budget'] \n",
    "genre21['profit'] = genre21['domgross'] - genre21['budget']"
   ]
  },
  {
   "cell_type": "code",
   "execution_count": null,
   "metadata": {},
   "outputs": [],
   "source": [
    "# #Researched Rotten Tomatoes website, reformat list to conform to url structure\n",
    "# top = []\n",
    "# for movie in top21:\n",
    "#     movie = movie.replace(' ', '_').replace(':', '').replace(\"'\",'')\n",
    "#     top.append(movie)\n",
    "# # Manually fix two entries that are named differently. Not sure how to automate.\n",
    "# top[14] = 'beauty_and_the_beast_2017'\n",
    "# top[7] = 'star_wars_episode_vii_the_force_awakens'\n",
    "# top[1] = 'marvels_the_avengers'\n",
    "# # Web Scrape RT to find critic and audience ratings for top 21 movies\n",
    "# critic_ratings = []\n",
    "# audience_ratings = []\n",
    "# for i in range(21):\n",
    "#     url = 'http://www.rottentomatoes.com/m/{}'.format(top[i])\n",
    "#     html_page = requests.get(url)\n",
    "#     soup = BeautifulSoup(html_page.content, 'html.parser')\n",
    "#     try:\n",
    "#         critic_ratings.append(soup.find('span', class_=\"mop-ratings-wrap__percentage\").text.strip())\n",
    "#     except:\n",
    "#         critic_ratings.append(top[i])\n",
    "#     try:\n",
    "#         audience_ratings.append(soup.find('span', class_=\"mop-ratings-wrap__percentage\").text.strip())\n",
    "#     except:\n",
    "#         audience_ratings.append(top[i])"
   ]
  },
  {
   "cell_type": "code",
   "execution_count": null,
   "metadata": {},
   "outputs": [],
   "source": [
    "# Add two new columns for ratings, clean and convert\n",
    "# genre21['critics'] = critic_ratings\n",
    "# genre21['audiences'] = audience_ratings\n",
    "# genre21['audiences'] = genre21['audiences'].apply(lambda x: int(x[0:-1]))\n",
    "# genre21['critics'] = genre21['critics'].apply(lambda x: int(x[0:-1]))\n",
    "# for c in genre21.columns:\n",
    "#     if c == 'return':\n",
    "#         continue\n",
    "#     genre21[c] = genre21[c].apply(lambda x: int(x))\n",
    "# genre21['return'] = genre21['return'].apply(lambda x: round(x, 1))\n",
    "# genre21\n",
    "# genre21.loc[:, genre21.columns != 'return'].apply(lambda x: int(x))"
   ]
  },
  {
   "cell_type": "code",
   "execution_count": null,
   "metadata": {},
   "outputs": [],
   "source": [
    "returnbudgets = tnbudgets\n",
    "returnbudgets['production_budget'] = returnbudgets['production_budget'].str.replace(',','')\n",
    "returnbudgets['production_budget'] = returnbudgets['production_budget'].fillna(10)\n",
    "returnbudgets['production_budget'] = returnbudgets['production_budget'].apply(lambda x: int(str(x)[1:]))\n",
    "returnbudgets['domestic_gross'] = returnbudgets['domestic_gross'].str.replace(',','')\n",
    "returnbudgets['domestic_gross'] = returnbudgets['domestic_gross'].fillna(10)\n",
    "returnbudgets['domestic_gross'] = returnbudgets['domestic_gross'].apply(lambda x: int(str(x)[1:]))\n",
    "returnbudgets['return'] = returnbudgets['domestic_gross'] / returnbudgets['production_budget'] \n",
    "\n",
    "returnbudgets['release_date'] = pd.to_datetime(returnbudgets['release_date'])\n",
    "since2000 = returnbudgets[returnbudgets['release_date'] > '2000']\n",
    "since2000 = since2000.sort_values('return', ascending=False)\n",
    "since2000 = since2000[since2000['return'] > 1]"
   ]
  },
  {
   "cell_type": "code",
   "execution_count": null,
   "metadata": {},
   "outputs": [],
   "source": [
    "since2000"
   ]
  },
  {
   "cell_type": "code",
   "execution_count": null,
   "metadata": {},
   "outputs": [],
   "source": [
    "# t = tmdbmovies.set_index('title')\n",
    "# t = t[~t.index.duplicated()]\n",
    "# t = t.reindex(list(since2000.index))\n",
    "# t = t[t['genre_ids'].notnull()]\n",
    "# t"
   ]
  },
  {
   "cell_type": "code",
   "execution_count": null,
   "metadata": {},
   "outputs": [],
   "source": [
    "tmdbmovies"
   ]
  },
  {
   "cell_type": "code",
   "execution_count": null,
   "metadata": {},
   "outputs": [],
   "source": []
  },
  {
   "cell_type": "code",
   "execution_count": null,
   "metadata": {},
   "outputs": [],
   "source": [
    "genre"
   ]
  },
  {
   "cell_type": "code",
   "execution_count": null,
   "metadata": {},
   "outputs": [],
   "source": [
    "# genreval = {}\n",
    "# for row in genre.index:\n",
    "#     genrecount = 0\n",
    "#     for ge in genres:\n",
    "#         if genre.loc[row, ge]:\n",
    "#             if ge not in genreval:\n",
    "#                 genreval[ge] = since2010.loc[row, 'domestic_gross']\n",
    "#                 genrecount += 1\n",
    "#             else:\n",
    "#                 genreval[ge] += since2010.loc[row, 'domestic_gross']\n",
    "#                 genrecount += 1\n",
    "#         try:\n",
    "#             genreval[ge] = int(genreval[ge]) / genrecount\n",
    "#         except:\n",
    "#             continue\n",
    "# genreval"
   ]
  },
  {
   "cell_type": "code",
   "execution_count": null,
   "metadata": {},
   "outputs": [],
   "source": [
    "genres = list(genres)\n",
    "genrevalue = {}\n",
    "for row in genre21.index:\n",
    "    genrecount = 0\n",
    "    for genre in genres:\n",
    "        if genre21.loc[row, genre]:\n",
    "            if genre not in genrevalue:\n",
    "                genrevalue[genre] = genre21.loc[row, 'domgross']\n",
    "                genrecount += 1\n",
    "            else:\n",
    "                genrevalue[genre] += genre21.loc[row, 'domgross']\n",
    "                genrecount += 1\n",
    "        try:\n",
    "            genrevalue[genre] = int(genrevalue[genre]) / genrecount\n",
    "        except:\n",
    "            continue"
   ]
  },
  {
   "cell_type": "code",
   "execution_count": null,
   "metadata": {},
   "outputs": [],
   "source": [
    "genres = list(genre21.columns[:-6])\n",
    "genrevalue = {}\n",
    "for row in genre21.index:\n",
    "    genrecount = 0\n",
    "    for genre in genres:\n",
    "        if genre21.loc[row, genre]:\n",
    "            if genre not in genrevalue:\n",
    "                genrevalue[genre] = genre21.loc[row, 'domgross']\n",
    "                genrecount += 1\n",
    "            else:\n",
    "                genrevalue[genre] += genre21.loc[row, 'domgross']\n",
    "                genrecount += 1\n",
    "        try:\n",
    "            genrevalue[genre] = int(genrevalue[genre]) / genrecount\n",
    "        except:\n",
    "            continue\n",
    "genrevalue\n",
    "sortgenre = {k: v for k, v in sorted(genrevalue.items(), key=lambda item: item[1])}\n",
    "sortgenrenoaction = sortgenre\n",
    "del sortgenrenoaction['Action']"
   ]
  },
  {
   "cell_type": "code",
   "execution_count": null,
   "metadata": {},
   "outputs": [],
   "source": [
    "plt.bar(genrevalue.keys(), genrevalue.values())"
   ]
  },
  {
   "cell_type": "code",
   "execution_count": null,
   "metadata": {},
   "outputs": [],
   "source": [
    "plt.xticks(rotation=30)\n",
    "noaction = plt.bar(sortgenrenoaction.keys(), sortgenrenoaction.values())\n"
   ]
  },
  {
   "cell_type": "code",
   "execution_count": null,
   "metadata": {},
   "outputs": [],
   "source": [
    "noactionadventure = sortgenrenoaction\n",
    "del noactionadventure['Adventure']"
   ]
  },
  {
   "cell_type": "code",
   "execution_count": null,
   "metadata": {},
   "outputs": [],
   "source": [
    "plt.xticks(rotation=30)\n",
    "noactionadventureplot = plt.bar(noactionadventure.keys(), noactionadventure.values())"
   ]
  },
  {
   "cell_type": "code",
   "execution_count": null,
   "metadata": {},
   "outputs": [],
   "source": [
    "tnbudgets"
   ]
  },
  {
   "cell_type": "code",
   "execution_count": null,
   "metadata": {},
   "outputs": [],
   "source": []
  },
  {
   "cell_type": "code",
   "execution_count": null,
   "metadata": {},
   "outputs": [],
   "source": []
  },
  {
   "cell_type": "code",
   "execution_count": null,
   "metadata": {},
   "outputs": [],
   "source": [
    "# genreval = {}\n",
    "# for row in genre.index:\n",
    "#     genrecount = 0\n",
    "#     for ge in genres:\n",
    "#         if genre.loc[row, ge]:\n",
    "#             if ge not in genreval:\n",
    "#                 genreval[ge] = genre.loc[row, 'return']\n",
    "#                 genrecount += 1\n",
    "#             else:\n",
    "#                 genreval[ge] += genre.loc[row, 'return']\n",
    "#                 genrecount += 1\n",
    "#         try:\n",
    "#             genreval[ge] = int(genreval[ge]) / genrecount\n",
    "#         except:\n",
    "#             continue\n",
    "# genreval"
   ]
  },
  {
   "cell_type": "code",
   "execution_count": null,
   "metadata": {},
   "outputs": [],
   "source": []
  },
  {
   "cell_type": "code",
   "execution_count": null,
   "metadata": {},
   "outputs": [],
   "source": [
    "# # tmdbmovies['genre_ids'] = tmdbmovies['genre_ids'].apply(lambda x: ast.literal_eval(x))\n",
    "# # tmdbmovies['genre_ids'].isin([16]).sum()\n",
    "# # top3 = [28, 12, 16]\n",
    "# animatedmovies = tmdbmovies[tmdbmovies['genre_ids'].str.contains('16')]\n",
    "# anlist = list(animatedmovies.title)\n",
    "# genre21.columns\n",
    "\n",
    "\n",
    "# topan = []\n",
    "# for movie in anlist:\n",
    "#     movie = movie.replace(' ', '_').replace(':', '').replace(\"'\",'').replace('-','_').replace('!','').replace('.','').replace('&','').replace('?','').replace('(','').replace(')','').replace('#','').replace('__','_').replace('__','_')\n",
    "#     topan.append(movie)\n",
    "\n",
    "# critic_ratings = []\n",
    "# audience_ratings = []\n",
    "# mistake = []\n",
    "# ansuccess = []\n",
    "# for i in range(len(topan)):\n",
    "#     url = 'http://www.rottentomatoes.com/m/{}'.format(topan[i])\n",
    "#     html_page = requests.get(url)\n",
    "#     soup = BeautifulSoup(html_page.content, 'html.parser')\n",
    "#     try:\n",
    "#         critic_ratings.append(soup.find('span', class_=\"mop-ratings-wrap__percentage\").text.strip())\n",
    "#         ansuccess.append(topan[i])\n",
    "#     except:\n",
    "#         mistake.append(topan[i])\n",
    "#     try:\n",
    "#         audience_ratings.append(soup.find('span', class_=\"mop-ratings-wrap__percentage\").text.strip())\n",
    "#     except:\n",
    "#         mistake.append(topan[i])"
   ]
  },
  {
   "cell_type": "code",
   "execution_count": null,
   "metadata": {},
   "outputs": [],
   "source": [
    "# mistake = list(set(mistake))\n",
    "# critic_ratings\n",
    "andf = pd.DataFrame(index=ansuccess, columns=['domgross', 'budget', 'return', 'profit', 'critics', 'audiences'])\n",
    "andf"
   ]
  },
  {
   "cell_type": "code",
   "execution_count": null,
   "metadata": {},
   "outputs": [],
   "source": [
    "moneytable = tmdbmovies.merge(mjgross, on='title', how='inner')\n",
    "# moneytable['title'] = moneytable['title'].apply(lambda x: x.replace(' ', '_').replace(':', '').replace(\"'\",'').replace('-','_').replace('!','').replace('.','').replace('&','').replace('?','').replace('(','').replace(')','').replace('#','').replace('__','_').replace('__','_'))\n",
    "moneytable.set_index('title')\n",
    "# moneytable.reindex(anlist).notnull().sum()\n"
   ]
  },
  {
   "cell_type": "code",
   "execution_count": null,
   "metadata": {},
   "outputs": [],
   "source": [
    "mjgross[mjgross['title'] == 'Toy Story']"
   ]
  },
  {
   "cell_type": "code",
   "execution_count": null,
   "metadata": {},
   "outputs": [],
   "source": [
    "tmdbmovies"
   ]
  },
  {
   "cell_type": "code",
   "execution_count": null,
   "metadata": {},
   "outputs": [],
   "source": [
    "# tmdbmovies['hasTop3Genres'] = [True if all(elem in ast.literal_eval(g) for elem in top3) else False for g in tmdbmovies['genre_ids']]\n",
    "# tmanimdb = tmdbmovies[tmdbmovies['hasTop3Genres']==True]"
   ]
  },
  {
   "cell_type": "code",
   "execution_count": null,
   "metadata": {},
   "outputs": [],
   "source": [
    "# anim = list(tmanimdb['title'])"
   ]
  },
  {
   "cell_type": "code",
   "execution_count": null,
   "metadata": {},
   "outputs": [],
   "source": [
    "# tnanim = tnbudgets.set_index('movie')\n",
    "# tnanim = tnanim[~tnanim.index.duplicated()]\n",
    "# tnanim = tnanim.reindex(anim)"
   ]
  },
  {
   "cell_type": "code",
   "execution_count": null,
   "metadata": {},
   "outputs": [],
   "source": [
    "# tnanim.notnull().sum()"
   ]
  },
  {
   "cell_type": "code",
   "execution_count": null,
   "metadata": {},
   "outputs": [],
   "source": [
    "sns.histplot(data = genrevalue)"
   ]
  },
  {
   "cell_type": "code",
   "execution_count": null,
   "metadata": {},
   "outputs": [],
   "source": [
    "sns.regplot(data = genre21, x = 'budget', y = 'return')"
   ]
  },
  {
   "cell_type": "code",
   "execution_count": null,
   "metadata": {},
   "outputs": [],
   "source": [
    "sns.regplot(data = genre21, x = 'budget', y = 'profit')"
   ]
  },
  {
   "cell_type": "code",
   "execution_count": null,
   "metadata": {},
   "outputs": [],
   "source": [
    "sns.regplot(data = genre21, x = 'audiences', y = 'profit')"
   ]
  },
  {
   "cell_type": "code",
   "execution_count": null,
   "metadata": {},
   "outputs": [],
   "source": []
  },
  {
   "cell_type": "code",
   "execution_count": 12,
   "metadata": {},
   "outputs": [
    {
     "output_type": "execute_result",
     "data": {
      "text/plain": [
       "       Unnamed: 0  genre_ids      id original_language  \\\n",
       "8514         8514  [28, 878]  179105                de   \n",
       "19971       19971  [878, 16]  433281                en   \n",
       "22840       22840       [35]  487941                en   \n",
       "\n",
       "                      original_title  popularity release_date  \\\n",
       "8514                      Scavengers       4.048   2013-03-21   \n",
       "19971                     Scavengers       0.600   2016-08-22   \n",
       "22840  Bravengers: Age of Buldgetron       0.690   2017-08-08   \n",
       "\n",
       "                               title  vote_average  vote_count  \n",
       "8514                      Scavengers           3.3          10  \n",
       "19971                     Scavengers           8.3           3  \n",
       "22840  Bravengers: Age of Buldgetron           2.0           1  "
      ],
      "text/html": "<div>\n<style scoped>\n    .dataframe tbody tr th:only-of-type {\n        vertical-align: middle;\n    }\n\n    .dataframe tbody tr th {\n        vertical-align: top;\n    }\n\n    .dataframe thead th {\n        text-align: right;\n    }\n</style>\n<table border=\"1\" class=\"dataframe\">\n  <thead>\n    <tr style=\"text-align: right;\">\n      <th></th>\n      <th>Unnamed: 0</th>\n      <th>genre_ids</th>\n      <th>id</th>\n      <th>original_language</th>\n      <th>original_title</th>\n      <th>popularity</th>\n      <th>release_date</th>\n      <th>title</th>\n      <th>vote_average</th>\n      <th>vote_count</th>\n    </tr>\n  </thead>\n  <tbody>\n    <tr>\n      <th>8514</th>\n      <td>8514</td>\n      <td>[28, 878]</td>\n      <td>179105</td>\n      <td>de</td>\n      <td>Scavengers</td>\n      <td>4.048</td>\n      <td>2013-03-21</td>\n      <td>Scavengers</td>\n      <td>3.3</td>\n      <td>10</td>\n    </tr>\n    <tr>\n      <th>19971</th>\n      <td>19971</td>\n      <td>[878, 16]</td>\n      <td>433281</td>\n      <td>en</td>\n      <td>Scavengers</td>\n      <td>0.600</td>\n      <td>2016-08-22</td>\n      <td>Scavengers</td>\n      <td>8.3</td>\n      <td>3</td>\n    </tr>\n    <tr>\n      <th>22840</th>\n      <td>22840</td>\n      <td>[35]</td>\n      <td>487941</td>\n      <td>en</td>\n      <td>Bravengers: Age of Buldgetron</td>\n      <td>0.690</td>\n      <td>2017-08-08</td>\n      <td>Bravengers: Age of Buldgetron</td>\n      <td>2.0</td>\n      <td>1</td>\n    </tr>\n  </tbody>\n</table>\n</div>"
     },
     "metadata": {},
     "execution_count": 12
    }
   ],
   "source": [
    "tmdbmovies[tmdbmovies['original_title'].str.contains('Force Awakens')]"
   ]
  },
  {
   "cell_type": "code",
   "execution_count": null,
   "metadata": {},
   "outputs": [],
   "source": [
    "imdbcrewtitle2['primary_title'][0]"
   ]
  },
  {
   "cell_type": "code",
   "execution_count": null,
   "metadata": {},
   "outputs": [],
   "source": [
    "imdbprincname = imdbprinc.merge(imdbname, on='nconst')"
   ]
  },
  {
   "cell_type": "code",
   "execution_count": null,
   "metadata": {},
   "outputs": [],
   "source": [
    "imdbprincnametitleouter = imdbprincname.merge(imdbtitle, left_on='tconst', right_on='title_id',how='outer')"
   ]
  },
  {
   "cell_type": "code",
   "execution_count": null,
   "metadata": {},
   "outputs": [],
   "source": [
    "imdball = imdbprincnametitleouter.merge(imdbcrewtitle2, on='tconst')\n",
    "imdball"
   ]
  },
  {
   "cell_type": "code",
   "execution_count": null,
   "metadata": {},
   "outputs": [],
   "source": [
    "#Just to have a handy reference point\n",
    "print('\\n mjgross \\n'); print(len(mjgross)); print(mjgross.isna().sum())\n",
    "print('\\n imdbname \\n'); print(len(imdbname)); print(imdbname.isna().sum())\n",
    "print('\\n imdbtitle \\n'); print(len(imdbtitle)); print(imdbtitle.isna().sum())\n",
    "print('\\n imdbcrewtitle2 \\n'); print(len(imdbcrewtitle2)); print(imdbcrewtitle2.isna().sum())\n",
    "print('\\n imdbprinc \\n'); print(len(imdbprinc)); print(imdbprinc.isna().sum())\n",
    "print('\\n imdbrate \\n'); print(len(imdbrate)); print(imdbrate.isna().sum())\n",
    "print('\\n rtinfo \\n'); print(len(rtinfo)); print(rtinfo.isna().sum())\n",
    "print('\\n rtreviews \\n'); print(len(rtreviews)); print(rtreviews.isna().sum())\n",
    "print('\\n tmdbmovies \\n'); print(len(tmdbmovies)); print(tmdbmovies.isna().sum())\n",
    "print('\\n tnbudgets \\n'); print(len(tnbudgets)); print(tnbudgets.isna().sum())"
   ]
  }
 ]
}