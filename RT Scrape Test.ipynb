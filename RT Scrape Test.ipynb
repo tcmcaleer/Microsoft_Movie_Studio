{
 "metadata": {
  "language_info": {
   "codemirror_mode": {
    "name": "ipython",
    "version": 3
   },
   "file_extension": ".py",
   "mimetype": "text/x-python",
   "name": "python",
   "nbconvert_exporter": "python",
   "pygments_lexer": "ipython3",
   "version": "3.8.3-final"
  },
  "orig_nbformat": 2,
  "kernelspec": {
   "name": "Python 3.8.3 64-bit ('base': conda)",
   "display_name": "Python 3.8.3 64-bit ('base': conda)",
   "metadata": {
    "interpreter": {
     "hash": "8a4dba99b337f7b7c56f3257436139b377f4b22d5009ee8ecea169cfe4d2a37e"
    }
   }
  }
 },
 "nbformat": 4,
 "nbformat_minor": 2,
 "cells": [
  {
   "cell_type": "code",
   "execution_count": 1,
   "metadata": {},
   "outputs": [],
   "source": [
    "import re\n",
    "import requests\n",
    "from bs4 import BeautifulSoup\n",
    "import pandas as pd"
   ]
  },
  {
   "cell_type": "code",
   "execution_count": 2,
   "metadata": {},
   "outputs": [
    {
     "output_type": "execute_result",
     "data": {
      "text/plain": [
       "['Toy_story',\n",
       " 'Marvels_The_Avengers',\n",
       " 'The_Dark_Knight_Rises',\n",
       " 'The_Hunger_Games',\n",
       " 'Frozen',\n",
       " 'Iron_Man_3',\n",
       " 'The_Hunger_Games_Catching_Fire',\n",
       " 'Star_Wars_The_Force_Awakens',\n",
       " 'Jurassic_World',\n",
       " 'Avengers_Age_of_Ultron',\n",
       " 'Captain_America_Civil_War',\n",
       " 'Rogue_One_A_Star_Wars_Story',\n",
       " 'Finding_Dory',\n",
       " 'Star_Wars_The_Last_Jedi',\n",
       " 'Beauty_and_the_Beast',\n",
       " 'Jumanji_Welcome_to_the_Jungle',\n",
       " 'Wonder_Woman',\n",
       " 'Avengers_Infinity_War',\n",
       " 'Black_Panther',\n",
       " 'Jurassic_World_Fallen_Kingdom',\n",
       " 'Incredibles_2']"
      ]
     },
     "metadata": {},
     "execution_count": 2
    }
   ],
   "source": [
    "top21 = ['Toy story',\n",
    " \"Marvel's The Avengers\",\n",
    " 'The Dark Knight Rises',\n",
    " 'The Hunger Games',\n",
    " 'Frozen',\n",
    " 'Iron Man 3',\n",
    " 'The Hunger Games: Catching Fire',\n",
    " 'Star Wars: The Force Awakens',\n",
    " 'Jurassic World',\n",
    " 'Avengers: Age of Ultron',\n",
    " 'Captain America: Civil War',\n",
    " 'Rogue One: A Star Wars Story',\n",
    " 'Finding Dory',\n",
    " 'Star Wars: The Last Jedi',\n",
    " 'Beauty and the Beast',\n",
    " 'Jumanji: Welcome to the Jungle',\n",
    " 'Wonder Woman',\n",
    " 'Avengers: Infinity War',\n",
    " 'Black Panther',\n",
    " 'Jurassic World: Fallen Kingdom',\n",
    " 'Incredibles 2']\n",
    "top = []\n",
    "for movie in top21:\n",
    "    movie = movie.replace(' ', '_').replace(':', '').replace(\"'\",'')\n",
    "    top.append(movie)\n",
    "top"
   ]
  },
  {
   "cell_type": "code",
   "execution_count": 3,
   "metadata": {},
   "outputs": [
    {
     "output_type": "execute_result",
     "data": {
      "text/plain": [
       "'87%'"
      ]
     },
     "metadata": {},
     "execution_count": 3
    }
   ],
   "source": [
    "url = 'https://www.rottentomatoes.com/m/jumanji_welcome_to_the_jungle'\n",
    "html_page = requests.get(url)\n",
    "soup = BeautifulSoup(html_page.content, 'html.parser')\n",
    "soup.find('div', class_='mop-ratings-wrap__half audience-score').find('span', class_=\"mop-ratings-wrap__percentage\").text.strip()\n",
    "# def retrieve_availabilities(soup):\n",
    "#     url = 'http://www.rottentomatoes.com/m/{}'.format(top21[i])\n",
    "#     html_page = requests.get(url)\n",
    "#     warning = soup.find('div', class_=\"alert alert-warning\")\n",
    "#     avails = [a.text.strip() for a in book_container.findAll('p', class_=\"instock availability\")]\n",
    "#     return avails"
   ]
  },
  {
   "cell_type": "code",
   "execution_count": 4,
   "metadata": {},
   "outputs": [
    {
     "output_type": "error",
     "ename": "NameError",
     "evalue": "name 'rtratings' is not defined",
     "traceback": [
      "\u001b[1;31m---------------------------------------------------------------------------\u001b[0m",
      "\u001b[1;31mNameError\u001b[0m                                 Traceback (most recent call last)",
      "\u001b[1;32m<ipython-input-4-385eed1f96a4>\u001b[0m in \u001b[0;36m<module>\u001b[1;34m\u001b[0m\n\u001b[0;32m     13\u001b[0m     \u001b[1;32mexcept\u001b[0m\u001b[1;33m:\u001b[0m\u001b[1;33m\u001b[0m\u001b[1;33m\u001b[0m\u001b[0m\n\u001b[0;32m     14\u001b[0m         \u001b[0maudience_ratings\u001b[0m\u001b[1;33m.\u001b[0m\u001b[0mappend\u001b[0m\u001b[1;33m(\u001b[0m\u001b[0mtop\u001b[0m\u001b[1;33m[\u001b[0m\u001b[0mi\u001b[0m\u001b[1;33m]\u001b[0m\u001b[1;33m)\u001b[0m\u001b[1;33m\u001b[0m\u001b[1;33m\u001b[0m\u001b[0m\n\u001b[1;32m---> 15\u001b[1;33m \u001b[0mrtratings\u001b[0m\u001b[1;33m\u001b[0m\u001b[1;33m\u001b[0m\u001b[0m\n\u001b[0m\u001b[0;32m     16\u001b[0m \u001b[0maudience_ratings\u001b[0m\u001b[1;33m\u001b[0m\u001b[1;33m\u001b[0m\u001b[0m\n",
      "\u001b[1;31mNameError\u001b[0m: name 'rtratings' is not defined"
     ]
    }
   ],
   "source": [
    "critic_ratings = []\n",
    "audience_ratings = []\n",
    "for i in range(21):\n",
    "    url = 'http://www.rottentomatoes.com/m/{}'.format(top[i])\n",
    "    html_page = requests.get(url)\n",
    "    soup = BeautifulSoup(html_page.content, 'html.parser')\n",
    "    try:\n",
    "        critic_ratings.append(soup.find('span', class_=\"mop-ratings-wrap__percentage\").text.strip())\n",
    "    except:\n",
    "        critic_ratings.append(top[i])\n",
    "    try:\n",
    "        audience_ratings.append(soup.find('span', class_=\"mop-ratings-wrap__percentage\").text.strip())\n",
    "    except:\n",
    "        audience_ratings.append(top[i])\n",
    "rtratings\n",
    "audience_ratings"
   ]
  },
  {
   "cell_type": "code",
   "execution_count": 29,
   "metadata": {},
   "outputs": [
    {
     "output_type": "execute_result",
     "data": {
      "text/plain": [
       "['5', '6', '%']"
      ]
     },
     "metadata": {},
     "execution_count": 29
    }
   ],
   "source": []
  },
  {
   "cell_type": "code",
   "execution_count": null,
   "metadata": {},
   "outputs": [],
   "source": []
  }
 ]
}