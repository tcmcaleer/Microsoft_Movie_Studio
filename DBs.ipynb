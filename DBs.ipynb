{
 "metadata": {
  "language_info": {
   "codemirror_mode": {
    "name": "ipython",
    "version": 3
   },
   "file_extension": ".py",
   "mimetype": "text/x-python",
   "name": "python",
   "nbconvert_exporter": "python",
   "pygments_lexer": "ipython3",
   "version": "3.8.3-final"
  },
  "orig_nbformat": 2,
  "kernelspec": {
   "name": "Python 3.8.3 64-bit ('base': conda)",
   "display_name": "Python 3.8.3 64-bit ('base': conda)",
   "metadata": {
    "interpreter": {
     "hash": "8a4dba99b337f7b7c56f3257436139b377f4b22d5009ee8ecea169cfe4d2a37e"
    }
   }
  }
 },
 "nbformat": 4,
 "nbformat_minor": 2,
 "cells": [
  {
   "cell_type": "code",
   "execution_count": 201,
   "metadata": {},
   "outputs": [],
   "source": [
    "#import needed modules\n",
    "import pandas as pd\n",
    "import numpy as np\n",
    "import requests\n",
    "from bs4 import BeautifulSoup"
   ]
  },
  {
   "cell_type": "code",
   "execution_count": 159,
   "metadata": {},
   "outputs": [],
   "source": [
    "#Livin' in csv city\n",
    "mjgross = pd.read_csv('D:/Flatiron/Project/Zips/bom.movie_gross.csv/bom.movie_gross.csv')\n",
    "imdbname = pd.read_csv('D:/Flatiron/Project/Zips/imdb.name.basics.csv/name.basics.csv')\n",
    "imdbtitle = pd.read_csv('D:/Flatiron/Project/Zips/imdb.title.akas.csv/title.akas.csv')\n",
    "imdbtitle2 = pd.read_csv('D:/Flatiron/Project/Zips/imdb.title.basics.csv/title.basics.csv')\n",
    "imdbcrew = pd.read_csv('D:/Flatiron/Project/Zips/imdb.title.crew.csv/title.crew.csv')\n",
    "imdbprinc = pd.read_csv('D:/Flatiron/Project/Zips/imdb.title.principals.csv/title.principals.csv')\n",
    "imdbrate = pd.read_csv('D:/Flatiron/Project/Zips/imdb.title.ratings.csv/title.ratings.csv')\n",
    "rtinfo = pd.read_csv('D:/Flatiron/Project/Zips/rt.movie_info.tsv/rt.movie_info.tsv', delimiter='\\t')\n",
    "rtreviews = pd.read_csv('D:/Flatiron/Project/Zips/rt.reviews.tsv/rt.reviews.tsv', sep=None)\n",
    "tmdbmovies = pd.read_csv('D:/Flatiron/Project/Zips/tmdb.movies.csv/tmdb.movies.csv')\n",
    "tnbudgets = pd.read_csv('D:/Flatiron/Project/Zips/tn.movie_budgets.csv/tn.movie_budgets.csv')"
   ]
  },
  {
   "cell_type": "code",
   "execution_count": 160,
   "metadata": {},
   "outputs": [],
   "source": [
    "# joined imdbcrew and imdbtitle2\n",
    "imdbcrewtitle2 = imdbtitle2.join(imdbcrew.set_index('tconst'), on='tconst')\n"
   ]
  },
  {
   "cell_type": "code",
   "execution_count": 161,
   "metadata": {},
   "outputs": [],
   "source": [
    "#Editing, dropping mostly empty or useless columns\n",
    "imdbname.drop(['birth_year','death_year'], axis=1, inplace=True)\n",
    "imdbtitle.drop(['attributes','language'], axis=1, inplace=True)\n",
    "imdbprinc.drop(['job','characters'], axis=1, inplace=True)\n",
    "rtinfo.drop(['synopsis','theater_date','dvd_date','studio','currency'], axis=1, inplace=True)"
   ]
  },
  {
   "cell_type": "code",
   "execution_count": 162,
   "metadata": {},
   "outputs": [
    {
     "output_type": "stream",
     "name": "stdout",
     "text": [
      "{28: 'Action', 12: 'Adventure', 16: 'Animation', 35: 'Comedy', 80: 'Crime', 99: 'Documentary', 18: 'Drama', 10751: 'Family', 14: 'Fantasy', 36: 'History', 27: 'Horror', 10402: 'Music', 9648: 'Mystery', 10749: 'Romance', 878: 'Science Fiction', 10770: 'TV Movie', 53: 'Thriller', 10752: 'War', 37: 'Western'}\n"
     ]
    }
   ],
   "source": [
    "#Make new dict of genres, cutting out fluff\n",
    "genre_dict = [{\"id\":28,\"name\":\"Action\"},{\"id\":12,\"name\":\"Adventure\"},{\"id\":16,\"name\":\"Animation\"},{\"id\":35,\"name\":\"Comedy\"},{\"id\":80,\"name\":\"Crime\"},{\"id\":99,\"name\":\"Documentary\"},{\"id\":18,\"name\":\"Drama\"},{\"id\":10751,\"name\":\"Family\"},{\"id\":14,\"name\":\"Fantasy\"},{\"id\":36,\"name\":\"History\"},{\"id\":27,\"name\":\"Horror\"},{\"id\":10402,\"name\":\"Music\"},{\"id\":9648,\"name\":\"Mystery\"},{\"id\":10749,\"name\":\"Romance\"},{\"id\":878,\"name\":\"Science Fiction\"},{\"id\":10770,\"name\":\"TV Movie\"},{\"id\":53,\"name\":\"Thriller\"},{\"id\":10752,\"name\":\"War\"},{\"id\":37,\"name\":\"Western\"}]\n",
    "k = []\n",
    "v = []\n",
    "for i in range(len(genre_dict)):\n",
    "    k.append(genre_dict[i]['id'])\n",
    "    v.append(genre_dict[i]['name'])\n",
    "gendic = dict(zip(k,v))\n",
    "print(gendic)"
   ]
  },
  {
   "cell_type": "code",
   "execution_count": 163,
   "metadata": {},
   "outputs": [],
   "source": [
    "#Make lists out of Series\n",
    "titles = tmdbmovies['title'].to_list()\n",
    "gennums = tmdbmovies['genre_ids'].to_list()"
   ]
  },
  {
   "cell_type": "code",
   "execution_count": 164,
   "metadata": {},
   "outputs": [],
   "source": [
    "#Create empty DataFrame\n",
    "genresnp = np.zeros(shape=(26517, 19))\n",
    "genre = pd.DataFrame(genresnp, columns = v)\n",
    "genre = genre.applymap(lambda x: int(x))\n",
    "genre['titles'] = titles\n",
    "genre = genre.set_index('titles')"
   ]
  },
  {
   "cell_type": "code",
   "execution_count": 165,
   "metadata": {},
   "outputs": [],
   "source": [
    "#Make list of lists of ints out of list of strings of lists of ints. It was as hard as it is confusing.\n",
    "gennums = [i.strip(\"[]\").split(\", \") for i in gennums] \n",
    "gennums = [[int(j) for j in i if j] for i in gennums]"
   ]
  },
  {
   "cell_type": "code",
   "execution_count": 166,
   "metadata": {},
   "outputs": [
    {
     "output_type": "execute_result",
     "data": {
      "text/plain": [
       "                                              Action  Adventure  Animation  \\\n",
       "titles                                                                       \n",
       "Harry Potter and the Deathly Hallows: Part 1       0          1          0   \n",
       "How to Train Your Dragon                           0          1          1   \n",
       "Iron Man 2                                         1          1          0   \n",
       "Toy Story                                          0          0          1   \n",
       "Inception                                          1          1          0   \n",
       "...                                              ...        ...        ...   \n",
       "Laboratory Conditions                              0          0          0   \n",
       "_EXHIBIT_84xxx_                                    0          0          0   \n",
       "The Last One                                       1          1          0   \n",
       "Trailer Made                                       1          1          0   \n",
       "The Church                                         0          0          0   \n",
       "\n",
       "                                              Comedy  Crime  Documentary  \\\n",
       "titles                                                                     \n",
       "Harry Potter and the Deathly Hallows: Part 1       0      0            0   \n",
       "How to Train Your Dragon                           0      0            0   \n",
       "Iron Man 2                                         0      0            0   \n",
       "Toy Story                                          1      0            0   \n",
       "Inception                                          0      0            0   \n",
       "...                                              ...    ...          ...   \n",
       "Laboratory Conditions                              0      0            0   \n",
       "_EXHIBIT_84xxx_                                    0      0            0   \n",
       "The Last One                                       0      0            0   \n",
       "Trailer Made                                       0      0            0   \n",
       "The Church                                         0      0            0   \n",
       "\n",
       "                                              Drama  Family  Fantasy  History  \\\n",
       "titles                                                                          \n",
       "Harry Potter and the Deathly Hallows: Part 1      0       1        1        0   \n",
       "How to Train Your Dragon                          0       1        1        0   \n",
       "Iron Man 2                                        0       0        0        0   \n",
       "Toy Story                                         0       1        0        0   \n",
       "Inception                                         0       0        0        0   \n",
       "...                                             ...     ...      ...      ...   \n",
       "Laboratory Conditions                             1       0        0        0   \n",
       "_EXHIBIT_84xxx_                                   1       0        0        0   \n",
       "The Last One                                      0       0        1        0   \n",
       "Trailer Made                                      0       1        0        0   \n",
       "The Church                                        0       0        0        0   \n",
       "\n",
       "                                              Horror  Music  Mystery  Romance  \\\n",
       "titles                                                                          \n",
       "Harry Potter and the Deathly Hallows: Part 1       0      0        0        0   \n",
       "How to Train Your Dragon                           0      0        0        0   \n",
       "Iron Man 2                                         0      0        0        0   \n",
       "Toy Story                                          0      0        0        0   \n",
       "Inception                                          0      0        0        0   \n",
       "...                                              ...    ...      ...      ...   \n",
       "Laboratory Conditions                              1      0        0        0   \n",
       "_EXHIBIT_84xxx_                                    0      0        0        0   \n",
       "The Last One                                       0      0        0        0   \n",
       "Trailer Made                                       0      0        0        0   \n",
       "The Church                                         1      0        0        0   \n",
       "\n",
       "                                              Science Fiction  TV Movie  \\\n",
       "titles                                                                    \n",
       "Harry Potter and the Deathly Hallows: Part 1                0         0   \n",
       "How to Train Your Dragon                                    0         0   \n",
       "Iron Man 2                                                  1         0   \n",
       "Toy Story                                                   0         0   \n",
       "Inception                                                   1         0   \n",
       "...                                                       ...       ...   \n",
       "Laboratory Conditions                                       0         0   \n",
       "_EXHIBIT_84xxx_                                             0         0   \n",
       "The Last One                                                0         0   \n",
       "Trailer Made                                                0         0   \n",
       "The Church                                                  0         0   \n",
       "\n",
       "                                              Thriller  War  Western  \n",
       "titles                                                                \n",
       "Harry Potter and the Deathly Hallows: Part 1         0    0        0  \n",
       "How to Train Your Dragon                             0    0        0  \n",
       "Iron Man 2                                           0    0        0  \n",
       "Toy Story                                            0    0        0  \n",
       "Inception                                            0    0        0  \n",
       "...                                                ...  ...      ...  \n",
       "Laboratory Conditions                                0    0        0  \n",
       "_EXHIBIT_84xxx_                                      1    0        0  \n",
       "The Last One                                         0    0        0  \n",
       "Trailer Made                                         0    0        0  \n",
       "The Church                                           1    0        0  \n",
       "\n",
       "[26517 rows x 19 columns]"
      ],
      "text/html": "<div>\n<style scoped>\n    .dataframe tbody tr th:only-of-type {\n        vertical-align: middle;\n    }\n\n    .dataframe tbody tr th {\n        vertical-align: top;\n    }\n\n    .dataframe thead th {\n        text-align: right;\n    }\n</style>\n<table border=\"1\" class=\"dataframe\">\n  <thead>\n    <tr style=\"text-align: right;\">\n      <th></th>\n      <th>Action</th>\n      <th>Adventure</th>\n      <th>Animation</th>\n      <th>Comedy</th>\n      <th>Crime</th>\n      <th>Documentary</th>\n      <th>Drama</th>\n      <th>Family</th>\n      <th>Fantasy</th>\n      <th>History</th>\n      <th>Horror</th>\n      <th>Music</th>\n      <th>Mystery</th>\n      <th>Romance</th>\n      <th>Science Fiction</th>\n      <th>TV Movie</th>\n      <th>Thriller</th>\n      <th>War</th>\n      <th>Western</th>\n    </tr>\n    <tr>\n      <th>titles</th>\n      <th></th>\n      <th></th>\n      <th></th>\n      <th></th>\n      <th></th>\n      <th></th>\n      <th></th>\n      <th></th>\n      <th></th>\n      <th></th>\n      <th></th>\n      <th></th>\n      <th></th>\n      <th></th>\n      <th></th>\n      <th></th>\n      <th></th>\n      <th></th>\n      <th></th>\n    </tr>\n  </thead>\n  <tbody>\n    <tr>\n      <th>Harry Potter and the Deathly Hallows: Part 1</th>\n      <td>0</td>\n      <td>1</td>\n      <td>0</td>\n      <td>0</td>\n      <td>0</td>\n      <td>0</td>\n      <td>0</td>\n      <td>1</td>\n      <td>1</td>\n      <td>0</td>\n      <td>0</td>\n      <td>0</td>\n      <td>0</td>\n      <td>0</td>\n      <td>0</td>\n      <td>0</td>\n      <td>0</td>\n      <td>0</td>\n      <td>0</td>\n    </tr>\n    <tr>\n      <th>How to Train Your Dragon</th>\n      <td>0</td>\n      <td>1</td>\n      <td>1</td>\n      <td>0</td>\n      <td>0</td>\n      <td>0</td>\n      <td>0</td>\n      <td>1</td>\n      <td>1</td>\n      <td>0</td>\n      <td>0</td>\n      <td>0</td>\n      <td>0</td>\n      <td>0</td>\n      <td>0</td>\n      <td>0</td>\n      <td>0</td>\n      <td>0</td>\n      <td>0</td>\n    </tr>\n    <tr>\n      <th>Iron Man 2</th>\n      <td>1</td>\n      <td>1</td>\n      <td>0</td>\n      <td>0</td>\n      <td>0</td>\n      <td>0</td>\n      <td>0</td>\n      <td>0</td>\n      <td>0</td>\n      <td>0</td>\n      <td>0</td>\n      <td>0</td>\n      <td>0</td>\n      <td>0</td>\n      <td>1</td>\n      <td>0</td>\n      <td>0</td>\n      <td>0</td>\n      <td>0</td>\n    </tr>\n    <tr>\n      <th>Toy Story</th>\n      <td>0</td>\n      <td>0</td>\n      <td>1</td>\n      <td>1</td>\n      <td>0</td>\n      <td>0</td>\n      <td>0</td>\n      <td>1</td>\n      <td>0</td>\n      <td>0</td>\n      <td>0</td>\n      <td>0</td>\n      <td>0</td>\n      <td>0</td>\n      <td>0</td>\n      <td>0</td>\n      <td>0</td>\n      <td>0</td>\n      <td>0</td>\n    </tr>\n    <tr>\n      <th>Inception</th>\n      <td>1</td>\n      <td>1</td>\n      <td>0</td>\n      <td>0</td>\n      <td>0</td>\n      <td>0</td>\n      <td>0</td>\n      <td>0</td>\n      <td>0</td>\n      <td>0</td>\n      <td>0</td>\n      <td>0</td>\n      <td>0</td>\n      <td>0</td>\n      <td>1</td>\n      <td>0</td>\n      <td>0</td>\n      <td>0</td>\n      <td>0</td>\n    </tr>\n    <tr>\n      <th>...</th>\n      <td>...</td>\n      <td>...</td>\n      <td>...</td>\n      <td>...</td>\n      <td>...</td>\n      <td>...</td>\n      <td>...</td>\n      <td>...</td>\n      <td>...</td>\n      <td>...</td>\n      <td>...</td>\n      <td>...</td>\n      <td>...</td>\n      <td>...</td>\n      <td>...</td>\n      <td>...</td>\n      <td>...</td>\n      <td>...</td>\n      <td>...</td>\n    </tr>\n    <tr>\n      <th>Laboratory Conditions</th>\n      <td>0</td>\n      <td>0</td>\n      <td>0</td>\n      <td>0</td>\n      <td>0</td>\n      <td>0</td>\n      <td>1</td>\n      <td>0</td>\n      <td>0</td>\n      <td>0</td>\n      <td>1</td>\n      <td>0</td>\n      <td>0</td>\n      <td>0</td>\n      <td>0</td>\n      <td>0</td>\n      <td>0</td>\n      <td>0</td>\n      <td>0</td>\n    </tr>\n    <tr>\n      <th>_EXHIBIT_84xxx_</th>\n      <td>0</td>\n      <td>0</td>\n      <td>0</td>\n      <td>0</td>\n      <td>0</td>\n      <td>0</td>\n      <td>1</td>\n      <td>0</td>\n      <td>0</td>\n      <td>0</td>\n      <td>0</td>\n      <td>0</td>\n      <td>0</td>\n      <td>0</td>\n      <td>0</td>\n      <td>0</td>\n      <td>1</td>\n      <td>0</td>\n      <td>0</td>\n    </tr>\n    <tr>\n      <th>The Last One</th>\n      <td>1</td>\n      <td>1</td>\n      <td>0</td>\n      <td>0</td>\n      <td>0</td>\n      <td>0</td>\n      <td>0</td>\n      <td>0</td>\n      <td>1</td>\n      <td>0</td>\n      <td>0</td>\n      <td>0</td>\n      <td>0</td>\n      <td>0</td>\n      <td>0</td>\n      <td>0</td>\n      <td>0</td>\n      <td>0</td>\n      <td>0</td>\n    </tr>\n    <tr>\n      <th>Trailer Made</th>\n      <td>1</td>\n      <td>1</td>\n      <td>0</td>\n      <td>0</td>\n      <td>0</td>\n      <td>0</td>\n      <td>0</td>\n      <td>1</td>\n      <td>0</td>\n      <td>0</td>\n      <td>0</td>\n      <td>0</td>\n      <td>0</td>\n      <td>0</td>\n      <td>0</td>\n      <td>0</td>\n      <td>0</td>\n      <td>0</td>\n      <td>0</td>\n    </tr>\n    <tr>\n      <th>The Church</th>\n      <td>0</td>\n      <td>0</td>\n      <td>0</td>\n      <td>0</td>\n      <td>0</td>\n      <td>0</td>\n      <td>0</td>\n      <td>0</td>\n      <td>0</td>\n      <td>0</td>\n      <td>1</td>\n      <td>0</td>\n      <td>0</td>\n      <td>0</td>\n      <td>0</td>\n      <td>0</td>\n      <td>1</td>\n      <td>0</td>\n      <td>0</td>\n    </tr>\n  </tbody>\n</table>\n<p>26517 rows × 19 columns</p>\n</div>"
     },
     "metadata": {},
     "execution_count": 166
    }
   ],
   "source": [
    "#Use list of int genres as keys to produce names of genres in genre dictionary.\n",
    "gennums = [[gendic[j] for j in i if j] for i in gennums]\n",
    "gennums\n",
    "n= -1\n",
    "for i in gennums:\n",
    "    n += 1\n",
    "    for j in i:\n",
    "        if j:\n",
    "            genre.iloc[n].loc[j] += 1\n",
    "genre"
   ]
  },
  {
   "cell_type": "code",
   "execution_count": 167,
   "metadata": {},
   "outputs": [
    {
     "output_type": "stream",
     "name": "stdout",
     "text": [
      "\n",
      " mjgross \n",
      "\n",
      "3387\n",
      "title                0\n",
      "studio               5\n",
      "domestic_gross      28\n",
      "foreign_gross     1350\n",
      "year                 0\n",
      "dtype: int64\n",
      "\n",
      " imdbname \n",
      "\n",
      "606648\n",
      "nconst                    0\n",
      "primary_name              0\n",
      "primary_profession    51340\n",
      "known_for_titles      30204\n",
      "dtype: int64\n",
      "\n",
      " imdbtitle \n",
      "\n",
      "331703\n",
      "title_id                  0\n",
      "ordering                  0\n",
      "title                     0\n",
      "region                53293\n",
      "types                163256\n",
      "is_original_title        25\n",
      "dtype: int64\n",
      "\n",
      " imdbcrewtitle2 \n",
      "\n",
      "146144\n",
      "tconst                 0\n",
      "primary_title          0\n",
      "original_title        21\n",
      "start_year             0\n",
      "runtime_minutes    31739\n",
      "genres              5408\n",
      "directors           5727\n",
      "writers            35883\n",
      "dtype: int64\n",
      "\n",
      " imdbprinc \n",
      "\n",
      "1028186\n",
      "tconst      0\n",
      "ordering    0\n",
      "nconst      0\n",
      "category    0\n",
      "dtype: int64\n",
      "\n",
      " imdbrate \n",
      "\n",
      "73856\n",
      "tconst           0\n",
      "averagerating    0\n",
      "numvotes         0\n",
      "dtype: int64\n",
      "\n",
      " rtinfo \n",
      "\n",
      "1560\n",
      "id               0\n",
      "rating           3\n",
      "genre            8\n",
      "director       199\n",
      "writer         449\n",
      "box_office    1220\n",
      "runtime         30\n",
      "dtype: int64\n",
      "\n",
      " rtreviews \n",
      "\n",
      "54432\n",
      "id                0\n",
      "review         5563\n",
      "rating        13517\n",
      "fresh             0\n",
      "critic         2722\n",
      "top_critic        0\n",
      "publisher       309\n",
      "date              0\n",
      "dtype: int64\n",
      "\n",
      " tmdbmovies \n",
      "\n",
      "26517\n",
      "Unnamed: 0           0\n",
      "genre_ids            0\n",
      "id                   0\n",
      "original_language    0\n",
      "original_title       0\n",
      "popularity           0\n",
      "release_date         0\n",
      "title                0\n",
      "vote_average         0\n",
      "vote_count           0\n",
      "dtype: int64\n",
      "\n",
      " tnbudgets \n",
      "\n",
      "5782\n",
      "id                   0\n",
      "release_date         0\n",
      "movie                0\n",
      "production_budget    0\n",
      "domestic_gross       0\n",
      "worldwide_gross      0\n",
      "dtype: int64\n"
     ]
    }
   ],
   "source": [
    "#Just to have a handy reference point\n",
    "print('\\n mjgross \\n'); print(len(mjgross)); print(mjgross.isna().sum())\n",
    "print('\\n imdbname \\n'); print(len(imdbname)); print(imdbname.isna().sum())\n",
    "print('\\n imdbtitle \\n'); print(len(imdbtitle)); print(imdbtitle.isna().sum())\n",
    "print('\\n imdbcrewtitle2 \\n'); print(len(imdbcrewtitle2)); print(imdbcrewtitle2.isna().sum())\n",
    "print('\\n imdbprinc \\n'); print(len(imdbprinc)); print(imdbprinc.isna().sum())\n",
    "print('\\n imdbrate \\n'); print(len(imdbrate)); print(imdbrate.isna().sum())\n",
    "print('\\n rtinfo \\n'); print(len(rtinfo)); print(rtinfo.isna().sum())\n",
    "print('\\n rtreviews \\n'); print(len(rtreviews)); print(rtreviews.isna().sum())\n",
    "print('\\n tmdbmovies \\n'); print(len(tmdbmovies)); print(tmdbmovies.isna().sum())\n",
    "print('\\n tnbudgets \\n'); print(len(tnbudgets)); print(tnbudgets.isna().sum())"
   ]
  },
  {
   "source": [
    "#Group Box office numbers by studio\n",
    "studiogross = mjgross.set_index('studio')\n",
    "mjgross.groupby('studio').domestic_gross.mean().sort_values(ascending=False).head(10)"
   ],
   "cell_type": "code",
   "metadata": {},
   "execution_count": 168,
   "outputs": [
    {
     "output_type": "execute_result",
     "data": {
      "text/plain": [
       "studio\n",
       "BV         1.737644e+08\n",
       "P/DW       1.682900e+08\n",
       "WB (NL)    8.879333e+07\n",
       "Uni.       8.777138e+07\n",
       "WB         8.691461e+07\n",
       "Fox        8.051103e+07\n",
       "Sony       7.761177e+07\n",
       "Par.       7.609773e+07\n",
       "MGM        6.666667e+07\n",
       "Sum.       6.212473e+07\n",
       "Name: domestic_gross, dtype: float64"
      ]
     },
     "metadata": {},
     "execution_count": 168
    }
   ]
  },
  {
   "cell_type": "code",
   "execution_count": 169,
   "metadata": {},
   "outputs": [],
   "source": [
    "#list of movies that made over $400 million\n",
    "top21 = ['Toy story',\n",
    " \"Marvel's The Avengers\",\n",
    " 'The Dark Knight Rises',\n",
    " 'The Hunger Games',\n",
    " 'Frozen',\n",
    " 'Iron Man 3',\n",
    " 'The Hunger Games: Catching Fire',\n",
    " 'Star Wars: The Force Awakens',\n",
    " 'Jurassic World',\n",
    " 'Avengers: Age of Ultron',\n",
    " 'Captain America: Civil War',\n",
    " 'Rogue One: A Star Wars Story',\n",
    " 'Finding Dory',\n",
    " 'Star Wars: The Last Jedi',\n",
    " 'Beauty and the Beast',\n",
    " 'Jumanji: Welcome to the Jungle',\n",
    " 'Wonder Woman',\n",
    " 'Avengers: Infinity War',\n",
    " 'Black Panther',\n",
    " 'Jurassic World: Fallen Kingdom',\n",
    " 'Incredibles 2']"
   ]
  },
  {
   "cell_type": "code",
   "execution_count": 170,
   "metadata": {},
   "outputs": [],
   "source": [
    "#list of amounts the movies made\n",
    "moneybank = [415000000.0,\n",
    " 623400000,\n",
    " 448100000,\n",
    " 408000000,\n",
    " 400700000,\n",
    " 409000000,\n",
    " 424700000,\n",
    " 936700000,\n",
    " 652300000,\n",
    " 459000000,\n",
    " 408100000,\n",
    " 532200000,\n",
    " 486300000,\n",
    " 620200000,\n",
    " 504000000,\n",
    " 404500000,\n",
    " 412600000,\n",
    " 678800000,\n",
    " 700100000,\n",
    " 417700000,\n",
    " 608600000]"
   ]
  },
  {
   "cell_type": "code",
   "execution_count": 171,
   "metadata": {},
   "outputs": [],
   "source": [
    "# New df of genres of top 21 movies\n",
    "genre21 = genre[~genre.index.duplicated()]\n",
    "genre21 = genre21.reindex(top21)"
   ]
  },
  {
   "cell_type": "code",
   "execution_count": 172,
   "metadata": {},
   "outputs": [],
   "source": [
    "# Add columns for domestic gross and budget\n",
    "genre21 = genre[~genre.index.duplicated()]\n",
    "genre21 = genre21.reindex(top21)\n",
    "genre21['domgross'] = moneybank\n",
    "tnbudgets = tnbudgets.set_index('movie')\n",
    "tnbudgets21 = tnbudgets[~tnbudgets.index.duplicated()]\n",
    "tnbudgets21 = tnbudgets21.reindex(top21)\n",
    "tnbudgets21.shape\n",
    "budgets21 = list(tnbudgets21['production_budget'])\n",
    "genre21['budget'] = budgets21"
   ]
  },
  {
   "cell_type": "code",
   "execution_count": 173,
   "metadata": {},
   "outputs": [],
   "source": [
    "# Clean budget column. Fix NaN later\n",
    "genre21['budget'] = genre21['budget'].str.replace(',','')\n",
    "genre21['budget'] = genre21['budget'].fillna(10)\n",
    "genre21['budget'] = genre21['budget'].apply(lambda x: int(str(x)[1:]))"
   ]
  },
  {
   "cell_type": "code",
   "execution_count": 174,
   "metadata": {},
   "outputs": [],
   "source": [
    "# Found missing values using original source's website\n",
    "genre21.loc['Toy story', 'budget'] = 30000000\n",
    "genre21.loc[\"Marvel's The Avengers\", 'budget'] = 225000000\n",
    "genre21.loc['Star Wars: The Force Awakens', 'budget'] = 306000000\n",
    "genre21.loc['Star Wars: The Last Jedi', 'budget'] = 200000000"
   ]
  },
  {
   "cell_type": "code",
   "execution_count": 175,
   "metadata": {},
   "outputs": [],
   "source": [
    "# Use new columns to create informative columns\n",
    "genre21['return'] = genre21['domgross'] / genre21['budget'] \n",
    "genre21['profit'] = genre21['domgross'] - genre21['budget']"
   ]
  },
  {
   "cell_type": "code",
   "execution_count": 206,
   "metadata": {},
   "outputs": [],
   "source": [
    "#Researched Rotten Tomatoes website, reformat list to conform to url structure\n",
    "top = []\n",
    "for movie in top21:\n",
    "    movie = movie.replace(' ', '_').replace(':', '').replace(\"'\",'')\n",
    "    top.append(movie)\n",
    "# Manually fix two entries that are named differently. Not sure how to automate.\n",
    "top[14] = 'beauty_and_the_beast_2017'\n",
    "top[7] = 'star_wars_episode_vii_the_force_awakens'\n",
    "# Web Scrape RT to find critic and audience ratings for top 21 movies\n",
    "critic_ratings = []\n",
    "audience_ratings = []\n",
    "for i in range(21):\n",
    "    url = 'http://www.rottentomatoes.com/m/{}'.format(top[i])\n",
    "    html_page = requests.get(url)\n",
    "    soup = BeautifulSoup(html_page.content, 'html.parser')\n",
    "    try:\n",
    "        critic_ratings.append(soup.find('span', class_=\"mop-ratings-wrap__percentage\").text.strip())\n",
    "    except:\n",
    "        critic_ratings.append(top[i])\n",
    "    try:\n",
    "        audience_ratings.append(soup.find('span', class_=\"mop-ratings-wrap__percentage\").text.strip())\n",
    "    except:\n",
    "        audience_ratings.append(top[i])"
   ]
  },
  {
   "cell_type": "code",
   "execution_count": 207,
   "metadata": {},
   "outputs": [],
   "source": [
    "# Add two new columns for ratings\n",
    "genre21['critic_ratings'] = critic_ratings\n",
    "genre21['audience_ratings'] = audience_ratings"
   ]
  },
  {
   "cell_type": "code",
   "execution_count": 208,
   "metadata": {},
   "outputs": [
    {
     "output_type": "execute_result",
     "data": {
      "text/plain": [
       "                                 Action  Adventure  Animation  Comedy  Crime  \\\n",
       "titles                                                                         \n",
       "Toy story                           NaN        NaN        NaN     NaN    NaN   \n",
       "Marvel's The Avengers               NaN        NaN        NaN     NaN    NaN   \n",
       "The Dark Knight Rises               1.0        0.0        0.0     0.0    1.0   \n",
       "The Hunger Games                    0.0        1.0        0.0     0.0    0.0   \n",
       "Frozen                              0.0        0.0        0.0     0.0    0.0   \n",
       "Iron Man 3                          1.0        1.0        0.0     0.0    0.0   \n",
       "The Hunger Games: Catching Fire     1.0        1.0        0.0     0.0    0.0   \n",
       "Star Wars: The Force Awakens        1.0        1.0        0.0     0.0    0.0   \n",
       "Jurassic World                      1.0        1.0        0.0     0.0    0.0   \n",
       "Avengers: Age of Ultron             1.0        1.0        0.0     0.0    0.0   \n",
       "Captain America: Civil War          1.0        1.0        0.0     0.0    0.0   \n",
       "Rogue One: A Star Wars Story        1.0        1.0        0.0     0.0    0.0   \n",
       "Finding Dory                        0.0        1.0        1.0     1.0    0.0   \n",
       "Star Wars: The Last Jedi            1.0        1.0        0.0     0.0    0.0   \n",
       "Beauty and the Beast                0.0        0.0        1.0     0.0    0.0   \n",
       "Jumanji: Welcome to the Jungle      1.0        1.0        0.0     1.0    0.0   \n",
       "Wonder Woman                        1.0        0.0        0.0     0.0    0.0   \n",
       "Avengers: Infinity War              1.0        1.0        0.0     0.0    0.0   \n",
       "Black Panther                       1.0        0.0        1.0     0.0    0.0   \n",
       "Jurassic World: Fallen Kingdom      1.0        1.0        0.0     0.0    0.0   \n",
       "Incredibles 2                       1.0        1.0        1.0     0.0    0.0   \n",
       "\n",
       "                                 Documentary  Drama  Family  Fantasy  History  \\\n",
       "titles                                                                          \n",
       "Toy story                                NaN    NaN     NaN      NaN      NaN   \n",
       "Marvel's The Avengers                    NaN    NaN     NaN      NaN      NaN   \n",
       "The Dark Knight Rises                    0.0    1.0     0.0      0.0      0.0   \n",
       "The Hunger Games                         0.0    0.0     0.0      1.0      0.0   \n",
       "Frozen                                   0.0    0.0     0.0      0.0      0.0   \n",
       "Iron Man 3                               0.0    0.0     0.0      0.0      0.0   \n",
       "The Hunger Games: Catching Fire          0.0    0.0     0.0      0.0      0.0   \n",
       "Star Wars: The Force Awakens             0.0    0.0     0.0      1.0      0.0   \n",
       "Jurassic World                           0.0    0.0     0.0      0.0      0.0   \n",
       "Avengers: Age of Ultron                  0.0    0.0     0.0      0.0      0.0   \n",
       "Captain America: Civil War               0.0    0.0     0.0      0.0      0.0   \n",
       "Rogue One: A Star Wars Story             0.0    0.0     0.0      0.0      0.0   \n",
       "Finding Dory                             0.0    0.0     1.0      0.0      0.0   \n",
       "Star Wars: The Last Jedi                 0.0    0.0     0.0      1.0      0.0   \n",
       "Beauty and the Beast                     0.0    0.0     1.0      1.0      0.0   \n",
       "Jumanji: Welcome to the Jungle           0.0    0.0     0.0      1.0      0.0   \n",
       "Wonder Woman                             0.0    0.0     0.0      1.0      0.0   \n",
       "Avengers: Infinity War                   0.0    0.0     0.0      1.0      0.0   \n",
       "Black Panther                            0.0    0.0     0.0      0.0      0.0   \n",
       "Jurassic World: Fallen Kingdom           0.0    0.0     0.0      0.0      0.0   \n",
       "Incredibles 2                            0.0    0.0     1.0      0.0      0.0   \n",
       "\n",
       "                                 ...  TV Movie  Thriller  War  Western  \\\n",
       "titles                           ...                                     \n",
       "Toy story                        ...       NaN       NaN  NaN      NaN   \n",
       "Marvel's The Avengers            ...       NaN       NaN  NaN      NaN   \n",
       "The Dark Knight Rises            ...       0.0       1.0  0.0      0.0   \n",
       "The Hunger Games                 ...       0.0       0.0  0.0      0.0   \n",
       "Frozen                           ...       0.0       1.0  0.0      0.0   \n",
       "Iron Man 3                       ...       0.0       0.0  0.0      0.0   \n",
       "The Hunger Games: Catching Fire  ...       0.0       0.0  0.0      0.0   \n",
       "Star Wars: The Force Awakens     ...       0.0       0.0  0.0      0.0   \n",
       "Jurassic World                   ...       0.0       1.0  0.0      0.0   \n",
       "Avengers: Age of Ultron          ...       0.0       0.0  0.0      0.0   \n",
       "Captain America: Civil War       ...       0.0       0.0  0.0      0.0   \n",
       "Rogue One: A Star Wars Story     ...       0.0       0.0  0.0      0.0   \n",
       "Finding Dory                     ...       0.0       0.0  0.0      0.0   \n",
       "Star Wars: The Last Jedi         ...       0.0       0.0  0.0      0.0   \n",
       "Beauty and the Beast             ...       0.0       0.0  0.0      0.0   \n",
       "Jumanji: Welcome to the Jungle   ...       0.0       0.0  0.0      0.0   \n",
       "Wonder Woman                     ...       0.0       0.0  0.0      0.0   \n",
       "Avengers: Infinity War           ...       0.0       0.0  0.0      0.0   \n",
       "Black Panther                    ...       0.0       0.0  0.0      0.0   \n",
       "Jurassic World: Fallen Kingdom   ...       0.0       0.0  0.0      0.0   \n",
       "Incredibles 2                    ...       0.0       0.0  0.0      0.0   \n",
       "\n",
       "                                    domgross     budget     return  \\\n",
       "titles                                                               \n",
       "Toy story                        415000000.0   30000000  13.833333   \n",
       "Marvel's The Avengers            623400000.0  225000000   2.770667   \n",
       "The Dark Knight Rises            448100000.0  275000000   1.629455   \n",
       "The Hunger Games                 408000000.0   80000000   5.100000   \n",
       "Frozen                           400700000.0  150000000   2.671333   \n",
       "Iron Man 3                       409000000.0  200000000   2.045000   \n",
       "The Hunger Games: Catching Fire  424700000.0  130000000   3.266923   \n",
       "Star Wars: The Force Awakens     936700000.0  306000000   3.061111   \n",
       "Jurassic World                   652300000.0  215000000   3.033953   \n",
       "Avengers: Age of Ultron          459000000.0  330600000   1.388385   \n",
       "Captain America: Civil War       408100000.0  250000000   1.632400   \n",
       "Rogue One: A Star Wars Story     532200000.0  200000000   2.661000   \n",
       "Finding Dory                     486300000.0  200000000   2.431500   \n",
       "Star Wars: The Last Jedi         620200000.0  200000000   3.101000   \n",
       "Beauty and the Beast             504000000.0  160000000   3.150000   \n",
       "Jumanji: Welcome to the Jungle   404500000.0   90000000   4.494444   \n",
       "Wonder Woman                     412600000.0  150000000   2.750667   \n",
       "Avengers: Infinity War           678800000.0  300000000   2.262667   \n",
       "Black Panther                    700100000.0  200000000   3.500500   \n",
       "Jurassic World: Fallen Kingdom   417700000.0  170000000   2.457059   \n",
       "Incredibles 2                    608600000.0  200000000   3.043000   \n",
       "\n",
       "                                      profit  critic_ratings  audience_ratings  \n",
       "titles                                                                          \n",
       "Toy story                        385000000.0            100%              100%  \n",
       "Marvel's The Avengers            398400000.0             92%               92%  \n",
       "The Dark Knight Rises            173100000.0             87%               87%  \n",
       "The Hunger Games                 328000000.0             84%               84%  \n",
       "Frozen                           250700000.0             56%               56%  \n",
       "Iron Man 3                       209000000.0             79%               79%  \n",
       "The Hunger Games: Catching Fire  294700000.0             90%               90%  \n",
       "Star Wars: The Force Awakens     630700000.0             92%               92%  \n",
       "Jurassic World                   437300000.0             71%               71%  \n",
       "Avengers: Age of Ultron          128400000.0             76%               76%  \n",
       "Captain America: Civil War       158100000.0             91%               91%  \n",
       "Rogue One: A Star Wars Story     332200000.0             84%               84%  \n",
       "Finding Dory                     286300000.0             94%               94%  \n",
       "Star Wars: The Last Jedi         420200000.0             90%               90%  \n",
       "Beauty and the Beast             344000000.0             71%               71%  \n",
       "Jumanji: Welcome to the Jungle   314500000.0             76%               76%  \n",
       "Wonder Woman                     262600000.0             82%               82%  \n",
       "Avengers: Infinity War           378800000.0             85%               85%  \n",
       "Black Panther                    500100000.0             48%               48%  \n",
       "Jurassic World: Fallen Kingdom   247700000.0             47%               47%  \n",
       "Incredibles 2                    408600000.0             93%               93%  \n",
       "\n",
       "[21 rows x 25 columns]"
      ],
      "text/html": "<div>\n<style scoped>\n    .dataframe tbody tr th:only-of-type {\n        vertical-align: middle;\n    }\n\n    .dataframe tbody tr th {\n        vertical-align: top;\n    }\n\n    .dataframe thead th {\n        text-align: right;\n    }\n</style>\n<table border=\"1\" class=\"dataframe\">\n  <thead>\n    <tr style=\"text-align: right;\">\n      <th></th>\n      <th>Action</th>\n      <th>Adventure</th>\n      <th>Animation</th>\n      <th>Comedy</th>\n      <th>Crime</th>\n      <th>Documentary</th>\n      <th>Drama</th>\n      <th>Family</th>\n      <th>Fantasy</th>\n      <th>History</th>\n      <th>...</th>\n      <th>TV Movie</th>\n      <th>Thriller</th>\n      <th>War</th>\n      <th>Western</th>\n      <th>domgross</th>\n      <th>budget</th>\n      <th>return</th>\n      <th>profit</th>\n      <th>critic_ratings</th>\n      <th>audience_ratings</th>\n    </tr>\n    <tr>\n      <th>titles</th>\n      <th></th>\n      <th></th>\n      <th></th>\n      <th></th>\n      <th></th>\n      <th></th>\n      <th></th>\n      <th></th>\n      <th></th>\n      <th></th>\n      <th></th>\n      <th></th>\n      <th></th>\n      <th></th>\n      <th></th>\n      <th></th>\n      <th></th>\n      <th></th>\n      <th></th>\n      <th></th>\n      <th></th>\n    </tr>\n  </thead>\n  <tbody>\n    <tr>\n      <th>Toy story</th>\n      <td>NaN</td>\n      <td>NaN</td>\n      <td>NaN</td>\n      <td>NaN</td>\n      <td>NaN</td>\n      <td>NaN</td>\n      <td>NaN</td>\n      <td>NaN</td>\n      <td>NaN</td>\n      <td>NaN</td>\n      <td>...</td>\n      <td>NaN</td>\n      <td>NaN</td>\n      <td>NaN</td>\n      <td>NaN</td>\n      <td>415000000.0</td>\n      <td>30000000</td>\n      <td>13.833333</td>\n      <td>385000000.0</td>\n      <td>100%</td>\n      <td>100%</td>\n    </tr>\n    <tr>\n      <th>Marvel's The Avengers</th>\n      <td>NaN</td>\n      <td>NaN</td>\n      <td>NaN</td>\n      <td>NaN</td>\n      <td>NaN</td>\n      <td>NaN</td>\n      <td>NaN</td>\n      <td>NaN</td>\n      <td>NaN</td>\n      <td>NaN</td>\n      <td>...</td>\n      <td>NaN</td>\n      <td>NaN</td>\n      <td>NaN</td>\n      <td>NaN</td>\n      <td>623400000.0</td>\n      <td>225000000</td>\n      <td>2.770667</td>\n      <td>398400000.0</td>\n      <td>92%</td>\n      <td>92%</td>\n    </tr>\n    <tr>\n      <th>The Dark Knight Rises</th>\n      <td>1.0</td>\n      <td>0.0</td>\n      <td>0.0</td>\n      <td>0.0</td>\n      <td>1.0</td>\n      <td>0.0</td>\n      <td>1.0</td>\n      <td>0.0</td>\n      <td>0.0</td>\n      <td>0.0</td>\n      <td>...</td>\n      <td>0.0</td>\n      <td>1.0</td>\n      <td>0.0</td>\n      <td>0.0</td>\n      <td>448100000.0</td>\n      <td>275000000</td>\n      <td>1.629455</td>\n      <td>173100000.0</td>\n      <td>87%</td>\n      <td>87%</td>\n    </tr>\n    <tr>\n      <th>The Hunger Games</th>\n      <td>0.0</td>\n      <td>1.0</td>\n      <td>0.0</td>\n      <td>0.0</td>\n      <td>0.0</td>\n      <td>0.0</td>\n      <td>0.0</td>\n      <td>0.0</td>\n      <td>1.0</td>\n      <td>0.0</td>\n      <td>...</td>\n      <td>0.0</td>\n      <td>0.0</td>\n      <td>0.0</td>\n      <td>0.0</td>\n      <td>408000000.0</td>\n      <td>80000000</td>\n      <td>5.100000</td>\n      <td>328000000.0</td>\n      <td>84%</td>\n      <td>84%</td>\n    </tr>\n    <tr>\n      <th>Frozen</th>\n      <td>0.0</td>\n      <td>0.0</td>\n      <td>0.0</td>\n      <td>0.0</td>\n      <td>0.0</td>\n      <td>0.0</td>\n      <td>0.0</td>\n      <td>0.0</td>\n      <td>0.0</td>\n      <td>0.0</td>\n      <td>...</td>\n      <td>0.0</td>\n      <td>1.0</td>\n      <td>0.0</td>\n      <td>0.0</td>\n      <td>400700000.0</td>\n      <td>150000000</td>\n      <td>2.671333</td>\n      <td>250700000.0</td>\n      <td>56%</td>\n      <td>56%</td>\n    </tr>\n    <tr>\n      <th>Iron Man 3</th>\n      <td>1.0</td>\n      <td>1.0</td>\n      <td>0.0</td>\n      <td>0.0</td>\n      <td>0.0</td>\n      <td>0.0</td>\n      <td>0.0</td>\n      <td>0.0</td>\n      <td>0.0</td>\n      <td>0.0</td>\n      <td>...</td>\n      <td>0.0</td>\n      <td>0.0</td>\n      <td>0.0</td>\n      <td>0.0</td>\n      <td>409000000.0</td>\n      <td>200000000</td>\n      <td>2.045000</td>\n      <td>209000000.0</td>\n      <td>79%</td>\n      <td>79%</td>\n    </tr>\n    <tr>\n      <th>The Hunger Games: Catching Fire</th>\n      <td>1.0</td>\n      <td>1.0</td>\n      <td>0.0</td>\n      <td>0.0</td>\n      <td>0.0</td>\n      <td>0.0</td>\n      <td>0.0</td>\n      <td>0.0</td>\n      <td>0.0</td>\n      <td>0.0</td>\n      <td>...</td>\n      <td>0.0</td>\n      <td>0.0</td>\n      <td>0.0</td>\n      <td>0.0</td>\n      <td>424700000.0</td>\n      <td>130000000</td>\n      <td>3.266923</td>\n      <td>294700000.0</td>\n      <td>90%</td>\n      <td>90%</td>\n    </tr>\n    <tr>\n      <th>Star Wars: The Force Awakens</th>\n      <td>1.0</td>\n      <td>1.0</td>\n      <td>0.0</td>\n      <td>0.0</td>\n      <td>0.0</td>\n      <td>0.0</td>\n      <td>0.0</td>\n      <td>0.0</td>\n      <td>1.0</td>\n      <td>0.0</td>\n      <td>...</td>\n      <td>0.0</td>\n      <td>0.0</td>\n      <td>0.0</td>\n      <td>0.0</td>\n      <td>936700000.0</td>\n      <td>306000000</td>\n      <td>3.061111</td>\n      <td>630700000.0</td>\n      <td>92%</td>\n      <td>92%</td>\n    </tr>\n    <tr>\n      <th>Jurassic World</th>\n      <td>1.0</td>\n      <td>1.0</td>\n      <td>0.0</td>\n      <td>0.0</td>\n      <td>0.0</td>\n      <td>0.0</td>\n      <td>0.0</td>\n      <td>0.0</td>\n      <td>0.0</td>\n      <td>0.0</td>\n      <td>...</td>\n      <td>0.0</td>\n      <td>1.0</td>\n      <td>0.0</td>\n      <td>0.0</td>\n      <td>652300000.0</td>\n      <td>215000000</td>\n      <td>3.033953</td>\n      <td>437300000.0</td>\n      <td>71%</td>\n      <td>71%</td>\n    </tr>\n    <tr>\n      <th>Avengers: Age of Ultron</th>\n      <td>1.0</td>\n      <td>1.0</td>\n      <td>0.0</td>\n      <td>0.0</td>\n      <td>0.0</td>\n      <td>0.0</td>\n      <td>0.0</td>\n      <td>0.0</td>\n      <td>0.0</td>\n      <td>0.0</td>\n      <td>...</td>\n      <td>0.0</td>\n      <td>0.0</td>\n      <td>0.0</td>\n      <td>0.0</td>\n      <td>459000000.0</td>\n      <td>330600000</td>\n      <td>1.388385</td>\n      <td>128400000.0</td>\n      <td>76%</td>\n      <td>76%</td>\n    </tr>\n    <tr>\n      <th>Captain America: Civil War</th>\n      <td>1.0</td>\n      <td>1.0</td>\n      <td>0.0</td>\n      <td>0.0</td>\n      <td>0.0</td>\n      <td>0.0</td>\n      <td>0.0</td>\n      <td>0.0</td>\n      <td>0.0</td>\n      <td>0.0</td>\n      <td>...</td>\n      <td>0.0</td>\n      <td>0.0</td>\n      <td>0.0</td>\n      <td>0.0</td>\n      <td>408100000.0</td>\n      <td>250000000</td>\n      <td>1.632400</td>\n      <td>158100000.0</td>\n      <td>91%</td>\n      <td>91%</td>\n    </tr>\n    <tr>\n      <th>Rogue One: A Star Wars Story</th>\n      <td>1.0</td>\n      <td>1.0</td>\n      <td>0.0</td>\n      <td>0.0</td>\n      <td>0.0</td>\n      <td>0.0</td>\n      <td>0.0</td>\n      <td>0.0</td>\n      <td>0.0</td>\n      <td>0.0</td>\n      <td>...</td>\n      <td>0.0</td>\n      <td>0.0</td>\n      <td>0.0</td>\n      <td>0.0</td>\n      <td>532200000.0</td>\n      <td>200000000</td>\n      <td>2.661000</td>\n      <td>332200000.0</td>\n      <td>84%</td>\n      <td>84%</td>\n    </tr>\n    <tr>\n      <th>Finding Dory</th>\n      <td>0.0</td>\n      <td>1.0</td>\n      <td>1.0</td>\n      <td>1.0</td>\n      <td>0.0</td>\n      <td>0.0</td>\n      <td>0.0</td>\n      <td>1.0</td>\n      <td>0.0</td>\n      <td>0.0</td>\n      <td>...</td>\n      <td>0.0</td>\n      <td>0.0</td>\n      <td>0.0</td>\n      <td>0.0</td>\n      <td>486300000.0</td>\n      <td>200000000</td>\n      <td>2.431500</td>\n      <td>286300000.0</td>\n      <td>94%</td>\n      <td>94%</td>\n    </tr>\n    <tr>\n      <th>Star Wars: The Last Jedi</th>\n      <td>1.0</td>\n      <td>1.0</td>\n      <td>0.0</td>\n      <td>0.0</td>\n      <td>0.0</td>\n      <td>0.0</td>\n      <td>0.0</td>\n      <td>0.0</td>\n      <td>1.0</td>\n      <td>0.0</td>\n      <td>...</td>\n      <td>0.0</td>\n      <td>0.0</td>\n      <td>0.0</td>\n      <td>0.0</td>\n      <td>620200000.0</td>\n      <td>200000000</td>\n      <td>3.101000</td>\n      <td>420200000.0</td>\n      <td>90%</td>\n      <td>90%</td>\n    </tr>\n    <tr>\n      <th>Beauty and the Beast</th>\n      <td>0.0</td>\n      <td>0.0</td>\n      <td>1.0</td>\n      <td>0.0</td>\n      <td>0.0</td>\n      <td>0.0</td>\n      <td>0.0</td>\n      <td>1.0</td>\n      <td>1.0</td>\n      <td>0.0</td>\n      <td>...</td>\n      <td>0.0</td>\n      <td>0.0</td>\n      <td>0.0</td>\n      <td>0.0</td>\n      <td>504000000.0</td>\n      <td>160000000</td>\n      <td>3.150000</td>\n      <td>344000000.0</td>\n      <td>71%</td>\n      <td>71%</td>\n    </tr>\n    <tr>\n      <th>Jumanji: Welcome to the Jungle</th>\n      <td>1.0</td>\n      <td>1.0</td>\n      <td>0.0</td>\n      <td>1.0</td>\n      <td>0.0</td>\n      <td>0.0</td>\n      <td>0.0</td>\n      <td>0.0</td>\n      <td>1.0</td>\n      <td>0.0</td>\n      <td>...</td>\n      <td>0.0</td>\n      <td>0.0</td>\n      <td>0.0</td>\n      <td>0.0</td>\n      <td>404500000.0</td>\n      <td>90000000</td>\n      <td>4.494444</td>\n      <td>314500000.0</td>\n      <td>76%</td>\n      <td>76%</td>\n    </tr>\n    <tr>\n      <th>Wonder Woman</th>\n      <td>1.0</td>\n      <td>0.0</td>\n      <td>0.0</td>\n      <td>0.0</td>\n      <td>0.0</td>\n      <td>0.0</td>\n      <td>0.0</td>\n      <td>0.0</td>\n      <td>1.0</td>\n      <td>0.0</td>\n      <td>...</td>\n      <td>0.0</td>\n      <td>0.0</td>\n      <td>0.0</td>\n      <td>0.0</td>\n      <td>412600000.0</td>\n      <td>150000000</td>\n      <td>2.750667</td>\n      <td>262600000.0</td>\n      <td>82%</td>\n      <td>82%</td>\n    </tr>\n    <tr>\n      <th>Avengers: Infinity War</th>\n      <td>1.0</td>\n      <td>1.0</td>\n      <td>0.0</td>\n      <td>0.0</td>\n      <td>0.0</td>\n      <td>0.0</td>\n      <td>0.0</td>\n      <td>0.0</td>\n      <td>1.0</td>\n      <td>0.0</td>\n      <td>...</td>\n      <td>0.0</td>\n      <td>0.0</td>\n      <td>0.0</td>\n      <td>0.0</td>\n      <td>678800000.0</td>\n      <td>300000000</td>\n      <td>2.262667</td>\n      <td>378800000.0</td>\n      <td>85%</td>\n      <td>85%</td>\n    </tr>\n    <tr>\n      <th>Black Panther</th>\n      <td>1.0</td>\n      <td>0.0</td>\n      <td>1.0</td>\n      <td>0.0</td>\n      <td>0.0</td>\n      <td>0.0</td>\n      <td>0.0</td>\n      <td>0.0</td>\n      <td>0.0</td>\n      <td>0.0</td>\n      <td>...</td>\n      <td>0.0</td>\n      <td>0.0</td>\n      <td>0.0</td>\n      <td>0.0</td>\n      <td>700100000.0</td>\n      <td>200000000</td>\n      <td>3.500500</td>\n      <td>500100000.0</td>\n      <td>48%</td>\n      <td>48%</td>\n    </tr>\n    <tr>\n      <th>Jurassic World: Fallen Kingdom</th>\n      <td>1.0</td>\n      <td>1.0</td>\n      <td>0.0</td>\n      <td>0.0</td>\n      <td>0.0</td>\n      <td>0.0</td>\n      <td>0.0</td>\n      <td>0.0</td>\n      <td>0.0</td>\n      <td>0.0</td>\n      <td>...</td>\n      <td>0.0</td>\n      <td>0.0</td>\n      <td>0.0</td>\n      <td>0.0</td>\n      <td>417700000.0</td>\n      <td>170000000</td>\n      <td>2.457059</td>\n      <td>247700000.0</td>\n      <td>47%</td>\n      <td>47%</td>\n    </tr>\n    <tr>\n      <th>Incredibles 2</th>\n      <td>1.0</td>\n      <td>1.0</td>\n      <td>1.0</td>\n      <td>0.0</td>\n      <td>0.0</td>\n      <td>0.0</td>\n      <td>0.0</td>\n      <td>1.0</td>\n      <td>0.0</td>\n      <td>0.0</td>\n      <td>...</td>\n      <td>0.0</td>\n      <td>0.0</td>\n      <td>0.0</td>\n      <td>0.0</td>\n      <td>608600000.0</td>\n      <td>200000000</td>\n      <td>3.043000</td>\n      <td>408600000.0</td>\n      <td>93%</td>\n      <td>93%</td>\n    </tr>\n  </tbody>\n</table>\n<p>21 rows × 25 columns</p>\n</div>"
     },
     "metadata": {},
     "execution_count": 208
    }
   ],
   "source": [
    "genre21"
   ]
  },
  {
   "cell_type": "code",
   "execution_count": 198,
   "metadata": {},
   "outputs": [
    {
     "output_type": "execute_result",
     "data": {
      "text/plain": [
       "       Unnamed: 0            genre_ids      id original_language  \\\n",
       "0               0      [12, 14, 10751]   12444                en   \n",
       "1               1  [14, 12, 16, 10751]   10191                en   \n",
       "2               2        [12, 28, 878]   10138                en   \n",
       "3               3      [16, 35, 10751]     862                en   \n",
       "4               4        [28, 878, 12]   27205                en   \n",
       "...           ...                  ...     ...               ...   \n",
       "26512       26512             [27, 18]  488143                en   \n",
       "26513       26513             [18, 53]  485975                en   \n",
       "26514       26514         [14, 28, 12]  381231                en   \n",
       "26515       26515      [10751, 12, 28]  366854                en   \n",
       "26516       26516             [53, 27]  309885                en   \n",
       "\n",
       "                                     original_title  popularity release_date  \\\n",
       "0      Harry Potter and the Deathly Hallows: Part 1      33.533   2010-11-19   \n",
       "1                          How to Train Your Dragon      28.734   2010-03-26   \n",
       "2                                        Iron Man 2      28.515   2010-05-07   \n",
       "3                                         Toy Story      28.005   1995-11-22   \n",
       "4                                         Inception      27.920   2010-07-16   \n",
       "...                                             ...         ...          ...   \n",
       "26512                         Laboratory Conditions       0.600   2018-10-13   \n",
       "26513                               _EXHIBIT_84xxx_       0.600   2018-05-01   \n",
       "26514                                  The Last One       0.600   2018-10-01   \n",
       "26515                                  Trailer Made       0.600   2018-06-22   \n",
       "26516                                    The Church       0.600   2018-10-05   \n",
       "\n",
       "                                              title  vote_average  vote_count  \n",
       "0      Harry Potter and the Deathly Hallows: Part 1           7.7       10788  \n",
       "1                          How to Train Your Dragon           7.7        7610  \n",
       "2                                        Iron Man 2           6.8       12368  \n",
       "3                                         Toy Story           7.9       10174  \n",
       "4                                         Inception           8.3       22186  \n",
       "...                                             ...           ...         ...  \n",
       "26512                         Laboratory Conditions           0.0           1  \n",
       "26513                               _EXHIBIT_84xxx_           0.0           1  \n",
       "26514                                  The Last One           0.0           1  \n",
       "26515                                  Trailer Made           0.0           1  \n",
       "26516                                    The Church           0.0           1  \n",
       "\n",
       "[26517 rows x 10 columns]"
      ],
      "text/html": "<div>\n<style scoped>\n    .dataframe tbody tr th:only-of-type {\n        vertical-align: middle;\n    }\n\n    .dataframe tbody tr th {\n        vertical-align: top;\n    }\n\n    .dataframe thead th {\n        text-align: right;\n    }\n</style>\n<table border=\"1\" class=\"dataframe\">\n  <thead>\n    <tr style=\"text-align: right;\">\n      <th></th>\n      <th>Unnamed: 0</th>\n      <th>genre_ids</th>\n      <th>id</th>\n      <th>original_language</th>\n      <th>original_title</th>\n      <th>popularity</th>\n      <th>release_date</th>\n      <th>title</th>\n      <th>vote_average</th>\n      <th>vote_count</th>\n    </tr>\n  </thead>\n  <tbody>\n    <tr>\n      <th>0</th>\n      <td>0</td>\n      <td>[12, 14, 10751]</td>\n      <td>12444</td>\n      <td>en</td>\n      <td>Harry Potter and the Deathly Hallows: Part 1</td>\n      <td>33.533</td>\n      <td>2010-11-19</td>\n      <td>Harry Potter and the Deathly Hallows: Part 1</td>\n      <td>7.7</td>\n      <td>10788</td>\n    </tr>\n    <tr>\n      <th>1</th>\n      <td>1</td>\n      <td>[14, 12, 16, 10751]</td>\n      <td>10191</td>\n      <td>en</td>\n      <td>How to Train Your Dragon</td>\n      <td>28.734</td>\n      <td>2010-03-26</td>\n      <td>How to Train Your Dragon</td>\n      <td>7.7</td>\n      <td>7610</td>\n    </tr>\n    <tr>\n      <th>2</th>\n      <td>2</td>\n      <td>[12, 28, 878]</td>\n      <td>10138</td>\n      <td>en</td>\n      <td>Iron Man 2</td>\n      <td>28.515</td>\n      <td>2010-05-07</td>\n      <td>Iron Man 2</td>\n      <td>6.8</td>\n      <td>12368</td>\n    </tr>\n    <tr>\n      <th>3</th>\n      <td>3</td>\n      <td>[16, 35, 10751]</td>\n      <td>862</td>\n      <td>en</td>\n      <td>Toy Story</td>\n      <td>28.005</td>\n      <td>1995-11-22</td>\n      <td>Toy Story</td>\n      <td>7.9</td>\n      <td>10174</td>\n    </tr>\n    <tr>\n      <th>4</th>\n      <td>4</td>\n      <td>[28, 878, 12]</td>\n      <td>27205</td>\n      <td>en</td>\n      <td>Inception</td>\n      <td>27.920</td>\n      <td>2010-07-16</td>\n      <td>Inception</td>\n      <td>8.3</td>\n      <td>22186</td>\n    </tr>\n    <tr>\n      <th>...</th>\n      <td>...</td>\n      <td>...</td>\n      <td>...</td>\n      <td>...</td>\n      <td>...</td>\n      <td>...</td>\n      <td>...</td>\n      <td>...</td>\n      <td>...</td>\n      <td>...</td>\n    </tr>\n    <tr>\n      <th>26512</th>\n      <td>26512</td>\n      <td>[27, 18]</td>\n      <td>488143</td>\n      <td>en</td>\n      <td>Laboratory Conditions</td>\n      <td>0.600</td>\n      <td>2018-10-13</td>\n      <td>Laboratory Conditions</td>\n      <td>0.0</td>\n      <td>1</td>\n    </tr>\n    <tr>\n      <th>26513</th>\n      <td>26513</td>\n      <td>[18, 53]</td>\n      <td>485975</td>\n      <td>en</td>\n      <td>_EXHIBIT_84xxx_</td>\n      <td>0.600</td>\n      <td>2018-05-01</td>\n      <td>_EXHIBIT_84xxx_</td>\n      <td>0.0</td>\n      <td>1</td>\n    </tr>\n    <tr>\n      <th>26514</th>\n      <td>26514</td>\n      <td>[14, 28, 12]</td>\n      <td>381231</td>\n      <td>en</td>\n      <td>The Last One</td>\n      <td>0.600</td>\n      <td>2018-10-01</td>\n      <td>The Last One</td>\n      <td>0.0</td>\n      <td>1</td>\n    </tr>\n    <tr>\n      <th>26515</th>\n      <td>26515</td>\n      <td>[10751, 12, 28]</td>\n      <td>366854</td>\n      <td>en</td>\n      <td>Trailer Made</td>\n      <td>0.600</td>\n      <td>2018-06-22</td>\n      <td>Trailer Made</td>\n      <td>0.0</td>\n      <td>1</td>\n    </tr>\n    <tr>\n      <th>26516</th>\n      <td>26516</td>\n      <td>[53, 27]</td>\n      <td>309885</td>\n      <td>en</td>\n      <td>The Church</td>\n      <td>0.600</td>\n      <td>2018-10-05</td>\n      <td>The Church</td>\n      <td>0.0</td>\n      <td>1</td>\n    </tr>\n  </tbody>\n</table>\n<p>26517 rows × 10 columns</p>\n</div>"
     },
     "metadata": {},
     "execution_count": 198
    }
   ],
   "source": [
    "tmdbmovies"
   ]
  },
  {
   "cell_type": "code",
   "execution_count": 196,
   "metadata": {},
   "outputs": [
    {
     "output_type": "execute_result",
     "data": {
      "text/plain": [
       "'Sunghursh'"
      ]
     },
     "metadata": {},
     "execution_count": 196
    }
   ],
   "source": [
    "imdbcrewtitle2['primary_title'][0]"
   ]
  },
  {
   "cell_type": "code",
   "execution_count": null,
   "metadata": {},
   "outputs": [],
   "source": [
    "imdbprincname = imdbprinc.merge(imdbname, on='nconst')"
   ]
  },
  {
   "cell_type": "code",
   "execution_count": null,
   "metadata": {},
   "outputs": [],
   "source": [
    "imdbprincnametitleouter = imdbprincname.merge(imdbtitle, left_on='tconst', right_on='title_id',how='outer')"
   ]
  },
  {
   "cell_type": "code",
   "execution_count": 178,
   "metadata": {},
   "outputs": [
    {
     "output_type": "error",
     "ename": "NameError",
     "evalue": "name 'imdbprincnametitleouter' is not defined",
     "traceback": [
      "\u001b[1;31m---------------------------------------------------------------------------\u001b[0m",
      "\u001b[1;31mNameError\u001b[0m                                 Traceback (most recent call last)",
      "\u001b[1;32m<ipython-input-178-5f97bbcf12f0>\u001b[0m in \u001b[0;36m<module>\u001b[1;34m\u001b[0m\n\u001b[1;32m----> 1\u001b[1;33m \u001b[0mimdball\u001b[0m \u001b[1;33m=\u001b[0m \u001b[0mimdbprincnametitleouter\u001b[0m\u001b[1;33m.\u001b[0m\u001b[0mmerge\u001b[0m\u001b[1;33m(\u001b[0m\u001b[0mimdbcrewtitle2\u001b[0m\u001b[1;33m,\u001b[0m \u001b[0mon\u001b[0m\u001b[1;33m=\u001b[0m\u001b[1;34m'tconst'\u001b[0m\u001b[1;33m)\u001b[0m\u001b[1;33m\u001b[0m\u001b[1;33m\u001b[0m\u001b[0m\n\u001b[0m\u001b[0;32m      2\u001b[0m \u001b[0mimdball\u001b[0m\u001b[1;33m\u001b[0m\u001b[1;33m\u001b[0m\u001b[0m\n",
      "\u001b[1;31mNameError\u001b[0m: name 'imdbprincnametitleouter' is not defined"
     ]
    }
   ],
   "source": [
    "imdball = imdbprincnametitleouter.merge(imdbcrewtitle2, on='tconst')\n",
    "imdball"
   ]
  }
 ]
}