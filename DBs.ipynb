{
 "metadata": {
  "language_info": {
   "codemirror_mode": {
    "name": "ipython",
    "version": 3
   },
   "file_extension": ".py",
   "mimetype": "text/x-python",
   "name": "python",
   "nbconvert_exporter": "python",
   "pygments_lexer": "ipython3",
   "version": "3.8.3-final"
  },
  "orig_nbformat": 2,
  "kernelspec": {
   "name": "Python 3.8.3 64-bit ('base': conda)",
   "display_name": "Python 3.8.3 64-bit ('base': conda)",
   "metadata": {
    "interpreter": {
     "hash": "8a4dba99b337f7b7c56f3257436139b377f4b22d5009ee8ecea169cfe4d2a37e"
    }
   }
  }
 },
 "nbformat": 4,
 "nbformat_minor": 2,
 "cells": [
  {
   "cell_type": "code",
   "execution_count": 245,
   "metadata": {},
   "outputs": [],
   "source": [
    "import pandas as pd\n",
    "import numpy as np"
   ]
  },
  {
   "cell_type": "code",
   "execution_count": 25,
   "metadata": {},
   "outputs": [],
   "source": [
    "mjgross = pd.read_csv('D:/Flatiron/Project/Zips/bom.movie_gross.csv/bom.movie_gross.csv')\n",
    "imdbname = pd.read_csv('D:/Flatiron/Project/Zips/imdb.name.basics.csv/name.basics.csv')\n",
    "imdbtitle = pd.read_csv('D:/Flatiron/Project/Zips/imdb.title.akas.csv/title.akas.csv')\n",
    "imdbtitle2 = pd.read_csv('D:/Flatiron/Project/Zips/imdb.title.basics.csv/title.basics.csv')\n",
    "imdbcrew = pd.read_csv('D:/Flatiron/Project/Zips/imdb.title.crew.csv/title.crew.csv')\n",
    "imdbprinc = pd.read_csv('D:/Flatiron/Project/Zips/imdb.title.principals.csv/title.principals.csv')\n",
    "imdbrate = pd.read_csv('D:/Flatiron/Project/Zips/imdb.title.ratings.csv/title.ratings.csv')\n",
    "rtinfo = pd.read_csv('D:/Flatiron/Project/Zips/rt.movie_info.tsv/rt.movie_info.tsv', delimiter='\\t')\n",
    "rtreviews = pd.read_csv('D:/Flatiron/Project/Zips/rt.reviews.tsv/rt.reviews.tsv', sep=None)\n",
    "tmdbmovies = pd.read_csv('D:/Flatiron/Project/Zips/tmdb.movies.csv/tmdb.movies.csv')\n",
    "tnbudgets = pd.read_csv('D:/Flatiron/Project/Zips/tn.movie_budgets.csv/tn.movie_budgets.csv')"
   ]
  },
  {
   "cell_type": "code",
   "execution_count": 26,
   "metadata": {},
   "outputs": [],
   "source": [
    "# joined imdbcrew and imdbtitle2\n",
    "imdbcrewtitle2 = imdbtitle2.join(imdbcrew.set_index('tconst'), on='tconst')\n"
   ]
  },
  {
   "cell_type": "code",
   "execution_count": 27,
   "metadata": {},
   "outputs": [],
   "source": [
    "#Editing, dropping mostly empty or useless columns\n",
    "imdbname.drop(['birth_year','death_year'], axis=1, inplace=True)\n",
    "imdbtitle.drop(['attributes','language'], axis=1, inplace=True)\n",
    "imdbprinc.drop(['job','characters'], axis=1, inplace=True)\n",
    "rtinfo.drop(['synopsis','theater_date','dvd_date','studio','currency'], axis=1, inplace=True)"
   ]
  },
  {
   "cell_type": "code",
   "execution_count": 267,
   "metadata": {},
   "outputs": [
    {
     "output_type": "stream",
     "name": "stdout",
     "text": [
      "{28: 'Action', 12: 'Adventure', 16: 'Animation', 35: 'Comedy', 80: 'Crime', 99: 'Documentary', 18: 'Drama', 10751: 'Family', 14: 'Fantasy', 36: 'History', 27: 'Horror', 10402: 'Music', 9648: 'Mystery', 10749: 'Romance', 878: 'Science Fiction', 10770: 'TV Movie', 53: 'Thriller', 10752: 'War', 37: 'Western'}\n"
     ]
    }
   ],
   "source": [
    "genre_dict = [{\"id\":28,\"name\":\"Action\"},{\"id\":12,\"name\":\"Adventure\"},{\"id\":16,\"name\":\"Animation\"},{\"id\":35,\"name\":\"Comedy\"},{\"id\":80,\"name\":\"Crime\"},{\"id\":99,\"name\":\"Documentary\"},{\"id\":18,\"name\":\"Drama\"},{\"id\":10751,\"name\":\"Family\"},{\"id\":14,\"name\":\"Fantasy\"},{\"id\":36,\"name\":\"History\"},{\"id\":27,\"name\":\"Horror\"},{\"id\":10402,\"name\":\"Music\"},{\"id\":9648,\"name\":\"Mystery\"},{\"id\":10749,\"name\":\"Romance\"},{\"id\":878,\"name\":\"Science Fiction\"},{\"id\":10770,\"name\":\"TV Movie\"},{\"id\":53,\"name\":\"Thriller\"},{\"id\":10752,\"name\":\"War\"},{\"id\":37,\"name\":\"Western\"}]\n",
    "k = []\n",
    "v = []\n",
    "for i in range(len(genre_dict)):\n",
    "    k.append(genre_dict[i]['id'])\n",
    "    v.append(genre_dict[i]['name'])\n",
    "gendic = dict(zip(k,v))\n",
    "print(gendic)"
   ]
  },
  {
   "cell_type": "code",
   "execution_count": 301,
   "metadata": {},
   "outputs": [
    {
     "output_type": "error",
     "ename": "SyntaxError",
     "evalue": "cannot assign to function call (<ipython-input-301-1291d5026b14>, line 1)",
     "traceback": [
      "\u001b[1;36m  File \u001b[1;32m\"<ipython-input-301-1291d5026b14>\"\u001b[1;36m, line \u001b[1;32m1\u001b[0m\n\u001b[1;33m    titles = tmdbmovies['title'].to_list() = tmdbmovies['']\u001b[0m\n\u001b[1;37m             ^\u001b[0m\n\u001b[1;31mSyntaxError\u001b[0m\u001b[1;31m:\u001b[0m cannot assign to function call\n"
     ]
    }
   ],
   "source": [
    "titles = tmdbmovies['title'].to_list() = tmdbmovies['']"
   ]
  },
  {
   "cell_type": "code",
   "execution_count": 298,
   "metadata": {},
   "outputs": [
    {
     "output_type": "execute_result",
     "data": {
      "text/plain": [
       "                                              Action  Adventure  Animation  \\\n",
       "titles                                                                       \n",
       "Harry Potter and the Deathly Hallows: Part 1       0          0          0   \n",
       "How to Train Your Dragon                           0          0          0   \n",
       "Iron Man 2                                         0          0          0   \n",
       "Toy Story                                          0          0          0   \n",
       "Inception                                          0          0          0   \n",
       "...                                              ...        ...        ...   \n",
       "Laboratory Conditions                              0          0          0   \n",
       "_EXHIBIT_84xxx_                                    0          0          0   \n",
       "The Last One                                       0          0          0   \n",
       "Trailer Made                                       0          0          0   \n",
       "The Church                                         0          0          0   \n",
       "\n",
       "                                              Comedy  Crime  Documentary  \\\n",
       "titles                                                                     \n",
       "Harry Potter and the Deathly Hallows: Part 1       0      0            0   \n",
       "How to Train Your Dragon                           0      0            0   \n",
       "Iron Man 2                                         0      0            0   \n",
       "Toy Story                                          0      0            0   \n",
       "Inception                                          0      0            0   \n",
       "...                                              ...    ...          ...   \n",
       "Laboratory Conditions                              0      0            0   \n",
       "_EXHIBIT_84xxx_                                    0      0            0   \n",
       "The Last One                                       0      0            0   \n",
       "Trailer Made                                       0      0            0   \n",
       "The Church                                         0      0            0   \n",
       "\n",
       "                                              Drama  Family  Fantasy  History  \\\n",
       "titles                                                                          \n",
       "Harry Potter and the Deathly Hallows: Part 1      0       0        0        0   \n",
       "How to Train Your Dragon                          0       0        0        0   \n",
       "Iron Man 2                                        0       0        0        0   \n",
       "Toy Story                                         0       0        0        0   \n",
       "Inception                                         0       0        0        0   \n",
       "...                                             ...     ...      ...      ...   \n",
       "Laboratory Conditions                             0       0        0        0   \n",
       "_EXHIBIT_84xxx_                                   0       0        0        0   \n",
       "The Last One                                      0       0        0        0   \n",
       "Trailer Made                                      0       0        0        0   \n",
       "The Church                                        0       0        0        0   \n",
       "\n",
       "                                              Horror  Music  Mystery  Romance  \\\n",
       "titles                                                                          \n",
       "Harry Potter and the Deathly Hallows: Part 1       0      0        0        0   \n",
       "How to Train Your Dragon                           0      0        0        0   \n",
       "Iron Man 2                                         0      0        0        0   \n",
       "Toy Story                                          0      0        0        0   \n",
       "Inception                                          0      0        0        0   \n",
       "...                                              ...    ...      ...      ...   \n",
       "Laboratory Conditions                              0      0        0        0   \n",
       "_EXHIBIT_84xxx_                                    0      0        0        0   \n",
       "The Last One                                       0      0        0        0   \n",
       "Trailer Made                                       0      0        0        0   \n",
       "The Church                                         0      0        0        0   \n",
       "\n",
       "                                              Science Fiction  TV Movie  \\\n",
       "titles                                                                    \n",
       "Harry Potter and the Deathly Hallows: Part 1                0         0   \n",
       "How to Train Your Dragon                                    0         0   \n",
       "Iron Man 2                                                  0         0   \n",
       "Toy Story                                                   0         0   \n",
       "Inception                                                   0         0   \n",
       "...                                                       ...       ...   \n",
       "Laboratory Conditions                                       0         0   \n",
       "_EXHIBIT_84xxx_                                             0         0   \n",
       "The Last One                                                0         0   \n",
       "Trailer Made                                                0         0   \n",
       "The Church                                                  0         0   \n",
       "\n",
       "                                              Thriller  War  Western  \n",
       "titles                                                                \n",
       "Harry Potter and the Deathly Hallows: Part 1         0    0        0  \n",
       "How to Train Your Dragon                             0    0        0  \n",
       "Iron Man 2                                           0    0        0  \n",
       "Toy Story                                            0    0        0  \n",
       "Inception                                            0    0        0  \n",
       "...                                                ...  ...      ...  \n",
       "Laboratory Conditions                                0    0        0  \n",
       "_EXHIBIT_84xxx_                                      0    0        0  \n",
       "The Last One                                         0    0        0  \n",
       "Trailer Made                                         0    0        0  \n",
       "The Church                                           0    0        0  \n",
       "\n",
       "[26517 rows x 19 columns]"
      ],
      "text/html": "<div>\n<style scoped>\n    .dataframe tbody tr th:only-of-type {\n        vertical-align: middle;\n    }\n\n    .dataframe tbody tr th {\n        vertical-align: top;\n    }\n\n    .dataframe thead th {\n        text-align: right;\n    }\n</style>\n<table border=\"1\" class=\"dataframe\">\n  <thead>\n    <tr style=\"text-align: right;\">\n      <th></th>\n      <th>Action</th>\n      <th>Adventure</th>\n      <th>Animation</th>\n      <th>Comedy</th>\n      <th>Crime</th>\n      <th>Documentary</th>\n      <th>Drama</th>\n      <th>Family</th>\n      <th>Fantasy</th>\n      <th>History</th>\n      <th>Horror</th>\n      <th>Music</th>\n      <th>Mystery</th>\n      <th>Romance</th>\n      <th>Science Fiction</th>\n      <th>TV Movie</th>\n      <th>Thriller</th>\n      <th>War</th>\n      <th>Western</th>\n    </tr>\n    <tr>\n      <th>titles</th>\n      <th></th>\n      <th></th>\n      <th></th>\n      <th></th>\n      <th></th>\n      <th></th>\n      <th></th>\n      <th></th>\n      <th></th>\n      <th></th>\n      <th></th>\n      <th></th>\n      <th></th>\n      <th></th>\n      <th></th>\n      <th></th>\n      <th></th>\n      <th></th>\n      <th></th>\n    </tr>\n  </thead>\n  <tbody>\n    <tr>\n      <th>Harry Potter and the Deathly Hallows: Part 1</th>\n      <td>0</td>\n      <td>0</td>\n      <td>0</td>\n      <td>0</td>\n      <td>0</td>\n      <td>0</td>\n      <td>0</td>\n      <td>0</td>\n      <td>0</td>\n      <td>0</td>\n      <td>0</td>\n      <td>0</td>\n      <td>0</td>\n      <td>0</td>\n      <td>0</td>\n      <td>0</td>\n      <td>0</td>\n      <td>0</td>\n      <td>0</td>\n    </tr>\n    <tr>\n      <th>How to Train Your Dragon</th>\n      <td>0</td>\n      <td>0</td>\n      <td>0</td>\n      <td>0</td>\n      <td>0</td>\n      <td>0</td>\n      <td>0</td>\n      <td>0</td>\n      <td>0</td>\n      <td>0</td>\n      <td>0</td>\n      <td>0</td>\n      <td>0</td>\n      <td>0</td>\n      <td>0</td>\n      <td>0</td>\n      <td>0</td>\n      <td>0</td>\n      <td>0</td>\n    </tr>\n    <tr>\n      <th>Iron Man 2</th>\n      <td>0</td>\n      <td>0</td>\n      <td>0</td>\n      <td>0</td>\n      <td>0</td>\n      <td>0</td>\n      <td>0</td>\n      <td>0</td>\n      <td>0</td>\n      <td>0</td>\n      <td>0</td>\n      <td>0</td>\n      <td>0</td>\n      <td>0</td>\n      <td>0</td>\n      <td>0</td>\n      <td>0</td>\n      <td>0</td>\n      <td>0</td>\n    </tr>\n    <tr>\n      <th>Toy Story</th>\n      <td>0</td>\n      <td>0</td>\n      <td>0</td>\n      <td>0</td>\n      <td>0</td>\n      <td>0</td>\n      <td>0</td>\n      <td>0</td>\n      <td>0</td>\n      <td>0</td>\n      <td>0</td>\n      <td>0</td>\n      <td>0</td>\n      <td>0</td>\n      <td>0</td>\n      <td>0</td>\n      <td>0</td>\n      <td>0</td>\n      <td>0</td>\n    </tr>\n    <tr>\n      <th>Inception</th>\n      <td>0</td>\n      <td>0</td>\n      <td>0</td>\n      <td>0</td>\n      <td>0</td>\n      <td>0</td>\n      <td>0</td>\n      <td>0</td>\n      <td>0</td>\n      <td>0</td>\n      <td>0</td>\n      <td>0</td>\n      <td>0</td>\n      <td>0</td>\n      <td>0</td>\n      <td>0</td>\n      <td>0</td>\n      <td>0</td>\n      <td>0</td>\n    </tr>\n    <tr>\n      <th>...</th>\n      <td>...</td>\n      <td>...</td>\n      <td>...</td>\n      <td>...</td>\n      <td>...</td>\n      <td>...</td>\n      <td>...</td>\n      <td>...</td>\n      <td>...</td>\n      <td>...</td>\n      <td>...</td>\n      <td>...</td>\n      <td>...</td>\n      <td>...</td>\n      <td>...</td>\n      <td>...</td>\n      <td>...</td>\n      <td>...</td>\n      <td>...</td>\n    </tr>\n    <tr>\n      <th>Laboratory Conditions</th>\n      <td>0</td>\n      <td>0</td>\n      <td>0</td>\n      <td>0</td>\n      <td>0</td>\n      <td>0</td>\n      <td>0</td>\n      <td>0</td>\n      <td>0</td>\n      <td>0</td>\n      <td>0</td>\n      <td>0</td>\n      <td>0</td>\n      <td>0</td>\n      <td>0</td>\n      <td>0</td>\n      <td>0</td>\n      <td>0</td>\n      <td>0</td>\n    </tr>\n    <tr>\n      <th>_EXHIBIT_84xxx_</th>\n      <td>0</td>\n      <td>0</td>\n      <td>0</td>\n      <td>0</td>\n      <td>0</td>\n      <td>0</td>\n      <td>0</td>\n      <td>0</td>\n      <td>0</td>\n      <td>0</td>\n      <td>0</td>\n      <td>0</td>\n      <td>0</td>\n      <td>0</td>\n      <td>0</td>\n      <td>0</td>\n      <td>0</td>\n      <td>0</td>\n      <td>0</td>\n    </tr>\n    <tr>\n      <th>The Last One</th>\n      <td>0</td>\n      <td>0</td>\n      <td>0</td>\n      <td>0</td>\n      <td>0</td>\n      <td>0</td>\n      <td>0</td>\n      <td>0</td>\n      <td>0</td>\n      <td>0</td>\n      <td>0</td>\n      <td>0</td>\n      <td>0</td>\n      <td>0</td>\n      <td>0</td>\n      <td>0</td>\n      <td>0</td>\n      <td>0</td>\n      <td>0</td>\n    </tr>\n    <tr>\n      <th>Trailer Made</th>\n      <td>0</td>\n      <td>0</td>\n      <td>0</td>\n      <td>0</td>\n      <td>0</td>\n      <td>0</td>\n      <td>0</td>\n      <td>0</td>\n      <td>0</td>\n      <td>0</td>\n      <td>0</td>\n      <td>0</td>\n      <td>0</td>\n      <td>0</td>\n      <td>0</td>\n      <td>0</td>\n      <td>0</td>\n      <td>0</td>\n      <td>0</td>\n    </tr>\n    <tr>\n      <th>The Church</th>\n      <td>0</td>\n      <td>0</td>\n      <td>0</td>\n      <td>0</td>\n      <td>0</td>\n      <td>0</td>\n      <td>0</td>\n      <td>0</td>\n      <td>0</td>\n      <td>0</td>\n      <td>0</td>\n      <td>0</td>\n      <td>0</td>\n      <td>0</td>\n      <td>0</td>\n      <td>0</td>\n      <td>0</td>\n      <td>0</td>\n      <td>0</td>\n    </tr>\n  </tbody>\n</table>\n<p>26517 rows × 19 columns</p>\n</div>"
     },
     "metadata": {},
     "execution_count": 298
    }
   ],
   "source": [
    "genresnp = np.zeros(shape=(26517, 19))\n",
    "genre = pd.DataFrame(genresnp, columns = v)\n",
    "genre = genre.applymap(lambda x: int(x))\n",
    "genre['titles'] = titles\n",
    "genre = genre.set_index('titles')\n",
    "genre"
   ]
  },
  {
   "cell_type": "code",
   "execution_count": 288,
   "metadata": {},
   "outputs": [
    {
     "output_type": "execute_result",
     "data": {
      "text/plain": [
       "Action             float64\n",
       "Adventure          float64\n",
       "Animation          float64\n",
       "Comedy             float64\n",
       "Crime              float64\n",
       "Documentary        float64\n",
       "Drama              float64\n",
       "Family             float64\n",
       "Fantasy            float64\n",
       "History            float64\n",
       "Horror             float64\n",
       "Music              float64\n",
       "Mystery            float64\n",
       "Romance            float64\n",
       "Science Fiction    float64\n",
       "TV Movie           float64\n",
       "Thriller           float64\n",
       "War                float64\n",
       "Western            float64\n",
       "titles              object\n",
       "dtype: object"
      ]
     },
     "metadata": {},
     "execution_count": 288
    }
   ],
   "source": [
    "genre.dtypes"
   ]
  },
  {
   "cell_type": "code",
   "execution_count": 232,
   "metadata": {},
   "outputs": [
    {
     "output_type": "execute_result",
     "data": {
      "text/plain": [
       "0            [12, 14, 10751]\n",
       "1        [14, 12, 16, 10751]\n",
       "2              [12, 28, 878]\n",
       "3            [16, 35, 10751]\n",
       "4              [28, 878, 12]\n",
       "                ...         \n",
       "26512               [27, 18]\n",
       "26513               [18, 53]\n",
       "26514           [14, 28, 12]\n",
       "26515        [10751, 12, 28]\n",
       "26516               [53, 27]\n",
       "Name: genre_ids, Length: 26517, dtype: object"
      ]
     },
     "metadata": {},
     "execution_count": 232
    }
   ],
   "source": [
    "tmdbmovies['genre_ids']"
   ]
  },
  {
   "cell_type": "code",
   "execution_count": 237,
   "metadata": {},
   "outputs": [
    {
     "output_type": "execute_result",
     "data": {
      "text/plain": [
       "       Unnamed: 0            genre_ids      id original_language  \\\n",
       "0               0      [12, 14, 10751]   12444                en   \n",
       "1               1  [14, 12, 16, 10751]   10191                en   \n",
       "2               2        [12, 28, 878]   10138                en   \n",
       "3               3      [16, 35, 10751]     862                en   \n",
       "4               4        [28, 878, 12]   27205                en   \n",
       "...           ...                  ...     ...               ...   \n",
       "26512       26512             [27, 18]  488143                en   \n",
       "26513       26513             [18, 53]  485975                en   \n",
       "26514       26514         [14, 28, 12]  381231                en   \n",
       "26515       26515      [10751, 12, 28]  366854                en   \n",
       "26516       26516             [53, 27]  309885                en   \n",
       "\n",
       "                                     original_title  popularity release_date  \\\n",
       "0      Harry Potter and the Deathly Hallows: Part 1      33.533   2010-11-19   \n",
       "1                          How to Train Your Dragon      28.734   2010-03-26   \n",
       "2                                        Iron Man 2      28.515   2010-05-07   \n",
       "3                                         Toy Story      28.005   1995-11-22   \n",
       "4                                         Inception      27.920   2010-07-16   \n",
       "...                                             ...         ...          ...   \n",
       "26512                         Laboratory Conditions       0.600   2018-10-13   \n",
       "26513                               _EXHIBIT_84xxx_       0.600   2018-05-01   \n",
       "26514                                  The Last One       0.600   2018-10-01   \n",
       "26515                                  Trailer Made       0.600   2018-06-22   \n",
       "26516                                    The Church       0.600   2018-10-05   \n",
       "\n",
       "                                              title  vote_average  vote_count  \n",
       "0      Harry Potter and the Deathly Hallows: Part 1           7.7       10788  \n",
       "1                          How to Train Your Dragon           7.7        7610  \n",
       "2                                        Iron Man 2           6.8       12368  \n",
       "3                                         Toy Story           7.9       10174  \n",
       "4                                         Inception           8.3       22186  \n",
       "...                                             ...           ...         ...  \n",
       "26512                         Laboratory Conditions           0.0           1  \n",
       "26513                               _EXHIBIT_84xxx_           0.0           1  \n",
       "26514                                  The Last One           0.0           1  \n",
       "26515                                  Trailer Made           0.0           1  \n",
       "26516                                    The Church           0.0           1  \n",
       "\n",
       "[26517 rows x 10 columns]"
      ],
      "text/html": "<div>\n<style scoped>\n    .dataframe tbody tr th:only-of-type {\n        vertical-align: middle;\n    }\n\n    .dataframe tbody tr th {\n        vertical-align: top;\n    }\n\n    .dataframe thead th {\n        text-align: right;\n    }\n</style>\n<table border=\"1\" class=\"dataframe\">\n  <thead>\n    <tr style=\"text-align: right;\">\n      <th></th>\n      <th>Unnamed: 0</th>\n      <th>genre_ids</th>\n      <th>id</th>\n      <th>original_language</th>\n      <th>original_title</th>\n      <th>popularity</th>\n      <th>release_date</th>\n      <th>title</th>\n      <th>vote_average</th>\n      <th>vote_count</th>\n    </tr>\n  </thead>\n  <tbody>\n    <tr>\n      <th>0</th>\n      <td>0</td>\n      <td>[12, 14, 10751]</td>\n      <td>12444</td>\n      <td>en</td>\n      <td>Harry Potter and the Deathly Hallows: Part 1</td>\n      <td>33.533</td>\n      <td>2010-11-19</td>\n      <td>Harry Potter and the Deathly Hallows: Part 1</td>\n      <td>7.7</td>\n      <td>10788</td>\n    </tr>\n    <tr>\n      <th>1</th>\n      <td>1</td>\n      <td>[14, 12, 16, 10751]</td>\n      <td>10191</td>\n      <td>en</td>\n      <td>How to Train Your Dragon</td>\n      <td>28.734</td>\n      <td>2010-03-26</td>\n      <td>How to Train Your Dragon</td>\n      <td>7.7</td>\n      <td>7610</td>\n    </tr>\n    <tr>\n      <th>2</th>\n      <td>2</td>\n      <td>[12, 28, 878]</td>\n      <td>10138</td>\n      <td>en</td>\n      <td>Iron Man 2</td>\n      <td>28.515</td>\n      <td>2010-05-07</td>\n      <td>Iron Man 2</td>\n      <td>6.8</td>\n      <td>12368</td>\n    </tr>\n    <tr>\n      <th>3</th>\n      <td>3</td>\n      <td>[16, 35, 10751]</td>\n      <td>862</td>\n      <td>en</td>\n      <td>Toy Story</td>\n      <td>28.005</td>\n      <td>1995-11-22</td>\n      <td>Toy Story</td>\n      <td>7.9</td>\n      <td>10174</td>\n    </tr>\n    <tr>\n      <th>4</th>\n      <td>4</td>\n      <td>[28, 878, 12]</td>\n      <td>27205</td>\n      <td>en</td>\n      <td>Inception</td>\n      <td>27.920</td>\n      <td>2010-07-16</td>\n      <td>Inception</td>\n      <td>8.3</td>\n      <td>22186</td>\n    </tr>\n    <tr>\n      <th>...</th>\n      <td>...</td>\n      <td>...</td>\n      <td>...</td>\n      <td>...</td>\n      <td>...</td>\n      <td>...</td>\n      <td>...</td>\n      <td>...</td>\n      <td>...</td>\n      <td>...</td>\n    </tr>\n    <tr>\n      <th>26512</th>\n      <td>26512</td>\n      <td>[27, 18]</td>\n      <td>488143</td>\n      <td>en</td>\n      <td>Laboratory Conditions</td>\n      <td>0.600</td>\n      <td>2018-10-13</td>\n      <td>Laboratory Conditions</td>\n      <td>0.0</td>\n      <td>1</td>\n    </tr>\n    <tr>\n      <th>26513</th>\n      <td>26513</td>\n      <td>[18, 53]</td>\n      <td>485975</td>\n      <td>en</td>\n      <td>_EXHIBIT_84xxx_</td>\n      <td>0.600</td>\n      <td>2018-05-01</td>\n      <td>_EXHIBIT_84xxx_</td>\n      <td>0.0</td>\n      <td>1</td>\n    </tr>\n    <tr>\n      <th>26514</th>\n      <td>26514</td>\n      <td>[14, 28, 12]</td>\n      <td>381231</td>\n      <td>en</td>\n      <td>The Last One</td>\n      <td>0.600</td>\n      <td>2018-10-01</td>\n      <td>The Last One</td>\n      <td>0.0</td>\n      <td>1</td>\n    </tr>\n    <tr>\n      <th>26515</th>\n      <td>26515</td>\n      <td>[10751, 12, 28]</td>\n      <td>366854</td>\n      <td>en</td>\n      <td>Trailer Made</td>\n      <td>0.600</td>\n      <td>2018-06-22</td>\n      <td>Trailer Made</td>\n      <td>0.0</td>\n      <td>1</td>\n    </tr>\n    <tr>\n      <th>26516</th>\n      <td>26516</td>\n      <td>[53, 27]</td>\n      <td>309885</td>\n      <td>en</td>\n      <td>The Church</td>\n      <td>0.600</td>\n      <td>2018-10-05</td>\n      <td>The Church</td>\n      <td>0.0</td>\n      <td>1</td>\n    </tr>\n  </tbody>\n</table>\n<p>26517 rows × 10 columns</p>\n</div>"
     },
     "metadata": {},
     "execution_count": 237
    }
   ],
   "source": [
    "tmdbmovies"
   ]
  },
  {
   "cell_type": "code",
   "execution_count": 29,
   "metadata": {},
   "outputs": [
    {
     "output_type": "stream",
     "name": "stdout",
     "text": [
      "\n",
      " mjgross \n",
      "\n",
      "3387\n",
      "title                0\n",
      "studio               5\n",
      "domestic_gross      28\n",
      "foreign_gross     1350\n",
      "year                 0\n",
      "dtype: int64\n",
      "\n",
      " imdbname \n",
      "\n",
      "606648\n",
      "nconst                    0\n",
      "primary_name              0\n",
      "primary_profession    51340\n",
      "known_for_titles      30204\n",
      "dtype: int64\n",
      "\n",
      " imdbtitle \n",
      "\n",
      "331703\n",
      "title_id                  0\n",
      "ordering                  0\n",
      "title                     0\n",
      "region                53293\n",
      "types                163256\n",
      "is_original_title        25\n",
      "dtype: int64\n",
      "\n",
      " imdbcrewtitle2 \n",
      "\n",
      "146144\n",
      "tconst                 0\n",
      "primary_title          0\n",
      "original_title        21\n",
      "start_year             0\n",
      "runtime_minutes    31739\n",
      "genres              5408\n",
      "directors           5727\n",
      "writers            35883\n",
      "dtype: int64\n",
      "\n",
      " imdbprinc \n",
      "\n",
      "1028186\n",
      "tconst      0\n",
      "ordering    0\n",
      "nconst      0\n",
      "category    0\n",
      "dtype: int64\n",
      "\n",
      " imdbrate \n",
      "\n",
      "73856\n",
      "tconst           0\n",
      "averagerating    0\n",
      "numvotes         0\n",
      "dtype: int64\n",
      "\n",
      " rtinfo \n",
      "\n",
      "1560\n",
      "id               0\n",
      "rating           3\n",
      "genre            8\n",
      "director       199\n",
      "writer         449\n",
      "box_office    1220\n",
      "runtime         30\n",
      "dtype: int64\n",
      "\n",
      " rtreviews \n",
      "\n",
      "54432\n",
      "id                0\n",
      "review         5563\n",
      "rating        13517\n",
      "fresh             0\n",
      "critic         2722\n",
      "top_critic        0\n",
      "publisher       309\n",
      "date              0\n",
      "dtype: int64\n",
      "\n",
      " tmdbmovies \n",
      "\n",
      "26517\n",
      "Unnamed: 0           0\n",
      "genre_ids            0\n",
      "id                   0\n",
      "original_language    0\n",
      "original_title       0\n",
      "popularity           0\n",
      "release_date         0\n",
      "title                0\n",
      "vote_average         0\n",
      "vote_count           0\n",
      "dtype: int64\n",
      "\n",
      " tnbudgets \n",
      "\n",
      "5782\n",
      "id                   0\n",
      "release_date         0\n",
      "movie                0\n",
      "production_budget    0\n",
      "domestic_gross       0\n",
      "worldwide_gross      0\n",
      "dtype: int64\n"
     ]
    }
   ],
   "source": [
    "#Just to have a handy reference point\n",
    "print('\\n mjgross \\n'); print(len(mjgross)); print(mjgross.isna().sum())\n",
    "print('\\n imdbname \\n'); print(len(imdbname)); print(imdbname.isna().sum())\n",
    "print('\\n imdbtitle \\n'); print(len(imdbtitle)); print(imdbtitle.isna().sum())\n",
    "print('\\n imdbcrewtitle2 \\n'); print(len(imdbcrewtitle2)); print(imdbcrewtitle2.isna().sum())\n",
    "print('\\n imdbprinc \\n'); print(len(imdbprinc)); print(imdbprinc.isna().sum())\n",
    "print('\\n imdbrate \\n'); print(len(imdbrate)); print(imdbrate.isna().sum())\n",
    "print('\\n rtinfo \\n'); print(len(rtinfo)); print(rtinfo.isna().sum())\n",
    "print('\\n rtreviews \\n'); print(len(rtreviews)); print(rtreviews.isna().sum())\n",
    "print('\\n tmdbmovies \\n'); print(len(tmdbmovies)); print(tmdbmovies.isna().sum())\n",
    "print('\\n tnbudgets \\n'); print(len(tnbudgets)); print(tnbudgets.isna().sum())"
   ]
  },
  {
   "source": [
    "studiogross = mjgross.set_index('studio')\n",
    "\n",
    "mjgross.groupby('studio').domestic_gross.mean().sort_values(ascending=False).head(10)"
   ],
   "cell_type": "code",
   "metadata": {},
   "execution_count": 22,
   "outputs": [
    {
     "output_type": "execute_result",
     "data": {
      "text/plain": [
       "studio\n",
       "BV         1.737644e+08\n",
       "P/DW       1.682900e+08\n",
       "WB (NL)    8.879333e+07\n",
       "Uni.       8.777138e+07\n",
       "WB         8.691461e+07\n",
       "Fox        8.051103e+07\n",
       "Sony       7.761177e+07\n",
       "Par.       7.609773e+07\n",
       "MGM        6.666667e+07\n",
       "Sum.       6.212473e+07\n",
       "Name: domestic_gross, dtype: float64"
      ]
     },
     "metadata": {},
     "execution_count": 22
    }
   ]
  },
  {
   "cell_type": "code",
   "execution_count": null,
   "metadata": {},
   "outputs": [],
   "source": [
    "#in progress DON'T RUN\n",
    "def splitmult(df, column):\n",
    "    for i, item in enumerate(df[column]):\n",
    "        each = item.split(sep=',')\n",
    "        item = each[0]\n",
    "        for e in range(1, len(each)):\n",
    "            new_rows = {}\n",
    "            new_rows.append(str(df.iloc[i].loc[column]) + ' : ' + )"
   ]
  },
  {
   "cell_type": "code",
   "execution_count": null,
   "metadata": {},
   "outputs": [],
   "source": []
  },
  {
   "cell_type": "code",
   "execution_count": null,
   "metadata": {},
   "outputs": [],
   "source": [
    "imdbname['primary_name'][1]"
   ]
  },
  {
   "cell_type": "code",
   "execution_count": null,
   "metadata": {},
   "outputs": [],
   "source": [
    "imdbtitle"
   ]
  },
  {
   "cell_type": "code",
   "execution_count": null,
   "metadata": {},
   "outputs": [],
   "source": [
    "imdbprincnametitle"
   ]
  },
  {
   "cell_type": "code",
   "execution_count": null,
   "metadata": {},
   "outputs": [],
   "source": [
    "imdbcrewtitle2"
   ]
  },
  {
   "cell_type": "code",
   "execution_count": 51,
   "metadata": {},
   "outputs": [],
   "source": [
    "imdbprincname = imdbprinc.merge(imdbname, on='nconst')"
   ]
  },
  {
   "cell_type": "code",
   "execution_count": null,
   "metadata": {},
   "outputs": [],
   "source": [
    "imdbprincnametitleouter = imdbprincname.merge(imdbtitle, left_on='tconst', right_on='title_id',how='outer')"
   ]
  },
  {
   "cell_type": "code",
   "execution_count": null,
   "metadata": {},
   "outputs": [],
   "source": [
    "imdball = imdbprincnametitleouter.merge(imdbcrewtitle2, on='tconst')\n",
    "imdball"
   ]
  },
  {
   "cell_type": "code",
   "execution_count": null,
   "metadata": {},
   "outputs": [],
   "source": [
    "imdball.category.unique()"
   ]
  },
  {
   "cell_type": "code",
   "execution_count": null,
   "metadata": {},
   "outputs": [],
   "source": [
    "# idea: make dictionary, keys are nm#####s, values are names. use replace function\n",
    "#dictionary to replace names\n",
    "names = []\n",
    "for n in imdbname['nconst']:\n",
    "    names.append(n)\n",
    "len(names)\n",
    "real_names = []\n",
    "for n in imdbname['primary_name']:\n",
    "    real_names.append(n)\n",
    "len(real_names)\n",
    "name_dict = dict(zip(names, real_names))"
   ]
  },
  {
   "cell_type": "code",
   "execution_count": null,
   "metadata": {},
   "outputs": [],
   "source": [
    "# def replcnm():\n",
    "#     for i, item in enumerate(imdbprinc.loc[:,'nconst']):\n",
    "#         if str(item) in names:\n",
    "#             imdbprinc.replace(str(item), name_dict[str(item)])\n",
    "        # try:\n",
    "        #     imdbprinc.iloc[i].loc['nconst'].replace(item, name_dict[item])\n",
    "        # except:\n",
    "        #     continue\n",
    "\n",
    "    #     if item not in names:\n",
    "    #         continue\n",
    "    #     if item in names:\n",
    "    #         imdbprinc.replace(item, name_dict[item])\n",
    "# newplc = imdbprinc.replace({'nconst': name_dict})\n",
    "# newplc"
   ]
  },
  {
   "cell_type": "code",
   "execution_count": null,
   "metadata": {},
   "outputs": [],
   "source": [
    "\n"
   ]
  },
  {
   "cell_type": "code",
   "execution_count": null,
   "metadata": {},
   "outputs": [],
   "source": [
    "name_dict['nm0476864']"
   ]
  },
  {
   "cell_type": "code",
   "execution_count": null,
   "metadata": {},
   "outputs": [],
   "source": []
  },
  {
   "cell_type": "code",
   "execution_count": null,
   "metadata": {},
   "outputs": [],
   "source": [
    "len(name_dict)"
   ]
  },
  {
   "cell_type": "code",
   "execution_count": null,
   "metadata": {},
   "outputs": [],
   "source": []
  }
 ]
}