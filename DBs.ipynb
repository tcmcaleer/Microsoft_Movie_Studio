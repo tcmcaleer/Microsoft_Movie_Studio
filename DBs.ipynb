{
 "metadata": {
  "language_info": {
   "codemirror_mode": {
    "name": "ipython",
    "version": 3
   },
   "file_extension": ".py",
   "mimetype": "text/x-python",
   "name": "python",
   "nbconvert_exporter": "python",
   "pygments_lexer": "ipython3",
   "version": "3.8.3-final"
  },
  "orig_nbformat": 2,
  "kernelspec": {
   "name": "Python 3.8.3 64-bit ('base': conda)",
   "display_name": "Python 3.8.3 64-bit ('base': conda)",
   "metadata": {
    "interpreter": {
     "hash": "8a4dba99b337f7b7c56f3257436139b377f4b22d5009ee8ecea169cfe4d2a37e"
    }
   }
  }
 },
 "nbformat": 4,
 "nbformat_minor": 2,
 "cells": [
  {
   "cell_type": "code",
   "execution_count": 2,
   "metadata": {},
   "outputs": [],
   "source": [
    "import pandas as pd"
   ]
  },
  {
   "cell_type": "code",
   "execution_count": 3,
   "metadata": {},
   "outputs": [],
   "source": [
    "mjgross = pd.read_csv('D:/Flatiron/Project/Zips/bom.movie_gross.csv/bom.movie_gross.csv')\n",
    "imdbname = pd.read_csv('D:/Flatiron/Project/Zips/imdb.name.basics.csv/name.basics.csv')\n",
    "imdbtitle = pd.read_csv('D:/Flatiron/Project/Zips/imdb.title.akas.csv/title.akas.csv')\n",
    "imdbtitle2 = pd.read_csv('D:/Flatiron/Project/Zips/imdb.title.basics.csv/title.basics.csv')\n",
    "imdbcrew = pd.read_csv('D:/Flatiron/Project/Zips/imdb.title.crew.csv/title.crew.csv')\n",
    "imdbprinc = pd.read_csv('D:/Flatiron/Project/Zips/imdb.title.principals.csv/title.principals.csv')\n",
    "imdbrate = pd.read_csv('D:/Flatiron/Project/Zips/imdb.title.ratings.csv/title.ratings.csv')\n",
    "rtinfo = pd.read_csv('D:/Flatiron/Project/Zips/rt.movie_info.tsv/rt.movie_info.tsv', delimiter='\\t')\n",
    "rtreviews = pd.read_csv('D:/Flatiron/Project/Zips/rt.reviews.tsv/rt.reviews.tsv', sep=None)\n",
    "tmdbmovies = pd.read_csv('D:/Flatiron/Project/Zips/tmdb.movies.csv/tmdb.movies.csv')\n",
    "tnbudgets = pd.read_csv('D:/Flatiron/Project/Zips/tn.movie_budgets.csv/tn.movie_budgets.csv')"
   ]
  },
  {
   "cell_type": "code",
   "execution_count": 4,
   "metadata": {},
   "outputs": [],
   "source": [
    "# joined imdbcrew and imdbtitle2\n",
    "imdbcrewtitle2 = imdbtitle2.join(imdbcrew.set_index('tconst'), on='tconst')\n"
   ]
  },
  {
   "cell_type": "code",
   "execution_count": 5,
   "metadata": {},
   "outputs": [],
   "source": [
    "#Editing, dropping mostly empty or useless columns\n",
    "imdbname.drop(['birth_year','death_year'], axis=1, inplace=True)\n",
    "imdbtitle.drop(['attributes','language'], axis=1, inplace=True)\n",
    "imdbprinc.drop(['job','characters'], axis=1, inplace=True)\n",
    "rtinfo.drop(['synopsis','theater_date','dvd_date','studio','currency'], axis=1, inplace=True)"
   ]
  },
  {
   "cell_type": "code",
   "execution_count": 6,
   "metadata": {},
   "outputs": [
    {
     "output_type": "stream",
     "name": "stdout",
     "text": [
      "\n",
      " imdbname \n",
      "\n",
      "606648\n",
      "nconst                    0\n",
      "primary_name              0\n",
      "primary_profession    51340\n",
      "known_for_titles      30204\n",
      "dtype: int64\n",
      "\n",
      " imdbtitle \n",
      "\n",
      "331703\n",
      "title_id                  0\n",
      "ordering                  0\n",
      "title                     0\n",
      "region                53293\n",
      "types                163256\n",
      "is_original_title        25\n",
      "dtype: int64\n",
      "\n",
      " imdbcrewtitle2 \n",
      "\n",
      "146144\n",
      "tconst                 0\n",
      "primary_title          0\n",
      "original_title        21\n",
      "start_year             0\n",
      "runtime_minutes    31739\n",
      "genres              5408\n",
      "directors           5727\n",
      "writers            35883\n",
      "dtype: int64\n",
      "\n",
      " imdbprinc \n",
      "\n",
      "1028186\n",
      "tconst      0\n",
      "ordering    0\n",
      "nconst      0\n",
      "category    0\n",
      "dtype: int64\n",
      "\n",
      " imdbrate \n",
      "\n",
      "73856\n",
      "tconst           0\n",
      "averagerating    0\n",
      "numvotes         0\n",
      "dtype: int64\n",
      "\n",
      " rtinfo \n",
      "\n",
      "1560\n",
      "id               0\n",
      "rating           3\n",
      "genre            8\n",
      "director       199\n",
      "writer         449\n",
      "box_office    1220\n",
      "runtime         30\n",
      "dtype: int64\n",
      "\n",
      " rtreviews \n",
      "\n",
      "54432\n",
      "id                0\n",
      "review         5563\n",
      "rating        13517\n",
      "fresh             0\n",
      "critic         2722\n",
      "top_critic        0\n",
      "publisher       309\n",
      "date              0\n",
      "dtype: int64\n",
      "\n",
      " tmdbmovies \n",
      "\n",
      "26517\n",
      "Unnamed: 0           0\n",
      "genre_ids            0\n",
      "id                   0\n",
      "original_language    0\n",
      "original_title       0\n",
      "popularity           0\n",
      "release_date         0\n",
      "title                0\n",
      "vote_average         0\n",
      "vote_count           0\n",
      "dtype: int64\n",
      "\n",
      " tnbudgets \n",
      "\n",
      "5782\n",
      "id                   0\n",
      "release_date         0\n",
      "movie                0\n",
      "production_budget    0\n",
      "domestic_gross       0\n",
      "worldwide_gross      0\n",
      "dtype: int64\n"
     ]
    }
   ],
   "source": [
    "#Just to have a handy reference point\n",
    "print('\\n imdbname \\n'); print(len(imdbname)); print(imdbname.isna().sum())\n",
    "print('\\n imdbtitle \\n'); print(len(imdbtitle)); print(imdbtitle.isna().sum())\n",
    "print('\\n imdbcrewtitle2 \\n'); print(len(imdbcrewtitle2)); print(imdbcrewtitle2.isna().sum())\n",
    "print('\\n imdbprinc \\n'); print(len(imdbprinc)); print(imdbprinc.isna().sum())\n",
    "print('\\n imdbrate \\n'); print(len(imdbrate)); print(imdbrate.isna().sum())\n",
    "print('\\n rtinfo \\n'); print(len(rtinfo)); print(rtinfo.isna().sum())\n",
    "print('\\n rtreviews \\n'); print(len(rtreviews)); print(rtreviews.isna().sum())\n",
    "print('\\n tmdbmovies \\n'); print(len(tmdbmovies)); print(tmdbmovies.isna().sum())\n",
    "print('\\n tnbudgets \\n'); print(len(tnbudgets)); print(tnbudgets.isna().sum())"
   ]
  },
  {
   "cell_type": "code",
   "execution_count": null,
   "metadata": {},
   "outputs": [],
   "source": [
    "#in progress DON'T RUN\n",
    "def splitmult(df, column):\n",
    "    for i, item in enumerate(df[column]):\n",
    "        each = item.split(sep=',')\n",
    "        item = each[0]\n",
    "        for e in range(1, len(each)):\n",
    "            new_rows = {}\n",
    "            new_rows.append(str(df.iloc[i].loc[column]) + ' : ' + )"
   ]
  },
  {
   "cell_type": "code",
   "execution_count": 14,
   "metadata": {},
   "outputs": [
    {
     "output_type": "execute_result",
     "data": {
      "text/plain": [
       "6"
      ]
     },
     "metadata": {},
     "execution_count": 14
    }
   ],
   "source": [
    "        for e in each:\n",
    "            new_rows = {}\n",
    "            for i2 in range(len(df.columns)):\n",
    "                new_rows.append(str(df.columns[i2]) + ' : ' + str(df.loc[column][i]))"
   ]
  },
  {
   "cell_type": "code",
   "execution_count": 25,
   "metadata": {},
   "outputs": [
    {
     "output_type": "execute_result",
     "data": {
      "text/plain": [
       "'Joseph Bauer'"
      ]
     },
     "metadata": {},
     "execution_count": 25
    }
   ],
   "source": [
    "imdbname['primary_name'][1]"
   ]
  },
  {
   "cell_type": "code",
   "execution_count": null,
   "metadata": {},
   "outputs": [],
   "source": [
    "for name in "
   ]
  },
  {
   "cell_type": "code",
   "execution_count": 33,
   "metadata": {},
   "outputs": [
    {
     "output_type": "execute_result",
     "data": {
      "text/plain": [
       "         title_id  ordering                                    title region  \\\n",
       "0       tt0369610        10                            Джурасик свят     BG   \n",
       "1       tt0369610        11                        Jurashikku warudo     JP   \n",
       "2       tt0369610        12  Jurassic World: O Mundo dos Dinossauros     BR   \n",
       "3       tt0369610        13                  O Mundo dos Dinossauros     BR   \n",
       "4       tt0369610        14                           Jurassic World     FR   \n",
       "...           ...       ...                                      ...    ...   \n",
       "331698  tt9827784         2                       Sayonara kuchibiru    NaN   \n",
       "331699  tt9827784         3                            Farewell Song    XWW   \n",
       "331700  tt9880178         1                              La atención    NaN   \n",
       "331701  tt9880178         2                              La atención     ES   \n",
       "331702  tt9880178         3                            The Attention    XWW   \n",
       "\n",
       "              types  is_original_title  \n",
       "0               NaN                0.0  \n",
       "1       imdbDisplay                0.0  \n",
       "2       imdbDisplay                0.0  \n",
       "3               NaN                0.0  \n",
       "4       imdbDisplay                0.0  \n",
       "...             ...                ...  \n",
       "331698     original                1.0  \n",
       "331699  imdbDisplay                0.0  \n",
       "331700     original                1.0  \n",
       "331701          NaN                0.0  \n",
       "331702  imdbDisplay                0.0  \n",
       "\n",
       "[331703 rows x 6 columns]"
      ],
      "text/html": "<div>\n<style scoped>\n    .dataframe tbody tr th:only-of-type {\n        vertical-align: middle;\n    }\n\n    .dataframe tbody tr th {\n        vertical-align: top;\n    }\n\n    .dataframe thead th {\n        text-align: right;\n    }\n</style>\n<table border=\"1\" class=\"dataframe\">\n  <thead>\n    <tr style=\"text-align: right;\">\n      <th></th>\n      <th>title_id</th>\n      <th>ordering</th>\n      <th>title</th>\n      <th>region</th>\n      <th>types</th>\n      <th>is_original_title</th>\n    </tr>\n  </thead>\n  <tbody>\n    <tr>\n      <th>0</th>\n      <td>tt0369610</td>\n      <td>10</td>\n      <td>Джурасик свят</td>\n      <td>BG</td>\n      <td>NaN</td>\n      <td>0.0</td>\n    </tr>\n    <tr>\n      <th>1</th>\n      <td>tt0369610</td>\n      <td>11</td>\n      <td>Jurashikku warudo</td>\n      <td>JP</td>\n      <td>imdbDisplay</td>\n      <td>0.0</td>\n    </tr>\n    <tr>\n      <th>2</th>\n      <td>tt0369610</td>\n      <td>12</td>\n      <td>Jurassic World: O Mundo dos Dinossauros</td>\n      <td>BR</td>\n      <td>imdbDisplay</td>\n      <td>0.0</td>\n    </tr>\n    <tr>\n      <th>3</th>\n      <td>tt0369610</td>\n      <td>13</td>\n      <td>O Mundo dos Dinossauros</td>\n      <td>BR</td>\n      <td>NaN</td>\n      <td>0.0</td>\n    </tr>\n    <tr>\n      <th>4</th>\n      <td>tt0369610</td>\n      <td>14</td>\n      <td>Jurassic World</td>\n      <td>FR</td>\n      <td>imdbDisplay</td>\n      <td>0.0</td>\n    </tr>\n    <tr>\n      <th>...</th>\n      <td>...</td>\n      <td>...</td>\n      <td>...</td>\n      <td>...</td>\n      <td>...</td>\n      <td>...</td>\n    </tr>\n    <tr>\n      <th>331698</th>\n      <td>tt9827784</td>\n      <td>2</td>\n      <td>Sayonara kuchibiru</td>\n      <td>NaN</td>\n      <td>original</td>\n      <td>1.0</td>\n    </tr>\n    <tr>\n      <th>331699</th>\n      <td>tt9827784</td>\n      <td>3</td>\n      <td>Farewell Song</td>\n      <td>XWW</td>\n      <td>imdbDisplay</td>\n      <td>0.0</td>\n    </tr>\n    <tr>\n      <th>331700</th>\n      <td>tt9880178</td>\n      <td>1</td>\n      <td>La atención</td>\n      <td>NaN</td>\n      <td>original</td>\n      <td>1.0</td>\n    </tr>\n    <tr>\n      <th>331701</th>\n      <td>tt9880178</td>\n      <td>2</td>\n      <td>La atención</td>\n      <td>ES</td>\n      <td>NaN</td>\n      <td>0.0</td>\n    </tr>\n    <tr>\n      <th>331702</th>\n      <td>tt9880178</td>\n      <td>3</td>\n      <td>The Attention</td>\n      <td>XWW</td>\n      <td>imdbDisplay</td>\n      <td>0.0</td>\n    </tr>\n  </tbody>\n</table>\n<p>331703 rows × 6 columns</p>\n</div>"
     },
     "metadata": {},
     "execution_count": 33
    }
   ],
   "source": [
    "imdbtitle"
   ]
  },
  {
   "cell_type": "code",
   "execution_count": 34,
   "metadata": {},
   "outputs": [
    {
     "output_type": "execute_result",
     "data": {
      "text/plain": [
       "            tconst  ordering      nconst  category           primary_name  \\\n",
       "0        tt0111414         1   nm0246005     actor           Tommy Dysart   \n",
       "1        tt0111414         2   nm0398271  director           Frank Howson   \n",
       "2        tt5573596         5   nm0398271  director           Frank Howson   \n",
       "3        tt0111414         3   nm3739909  producer  Barry Porter-Robinson   \n",
       "4        tt0323808        10   nm0059247    editor            Sean Barton   \n",
       "...            ...       ...         ...       ...                    ...   \n",
       "1027907  tt9689618         3  nm10439724     actor       Phillippe Warner   \n",
       "1027908  tt9689618         5  nm10439725  director           Xavi Herrero   \n",
       "1027909  tt9692684         3  nm10441594  director              Guy Jones   \n",
       "1027910  tt9692684         4   nm6009913    writer        Sabrina Mahfouz   \n",
       "1027911  tt9692684         5  nm10441595  producer             Simmer Dim   \n",
       "\n",
       "                                     primary_profession  \\\n",
       "0                                                 actor   \n",
       "1                                 actor,writer,producer   \n",
       "2                                 actor,writer,producer   \n",
       "3                               producer,art_department   \n",
       "4        editor,editorial_department,assistant_director   \n",
       "...                                                 ...   \n",
       "1027907                                             NaN   \n",
       "1027908                 director,writer,cinematographer   \n",
       "1027909                                        director   \n",
       "1027910                                          writer   \n",
       "1027911                                        producer   \n",
       "\n",
       "                                known_for_titles  \n",
       "0        tt0093120,tt0076974,tt0084296,tt0077064  \n",
       "1        tt0104271,tt0094789,tt0102076,tt0111414  \n",
       "2        tt0104271,tt0094789,tt0102076,tt0111414  \n",
       "3        tt0290884,tt0101374,tt0111414,tt1566940  \n",
       "4        tt0402910,tt1022883,tt0086190,tt0490181  \n",
       "...                                          ...  \n",
       "1027907                                      NaN  \n",
       "1027908                                tt9689618  \n",
       "1027909                                      NaN  \n",
       "1027910  tt5191128,tt3254170,tt2319282,tt8452302  \n",
       "1027911                                tt9692684  \n",
       "\n",
       "[1027912 rows x 7 columns]"
      ],
      "text/html": "<div>\n<style scoped>\n    .dataframe tbody tr th:only-of-type {\n        vertical-align: middle;\n    }\n\n    .dataframe tbody tr th {\n        vertical-align: top;\n    }\n\n    .dataframe thead th {\n        text-align: right;\n    }\n</style>\n<table border=\"1\" class=\"dataframe\">\n  <thead>\n    <tr style=\"text-align: right;\">\n      <th></th>\n      <th>tconst</th>\n      <th>ordering</th>\n      <th>nconst</th>\n      <th>category</th>\n      <th>primary_name</th>\n      <th>primary_profession</th>\n      <th>known_for_titles</th>\n    </tr>\n  </thead>\n  <tbody>\n    <tr>\n      <th>0</th>\n      <td>tt0111414</td>\n      <td>1</td>\n      <td>nm0246005</td>\n      <td>actor</td>\n      <td>Tommy Dysart</td>\n      <td>actor</td>\n      <td>tt0093120,tt0076974,tt0084296,tt0077064</td>\n    </tr>\n    <tr>\n      <th>1</th>\n      <td>tt0111414</td>\n      <td>2</td>\n      <td>nm0398271</td>\n      <td>director</td>\n      <td>Frank Howson</td>\n      <td>actor,writer,producer</td>\n      <td>tt0104271,tt0094789,tt0102076,tt0111414</td>\n    </tr>\n    <tr>\n      <th>2</th>\n      <td>tt5573596</td>\n      <td>5</td>\n      <td>nm0398271</td>\n      <td>director</td>\n      <td>Frank Howson</td>\n      <td>actor,writer,producer</td>\n      <td>tt0104271,tt0094789,tt0102076,tt0111414</td>\n    </tr>\n    <tr>\n      <th>3</th>\n      <td>tt0111414</td>\n      <td>3</td>\n      <td>nm3739909</td>\n      <td>producer</td>\n      <td>Barry Porter-Robinson</td>\n      <td>producer,art_department</td>\n      <td>tt0290884,tt0101374,tt0111414,tt1566940</td>\n    </tr>\n    <tr>\n      <th>4</th>\n      <td>tt0323808</td>\n      <td>10</td>\n      <td>nm0059247</td>\n      <td>editor</td>\n      <td>Sean Barton</td>\n      <td>editor,editorial_department,assistant_director</td>\n      <td>tt0402910,tt1022883,tt0086190,tt0490181</td>\n    </tr>\n    <tr>\n      <th>...</th>\n      <td>...</td>\n      <td>...</td>\n      <td>...</td>\n      <td>...</td>\n      <td>...</td>\n      <td>...</td>\n      <td>...</td>\n    </tr>\n    <tr>\n      <th>1027907</th>\n      <td>tt9689618</td>\n      <td>3</td>\n      <td>nm10439724</td>\n      <td>actor</td>\n      <td>Phillippe Warner</td>\n      <td>NaN</td>\n      <td>NaN</td>\n    </tr>\n    <tr>\n      <th>1027908</th>\n      <td>tt9689618</td>\n      <td>5</td>\n      <td>nm10439725</td>\n      <td>director</td>\n      <td>Xavi Herrero</td>\n      <td>director,writer,cinematographer</td>\n      <td>tt9689618</td>\n    </tr>\n    <tr>\n      <th>1027909</th>\n      <td>tt9692684</td>\n      <td>3</td>\n      <td>nm10441594</td>\n      <td>director</td>\n      <td>Guy Jones</td>\n      <td>director</td>\n      <td>NaN</td>\n    </tr>\n    <tr>\n      <th>1027910</th>\n      <td>tt9692684</td>\n      <td>4</td>\n      <td>nm6009913</td>\n      <td>writer</td>\n      <td>Sabrina Mahfouz</td>\n      <td>writer</td>\n      <td>tt5191128,tt3254170,tt2319282,tt8452302</td>\n    </tr>\n    <tr>\n      <th>1027911</th>\n      <td>tt9692684</td>\n      <td>5</td>\n      <td>nm10441595</td>\n      <td>producer</td>\n      <td>Simmer Dim</td>\n      <td>producer</td>\n      <td>tt9692684</td>\n    </tr>\n  </tbody>\n</table>\n<p>1027912 rows × 7 columns</p>\n</div>"
     },
     "metadata": {},
     "execution_count": 34
    }
   ],
   "source": [
    "imdbprincnametitle"
   ]
  },
  {
   "cell_type": "code",
   "execution_count": 39,
   "metadata": {},
   "outputs": [
    {
     "output_type": "execute_result",
     "data": {
      "text/plain": [
       "           tconst                                primary_title  \\\n",
       "0       tt0063540                                    Sunghursh   \n",
       "1       tt0066787              One Day Before the Rainy Season   \n",
       "2       tt0069049                   The Other Side of the Wind   \n",
       "3       tt0069204                              Sabse Bada Sukh   \n",
       "4       tt0100275                     The Wandering Soap Opera   \n",
       "...           ...                                          ...   \n",
       "146139  tt9916538                          Kuambil Lagi Hatiku   \n",
       "146140  tt9916622  Rodolpho Teóphilo - O Legado de um Pioneiro   \n",
       "146141  tt9916706                              Dankyavar Danka   \n",
       "146142  tt9916730                                       6 Gunn   \n",
       "146143  tt9916754               Chico Albuquerque - Revelações   \n",
       "\n",
       "                                     original_title  start_year  \\\n",
       "0                                         Sunghursh        2013   \n",
       "1                                   Ashad Ka Ek Din        2019   \n",
       "2                        The Other Side of the Wind        2018   \n",
       "3                                   Sabse Bada Sukh        2018   \n",
       "4                             La Telenovela Errante        2017   \n",
       "...                                             ...         ...   \n",
       "146139                          Kuambil Lagi Hatiku        2019   \n",
       "146140  Rodolpho Teóphilo - O Legado de um Pioneiro        2015   \n",
       "146141                              Dankyavar Danka        2013   \n",
       "146142                                       6 Gunn        2017   \n",
       "146143               Chico Albuquerque - Revelações        2013   \n",
       "\n",
       "        runtime_minutes                genres            directors  \\\n",
       "0                 175.0    Action,Crime,Drama            nm0712540   \n",
       "1                 114.0       Biography,Drama            nm0002411   \n",
       "2                 122.0                 Drama            nm0000080   \n",
       "3                   NaN          Comedy,Drama            nm0611531   \n",
       "4                  80.0  Comedy,Drama,Fantasy  nm0765384,nm0749914   \n",
       "...                 ...                   ...                  ...   \n",
       "146139            123.0                 Drama            nm8185151   \n",
       "146140              NaN           Documentary  nm9272490,nm9272491   \n",
       "146141              NaN                Comedy            nm7764440   \n",
       "146142            116.0                   NaN           nm10538612   \n",
       "146143              NaN           Documentary  nm9272490,nm8349149   \n",
       "\n",
       "                                        writers  \n",
       "0       nm0023551,nm1194313,nm0347899,nm1391276  \n",
       "1                                           NaN  \n",
       "2                           nm0000080,nm0462648  \n",
       "3                                     nm0347899  \n",
       "4                           nm1360635,nm0749914  \n",
       "...                                         ...  \n",
       "146139            nm4843252,nm4900525,nm2679404  \n",
       "146140                      nm9272490,nm9272491  \n",
       "146141                                nm7933903  \n",
       "146142                               nm10538612  \n",
       "146143                      nm8349149,nm9272490  \n",
       "\n",
       "[146144 rows x 8 columns]"
      ],
      "text/html": "<div>\n<style scoped>\n    .dataframe tbody tr th:only-of-type {\n        vertical-align: middle;\n    }\n\n    .dataframe tbody tr th {\n        vertical-align: top;\n    }\n\n    .dataframe thead th {\n        text-align: right;\n    }\n</style>\n<table border=\"1\" class=\"dataframe\">\n  <thead>\n    <tr style=\"text-align: right;\">\n      <th></th>\n      <th>tconst</th>\n      <th>primary_title</th>\n      <th>original_title</th>\n      <th>start_year</th>\n      <th>runtime_minutes</th>\n      <th>genres</th>\n      <th>directors</th>\n      <th>writers</th>\n    </tr>\n  </thead>\n  <tbody>\n    <tr>\n      <th>0</th>\n      <td>tt0063540</td>\n      <td>Sunghursh</td>\n      <td>Sunghursh</td>\n      <td>2013</td>\n      <td>175.0</td>\n      <td>Action,Crime,Drama</td>\n      <td>nm0712540</td>\n      <td>nm0023551,nm1194313,nm0347899,nm1391276</td>\n    </tr>\n    <tr>\n      <th>1</th>\n      <td>tt0066787</td>\n      <td>One Day Before the Rainy Season</td>\n      <td>Ashad Ka Ek Din</td>\n      <td>2019</td>\n      <td>114.0</td>\n      <td>Biography,Drama</td>\n      <td>nm0002411</td>\n      <td>NaN</td>\n    </tr>\n    <tr>\n      <th>2</th>\n      <td>tt0069049</td>\n      <td>The Other Side of the Wind</td>\n      <td>The Other Side of the Wind</td>\n      <td>2018</td>\n      <td>122.0</td>\n      <td>Drama</td>\n      <td>nm0000080</td>\n      <td>nm0000080,nm0462648</td>\n    </tr>\n    <tr>\n      <th>3</th>\n      <td>tt0069204</td>\n      <td>Sabse Bada Sukh</td>\n      <td>Sabse Bada Sukh</td>\n      <td>2018</td>\n      <td>NaN</td>\n      <td>Comedy,Drama</td>\n      <td>nm0611531</td>\n      <td>nm0347899</td>\n    </tr>\n    <tr>\n      <th>4</th>\n      <td>tt0100275</td>\n      <td>The Wandering Soap Opera</td>\n      <td>La Telenovela Errante</td>\n      <td>2017</td>\n      <td>80.0</td>\n      <td>Comedy,Drama,Fantasy</td>\n      <td>nm0765384,nm0749914</td>\n      <td>nm1360635,nm0749914</td>\n    </tr>\n    <tr>\n      <th>...</th>\n      <td>...</td>\n      <td>...</td>\n      <td>...</td>\n      <td>...</td>\n      <td>...</td>\n      <td>...</td>\n      <td>...</td>\n      <td>...</td>\n    </tr>\n    <tr>\n      <th>146139</th>\n      <td>tt9916538</td>\n      <td>Kuambil Lagi Hatiku</td>\n      <td>Kuambil Lagi Hatiku</td>\n      <td>2019</td>\n      <td>123.0</td>\n      <td>Drama</td>\n      <td>nm8185151</td>\n      <td>nm4843252,nm4900525,nm2679404</td>\n    </tr>\n    <tr>\n      <th>146140</th>\n      <td>tt9916622</td>\n      <td>Rodolpho Teóphilo - O Legado de um Pioneiro</td>\n      <td>Rodolpho Teóphilo - O Legado de um Pioneiro</td>\n      <td>2015</td>\n      <td>NaN</td>\n      <td>Documentary</td>\n      <td>nm9272490,nm9272491</td>\n      <td>nm9272490,nm9272491</td>\n    </tr>\n    <tr>\n      <th>146141</th>\n      <td>tt9916706</td>\n      <td>Dankyavar Danka</td>\n      <td>Dankyavar Danka</td>\n      <td>2013</td>\n      <td>NaN</td>\n      <td>Comedy</td>\n      <td>nm7764440</td>\n      <td>nm7933903</td>\n    </tr>\n    <tr>\n      <th>146142</th>\n      <td>tt9916730</td>\n      <td>6 Gunn</td>\n      <td>6 Gunn</td>\n      <td>2017</td>\n      <td>116.0</td>\n      <td>NaN</td>\n      <td>nm10538612</td>\n      <td>nm10538612</td>\n    </tr>\n    <tr>\n      <th>146143</th>\n      <td>tt9916754</td>\n      <td>Chico Albuquerque - Revelações</td>\n      <td>Chico Albuquerque - Revelações</td>\n      <td>2013</td>\n      <td>NaN</td>\n      <td>Documentary</td>\n      <td>nm9272490,nm8349149</td>\n      <td>nm8349149,nm9272490</td>\n    </tr>\n  </tbody>\n</table>\n<p>146144 rows × 8 columns</p>\n</div>"
     },
     "metadata": {},
     "execution_count": 39
    }
   ],
   "source": [
    "imdbcrewtitle2"
   ]
  },
  {
   "cell_type": "code",
   "execution_count": 30,
   "metadata": {},
   "outputs": [],
   "source": [
    "imdbprincname = imdbprinc.merge(imdbname, on='nconst')"
   ]
  },
  {
   "cell_type": "code",
   "execution_count": 37,
   "metadata": {},
   "outputs": [],
   "source": [
    "imdbprincnametitleouter = imdbprincname.merge(imdbtitle, left_on='tconst', right_on='title_id',how='outer')"
   ]
  },
  {
   "cell_type": "code",
   "execution_count": 45,
   "metadata": {},
   "outputs": [
    {
     "output_type": "execute_result",
     "data": {
      "text/plain": [
       "            tconst  ordering_x      nconst  category           primary_name  \\\n",
       "0        tt0111414         1.0   nm0246005     actor           Tommy Dysart   \n",
       "1        tt0111414         2.0   nm0398271  director           Frank Howson   \n",
       "2        tt0111414         3.0   nm3739909  producer  Barry Porter-Robinson   \n",
       "3        tt5573596         5.0   nm0398271  director           Frank Howson   \n",
       "4        tt5573596         4.0   nm0000476   actress         Sally Kirkland   \n",
       "...            ...         ...         ...       ...                    ...   \n",
       "2972478  tt9679036         2.0  nm10435077     actor             Hardi Zala   \n",
       "2972479  tt9679036         3.0   nm7751067   actress     Jacqueline Godbout   \n",
       "2972480  tt9679036         4.0  nm10435078   actress         Luanne M. Ashe   \n",
       "2972481  tt9679036         5.0   nm9728620  director            Julia Beney   \n",
       "2972482  tt9679036         6.0   nm8336361  composer           Georgina Hay   \n",
       "\n",
       "                         primary_profession  \\\n",
       "0                                     actor   \n",
       "1                     actor,writer,producer   \n",
       "2                   producer,art_department   \n",
       "3                     actor,writer,producer   \n",
       "4            actress,producer,miscellaneous   \n",
       "...                                     ...   \n",
       "2972478                               actor   \n",
       "2972479             actress,director,writer   \n",
       "2972480                             actress   \n",
       "2972481  production_manager,director,writer   \n",
       "2972482           composer,music_department   \n",
       "\n",
       "                                known_for_titles   title_id  ordering_y  \\\n",
       "0        tt0093120,tt0076974,tt0084296,tt0077064  tt0111414         1.0   \n",
       "1        tt0104271,tt0094789,tt0102076,tt0111414  tt0111414         1.0   \n",
       "2        tt0290884,tt0101374,tt0111414,tt1566940  tt0111414         1.0   \n",
       "3        tt0104271,tt0094789,tt0102076,tt0111414  tt5573596         1.0   \n",
       "4        tt0315327,tt0092569,tt3216866,tt0102138  tt5573596         1.0   \n",
       "...                                          ...        ...         ...   \n",
       "2972478                                      NaN        NaN         NaN   \n",
       "2972479            tt8521054,tt9679036,tt8141472        NaN         NaN   \n",
       "2972480                                      NaN        NaN         NaN   \n",
       "2972481  tt4777160,tt9269288,tt7512582,tt9679036        NaN         NaN   \n",
       "2972482  tt2328900,tt4537896,tt5478478,tt5311542        NaN         NaN   \n",
       "\n",
       "                     title region types  is_original_title  \\\n",
       "0              A Thin Life     AU   NaN                0.0   \n",
       "1              A Thin Life     AU   NaN                0.0   \n",
       "2              A Thin Life     AU   NaN                0.0   \n",
       "3        Remembering Nigel     AU   NaN                0.0   \n",
       "4        Remembering Nigel     AU   NaN                0.0   \n",
       "...                    ...    ...   ...                ...   \n",
       "2972478                NaN    NaN   NaN                NaN   \n",
       "2972479                NaN    NaN   NaN                NaN   \n",
       "2972480                NaN    NaN   NaN                NaN   \n",
       "2972481                NaN    NaN   NaN                NaN   \n",
       "2972482                NaN    NaN   NaN                NaN   \n",
       "\n",
       "                                             primary_title  \\\n",
       "0                                              A Thin Life   \n",
       "1                                              A Thin Life   \n",
       "2                                              A Thin Life   \n",
       "3                                        Remembering Nigel   \n",
       "4                                        Remembering Nigel   \n",
       "...                                                    ...   \n",
       "2972478  A Girl, a Boy, a Penny and a Very, Very, Very ...   \n",
       "2972479  A Girl, a Boy, a Penny and a Very, Very, Very ...   \n",
       "2972480  A Girl, a Boy, a Penny and a Very, Very, Very ...   \n",
       "2972481  A Girl, a Boy, a Penny and a Very, Very, Very ...   \n",
       "2972482  A Girl, a Boy, a Penny and a Very, Very, Very ...   \n",
       "\n",
       "                                            original_title  start_year  \\\n",
       "0                                              A Thin Life        2018   \n",
       "1                                              A Thin Life        2018   \n",
       "2                                              A Thin Life        2018   \n",
       "3                                        Remembering Nigel        2015   \n",
       "4                                        Remembering Nigel        2015   \n",
       "...                                                    ...         ...   \n",
       "2972478  A Girl, a Boy, a Penny and a Very, Very, Very ...        2019   \n",
       "2972479  A Girl, a Boy, a Penny and a Very, Very, Very ...        2019   \n",
       "2972480  A Girl, a Boy, a Penny and a Very, Very, Very ...        2019   \n",
       "2972481  A Girl, a Boy, a Penny and a Very, Very, Very ...        2019   \n",
       "2972482  A Girl, a Boy, a Penny and a Very, Very, Very ...        2019   \n",
       "\n",
       "         runtime_minutes        genres  directors    writers  \n",
       "0                   75.0        Comedy  nm0398271  nm0398271  \n",
       "1                   75.0        Comedy  nm0398271  nm0398271  \n",
       "2                   75.0        Comedy  nm0398271  nm0398271  \n",
       "3                    NaN        Comedy  nm0398271  nm0398271  \n",
       "4                    NaN        Comedy  nm0398271  nm0398271  \n",
       "...                  ...           ...        ...        ...  \n",
       "2972478             75.0  Comedy,Drama  nm9728620  nm9728620  \n",
       "2972479             75.0  Comedy,Drama  nm9728620  nm9728620  \n",
       "2972480             75.0  Comedy,Drama  nm9728620  nm9728620  \n",
       "2972481             75.0  Comedy,Drama  nm9728620  nm9728620  \n",
       "2972482             75.0  Comedy,Drama  nm9728620  nm9728620  \n",
       "\n",
       "[2972483 rows x 20 columns]"
      ],
      "text/html": "<div>\n<style scoped>\n    .dataframe tbody tr th:only-of-type {\n        vertical-align: middle;\n    }\n\n    .dataframe tbody tr th {\n        vertical-align: top;\n    }\n\n    .dataframe thead th {\n        text-align: right;\n    }\n</style>\n<table border=\"1\" class=\"dataframe\">\n  <thead>\n    <tr style=\"text-align: right;\">\n      <th></th>\n      <th>tconst</th>\n      <th>ordering_x</th>\n      <th>nconst</th>\n      <th>category</th>\n      <th>primary_name</th>\n      <th>primary_profession</th>\n      <th>known_for_titles</th>\n      <th>title_id</th>\n      <th>ordering_y</th>\n      <th>title</th>\n      <th>region</th>\n      <th>types</th>\n      <th>is_original_title</th>\n      <th>primary_title</th>\n      <th>original_title</th>\n      <th>start_year</th>\n      <th>runtime_minutes</th>\n      <th>genres</th>\n      <th>directors</th>\n      <th>writers</th>\n    </tr>\n  </thead>\n  <tbody>\n    <tr>\n      <th>0</th>\n      <td>tt0111414</td>\n      <td>1.0</td>\n      <td>nm0246005</td>\n      <td>actor</td>\n      <td>Tommy Dysart</td>\n      <td>actor</td>\n      <td>tt0093120,tt0076974,tt0084296,tt0077064</td>\n      <td>tt0111414</td>\n      <td>1.0</td>\n      <td>A Thin Life</td>\n      <td>AU</td>\n      <td>NaN</td>\n      <td>0.0</td>\n      <td>A Thin Life</td>\n      <td>A Thin Life</td>\n      <td>2018</td>\n      <td>75.0</td>\n      <td>Comedy</td>\n      <td>nm0398271</td>\n      <td>nm0398271</td>\n    </tr>\n    <tr>\n      <th>1</th>\n      <td>tt0111414</td>\n      <td>2.0</td>\n      <td>nm0398271</td>\n      <td>director</td>\n      <td>Frank Howson</td>\n      <td>actor,writer,producer</td>\n      <td>tt0104271,tt0094789,tt0102076,tt0111414</td>\n      <td>tt0111414</td>\n      <td>1.0</td>\n      <td>A Thin Life</td>\n      <td>AU</td>\n      <td>NaN</td>\n      <td>0.0</td>\n      <td>A Thin Life</td>\n      <td>A Thin Life</td>\n      <td>2018</td>\n      <td>75.0</td>\n      <td>Comedy</td>\n      <td>nm0398271</td>\n      <td>nm0398271</td>\n    </tr>\n    <tr>\n      <th>2</th>\n      <td>tt0111414</td>\n      <td>3.0</td>\n      <td>nm3739909</td>\n      <td>producer</td>\n      <td>Barry Porter-Robinson</td>\n      <td>producer,art_department</td>\n      <td>tt0290884,tt0101374,tt0111414,tt1566940</td>\n      <td>tt0111414</td>\n      <td>1.0</td>\n      <td>A Thin Life</td>\n      <td>AU</td>\n      <td>NaN</td>\n      <td>0.0</td>\n      <td>A Thin Life</td>\n      <td>A Thin Life</td>\n      <td>2018</td>\n      <td>75.0</td>\n      <td>Comedy</td>\n      <td>nm0398271</td>\n      <td>nm0398271</td>\n    </tr>\n    <tr>\n      <th>3</th>\n      <td>tt5573596</td>\n      <td>5.0</td>\n      <td>nm0398271</td>\n      <td>director</td>\n      <td>Frank Howson</td>\n      <td>actor,writer,producer</td>\n      <td>tt0104271,tt0094789,tt0102076,tt0111414</td>\n      <td>tt5573596</td>\n      <td>1.0</td>\n      <td>Remembering Nigel</td>\n      <td>AU</td>\n      <td>NaN</td>\n      <td>0.0</td>\n      <td>Remembering Nigel</td>\n      <td>Remembering Nigel</td>\n      <td>2015</td>\n      <td>NaN</td>\n      <td>Comedy</td>\n      <td>nm0398271</td>\n      <td>nm0398271</td>\n    </tr>\n    <tr>\n      <th>4</th>\n      <td>tt5573596</td>\n      <td>4.0</td>\n      <td>nm0000476</td>\n      <td>actress</td>\n      <td>Sally Kirkland</td>\n      <td>actress,producer,miscellaneous</td>\n      <td>tt0315327,tt0092569,tt3216866,tt0102138</td>\n      <td>tt5573596</td>\n      <td>1.0</td>\n      <td>Remembering Nigel</td>\n      <td>AU</td>\n      <td>NaN</td>\n      <td>0.0</td>\n      <td>Remembering Nigel</td>\n      <td>Remembering Nigel</td>\n      <td>2015</td>\n      <td>NaN</td>\n      <td>Comedy</td>\n      <td>nm0398271</td>\n      <td>nm0398271</td>\n    </tr>\n    <tr>\n      <th>...</th>\n      <td>...</td>\n      <td>...</td>\n      <td>...</td>\n      <td>...</td>\n      <td>...</td>\n      <td>...</td>\n      <td>...</td>\n      <td>...</td>\n      <td>...</td>\n      <td>...</td>\n      <td>...</td>\n      <td>...</td>\n      <td>...</td>\n      <td>...</td>\n      <td>...</td>\n      <td>...</td>\n      <td>...</td>\n      <td>...</td>\n      <td>...</td>\n      <td>...</td>\n    </tr>\n    <tr>\n      <th>2972478</th>\n      <td>tt9679036</td>\n      <td>2.0</td>\n      <td>nm10435077</td>\n      <td>actor</td>\n      <td>Hardi Zala</td>\n      <td>actor</td>\n      <td>NaN</td>\n      <td>NaN</td>\n      <td>NaN</td>\n      <td>NaN</td>\n      <td>NaN</td>\n      <td>NaN</td>\n      <td>NaN</td>\n      <td>A Girl, a Boy, a Penny and a Very, Very, Very ...</td>\n      <td>A Girl, a Boy, a Penny and a Very, Very, Very ...</td>\n      <td>2019</td>\n      <td>75.0</td>\n      <td>Comedy,Drama</td>\n      <td>nm9728620</td>\n      <td>nm9728620</td>\n    </tr>\n    <tr>\n      <th>2972479</th>\n      <td>tt9679036</td>\n      <td>3.0</td>\n      <td>nm7751067</td>\n      <td>actress</td>\n      <td>Jacqueline Godbout</td>\n      <td>actress,director,writer</td>\n      <td>tt8521054,tt9679036,tt8141472</td>\n      <td>NaN</td>\n      <td>NaN</td>\n      <td>NaN</td>\n      <td>NaN</td>\n      <td>NaN</td>\n      <td>NaN</td>\n      <td>A Girl, a Boy, a Penny and a Very, Very, Very ...</td>\n      <td>A Girl, a Boy, a Penny and a Very, Very, Very ...</td>\n      <td>2019</td>\n      <td>75.0</td>\n      <td>Comedy,Drama</td>\n      <td>nm9728620</td>\n      <td>nm9728620</td>\n    </tr>\n    <tr>\n      <th>2972480</th>\n      <td>tt9679036</td>\n      <td>4.0</td>\n      <td>nm10435078</td>\n      <td>actress</td>\n      <td>Luanne M. Ashe</td>\n      <td>actress</td>\n      <td>NaN</td>\n      <td>NaN</td>\n      <td>NaN</td>\n      <td>NaN</td>\n      <td>NaN</td>\n      <td>NaN</td>\n      <td>NaN</td>\n      <td>A Girl, a Boy, a Penny and a Very, Very, Very ...</td>\n      <td>A Girl, a Boy, a Penny and a Very, Very, Very ...</td>\n      <td>2019</td>\n      <td>75.0</td>\n      <td>Comedy,Drama</td>\n      <td>nm9728620</td>\n      <td>nm9728620</td>\n    </tr>\n    <tr>\n      <th>2972481</th>\n      <td>tt9679036</td>\n      <td>5.0</td>\n      <td>nm9728620</td>\n      <td>director</td>\n      <td>Julia Beney</td>\n      <td>production_manager,director,writer</td>\n      <td>tt4777160,tt9269288,tt7512582,tt9679036</td>\n      <td>NaN</td>\n      <td>NaN</td>\n      <td>NaN</td>\n      <td>NaN</td>\n      <td>NaN</td>\n      <td>NaN</td>\n      <td>A Girl, a Boy, a Penny and a Very, Very, Very ...</td>\n      <td>A Girl, a Boy, a Penny and a Very, Very, Very ...</td>\n      <td>2019</td>\n      <td>75.0</td>\n      <td>Comedy,Drama</td>\n      <td>nm9728620</td>\n      <td>nm9728620</td>\n    </tr>\n    <tr>\n      <th>2972482</th>\n      <td>tt9679036</td>\n      <td>6.0</td>\n      <td>nm8336361</td>\n      <td>composer</td>\n      <td>Georgina Hay</td>\n      <td>composer,music_department</td>\n      <td>tt2328900,tt4537896,tt5478478,tt5311542</td>\n      <td>NaN</td>\n      <td>NaN</td>\n      <td>NaN</td>\n      <td>NaN</td>\n      <td>NaN</td>\n      <td>NaN</td>\n      <td>A Girl, a Boy, a Penny and a Very, Very, Very ...</td>\n      <td>A Girl, a Boy, a Penny and a Very, Very, Very ...</td>\n      <td>2019</td>\n      <td>75.0</td>\n      <td>Comedy,Drama</td>\n      <td>nm9728620</td>\n      <td>nm9728620</td>\n    </tr>\n  </tbody>\n</table>\n<p>2972483 rows × 20 columns</p>\n</div>"
     },
     "metadata": {},
     "execution_count": 45
    }
   ],
   "source": [
    "imdball = imdbprincnametitleouter.merge(imdbcrewtitle2, on='tconst')\n",
    "imdball"
   ]
  },
  {
   "cell_type": "code",
   "execution_count": 44,
   "metadata": {},
   "outputs": [
    {
     "output_type": "execute_result",
     "data": {
      "text/plain": [
       "array(['actor', 'director', 'producer', 'actress', 'editor', 'composer',\n",
       "       'cinematographer', 'writer', 'production_designer', 'self',\n",
       "       'archive_footage', 'archive_sound'], dtype=object)"
      ]
     },
     "metadata": {},
     "execution_count": 44
    }
   ],
   "source": [
    "imdball.category.unique()"
   ]
  },
  {
   "cell_type": "code",
   "execution_count": 8,
   "metadata": {},
   "outputs": [],
   "source": [
    "# idea: make dictionary, keys are nm#####s, values are names. use replace function\n",
    "#dictionary to replace names\n",
    "names = []\n",
    "for n in imdbname['nconst']:\n",
    "    names.append(n)\n",
    "len(names)\n",
    "real_names = []\n",
    "for n in imdbname['primary_name']:\n",
    "    real_names.append(n)\n",
    "len(real_names)\n",
    "name_dict = dict(zip(names, real_names))"
   ]
  },
  {
   "cell_type": "code",
   "execution_count": 18,
   "metadata": {},
   "outputs": [
    {
     "output_type": "error",
     "ename": "KeyboardInterrupt",
     "evalue": "",
     "traceback": [
      "\u001b[1;31m---------------------------------------------------------------------------\u001b[0m",
      "\u001b[1;31mKeyboardInterrupt\u001b[0m                         Traceback (most recent call last)",
      "\u001b[1;32m<ipython-input-18-627804377b15>\u001b[0m in \u001b[0;36m<module>\u001b[1;34m\u001b[0m\n\u001b[0;32m     12\u001b[0m     \u001b[1;31m#     if item in names:\u001b[0m\u001b[1;33m\u001b[0m\u001b[1;33m\u001b[0m\u001b[1;33m\u001b[0m\u001b[0m\n\u001b[0;32m     13\u001b[0m     \u001b[1;31m#         imdbprinc.replace(item, name_dict[item])\u001b[0m\u001b[1;33m\u001b[0m\u001b[1;33m\u001b[0m\u001b[1;33m\u001b[0m\u001b[0m\n\u001b[1;32m---> 14\u001b[1;33m \u001b[0mnewplc\u001b[0m \u001b[1;33m=\u001b[0m \u001b[0mimdbprinc\u001b[0m\u001b[1;33m.\u001b[0m\u001b[0mreplace\u001b[0m\u001b[1;33m(\u001b[0m\u001b[1;33m{\u001b[0m\u001b[1;34m'nconst'\u001b[0m\u001b[1;33m:\u001b[0m \u001b[0mname_dict\u001b[0m\u001b[1;33m}\u001b[0m\u001b[1;33m)\u001b[0m\u001b[1;33m\u001b[0m\u001b[1;33m\u001b[0m\u001b[0m\n\u001b[0m\u001b[0;32m     15\u001b[0m \u001b[0mnewplc\u001b[0m\u001b[1;33m\u001b[0m\u001b[1;33m\u001b[0m\u001b[0m\n",
      "\u001b[1;32m~\\anaconda3\\lib\\site-packages\\pandas\\core\\frame.py\u001b[0m in \u001b[0;36mreplace\u001b[1;34m(self, to_replace, value, inplace, limit, regex, method)\u001b[0m\n\u001b[0;32m   4164\u001b[0m         \u001b[0mmethod\u001b[0m\u001b[1;33m=\u001b[0m\u001b[1;34m\"pad\"\u001b[0m\u001b[1;33m,\u001b[0m\u001b[1;33m\u001b[0m\u001b[1;33m\u001b[0m\u001b[0m\n\u001b[0;32m   4165\u001b[0m     ):\n\u001b[1;32m-> 4166\u001b[1;33m         return super().replace(\n\u001b[0m\u001b[0;32m   4167\u001b[0m             \u001b[0mto_replace\u001b[0m\u001b[1;33m=\u001b[0m\u001b[0mto_replace\u001b[0m\u001b[1;33m,\u001b[0m\u001b[1;33m\u001b[0m\u001b[1;33m\u001b[0m\u001b[0m\n\u001b[0;32m   4168\u001b[0m             \u001b[0mvalue\u001b[0m\u001b[1;33m=\u001b[0m\u001b[0mvalue\u001b[0m\u001b[1;33m,\u001b[0m\u001b[1;33m\u001b[0m\u001b[1;33m\u001b[0m\u001b[0m\n",
      "\u001b[1;32m~\\anaconda3\\lib\\site-packages\\pandas\\core\\generic.py\u001b[0m in \u001b[0;36mreplace\u001b[1;34m(self, to_replace, value, inplace, limit, regex, method)\u001b[0m\n\u001b[0;32m   6643\u001b[0m                 \u001b[0mto_replace\u001b[0m\u001b[1;33m,\u001b[0m \u001b[0mvalue\u001b[0m \u001b[1;33m=\u001b[0m \u001b[0mkeys\u001b[0m\u001b[1;33m,\u001b[0m \u001b[0mvalues\u001b[0m\u001b[1;33m\u001b[0m\u001b[1;33m\u001b[0m\u001b[0m\n\u001b[0;32m   6644\u001b[0m \u001b[1;33m\u001b[0m\u001b[0m\n\u001b[1;32m-> 6645\u001b[1;33m             return self.replace(\n\u001b[0m\u001b[0;32m   6646\u001b[0m                 \u001b[0mto_replace\u001b[0m\u001b[1;33m,\u001b[0m \u001b[0mvalue\u001b[0m\u001b[1;33m,\u001b[0m \u001b[0minplace\u001b[0m\u001b[1;33m=\u001b[0m\u001b[0minplace\u001b[0m\u001b[1;33m,\u001b[0m \u001b[0mlimit\u001b[0m\u001b[1;33m=\u001b[0m\u001b[0mlimit\u001b[0m\u001b[1;33m,\u001b[0m \u001b[0mregex\u001b[0m\u001b[1;33m=\u001b[0m\u001b[0mregex\u001b[0m\u001b[1;33m\u001b[0m\u001b[1;33m\u001b[0m\u001b[0m\n\u001b[0;32m   6647\u001b[0m             )\n",
      "\u001b[1;32m~\\anaconda3\\lib\\site-packages\\pandas\\core\\frame.py\u001b[0m in \u001b[0;36mreplace\u001b[1;34m(self, to_replace, value, inplace, limit, regex, method)\u001b[0m\n\u001b[0;32m   4164\u001b[0m         \u001b[0mmethod\u001b[0m\u001b[1;33m=\u001b[0m\u001b[1;34m\"pad\"\u001b[0m\u001b[1;33m,\u001b[0m\u001b[1;33m\u001b[0m\u001b[1;33m\u001b[0m\u001b[0m\n\u001b[0;32m   4165\u001b[0m     ):\n\u001b[1;32m-> 4166\u001b[1;33m         return super().replace(\n\u001b[0m\u001b[0;32m   4167\u001b[0m             \u001b[0mto_replace\u001b[0m\u001b[1;33m=\u001b[0m\u001b[0mto_replace\u001b[0m\u001b[1;33m,\u001b[0m\u001b[1;33m\u001b[0m\u001b[1;33m\u001b[0m\u001b[0m\n\u001b[0;32m   4168\u001b[0m             \u001b[0mvalue\u001b[0m\u001b[1;33m=\u001b[0m\u001b[0mvalue\u001b[0m\u001b[1;33m,\u001b[0m\u001b[1;33m\u001b[0m\u001b[1;33m\u001b[0m\u001b[0m\n",
      "\u001b[1;32m~\\anaconda3\\lib\\site-packages\\pandas\\core\\generic.py\u001b[0m in \u001b[0;36mreplace\u001b[1;34m(self, to_replace, value, inplace, limit, regex, method)\u001b[0m\n\u001b[0;32m   6660\u001b[0m                             \u001b[1;31m# object conversion is handled in\u001b[0m\u001b[1;33m\u001b[0m\u001b[1;33m\u001b[0m\u001b[1;33m\u001b[0m\u001b[0m\n\u001b[0;32m   6661\u001b[0m                             \u001b[1;31m# series.replace which is called recursively\u001b[0m\u001b[1;33m\u001b[0m\u001b[1;33m\u001b[0m\u001b[1;33m\u001b[0m\u001b[0m\n\u001b[1;32m-> 6662\u001b[1;33m                             res[c] = res[c].replace(\n\u001b[0m\u001b[0;32m   6663\u001b[0m                                 \u001b[0mto_replace\u001b[0m\u001b[1;33m=\u001b[0m\u001b[0msrc\u001b[0m\u001b[1;33m,\u001b[0m\u001b[1;33m\u001b[0m\u001b[1;33m\u001b[0m\u001b[0m\n\u001b[0;32m   6664\u001b[0m                                 \u001b[0mvalue\u001b[0m\u001b[1;33m=\u001b[0m\u001b[0mvalue\u001b[0m\u001b[1;33m[\u001b[0m\u001b[0mc\u001b[0m\u001b[1;33m]\u001b[0m\u001b[1;33m,\u001b[0m\u001b[1;33m\u001b[0m\u001b[1;33m\u001b[0m\u001b[0m\n",
      "\u001b[1;32m~\\anaconda3\\lib\\site-packages\\pandas\\core\\series.py\u001b[0m in \u001b[0;36mreplace\u001b[1;34m(self, to_replace, value, inplace, limit, regex, method)\u001b[0m\n\u001b[0;32m   4170\u001b[0m         \u001b[0mmethod\u001b[0m\u001b[1;33m=\u001b[0m\u001b[1;34m\"pad\"\u001b[0m\u001b[1;33m,\u001b[0m\u001b[1;33m\u001b[0m\u001b[1;33m\u001b[0m\u001b[0m\n\u001b[0;32m   4171\u001b[0m     ):\n\u001b[1;32m-> 4172\u001b[1;33m         return super().replace(\n\u001b[0m\u001b[0;32m   4173\u001b[0m             \u001b[0mto_replace\u001b[0m\u001b[1;33m=\u001b[0m\u001b[0mto_replace\u001b[0m\u001b[1;33m,\u001b[0m\u001b[1;33m\u001b[0m\u001b[1;33m\u001b[0m\u001b[0m\n\u001b[0;32m   4174\u001b[0m             \u001b[0mvalue\u001b[0m\u001b[1;33m=\u001b[0m\u001b[0mvalue\u001b[0m\u001b[1;33m,\u001b[0m\u001b[1;33m\u001b[0m\u001b[1;33m\u001b[0m\u001b[0m\n",
      "\u001b[1;32m~\\anaconda3\\lib\\site-packages\\pandas\\core\\generic.py\u001b[0m in \u001b[0;36mreplace\u001b[1;34m(self, to_replace, value, inplace, limit, regex, method)\u001b[0m\n\u001b[0;32m   6693\u001b[0m                         )\n\u001b[0;32m   6694\u001b[0m \u001b[1;33m\u001b[0m\u001b[0m\n\u001b[1;32m-> 6695\u001b[1;33m                     new_data = self._data.replace_list(\n\u001b[0m\u001b[0;32m   6696\u001b[0m                         \u001b[0msrc_list\u001b[0m\u001b[1;33m=\u001b[0m\u001b[0mto_replace\u001b[0m\u001b[1;33m,\u001b[0m\u001b[1;33m\u001b[0m\u001b[1;33m\u001b[0m\u001b[0m\n\u001b[0;32m   6697\u001b[0m                         \u001b[0mdest_list\u001b[0m\u001b[1;33m=\u001b[0m\u001b[0mvalue\u001b[0m\u001b[1;33m,\u001b[0m\u001b[1;33m\u001b[0m\u001b[1;33m\u001b[0m\u001b[0m\n",
      "\u001b[1;32m~\\anaconda3\\lib\\site-packages\\pandas\\core\\internals\\managers.py\u001b[0m in \u001b[0;36mreplace_list\u001b[1;34m(self, src_list, dest_list, inplace, regex)\u001b[0m\n\u001b[0;32m    611\u001b[0m             \u001b[1;32mreturn\u001b[0m \u001b[0m_compare_or_regex_search\u001b[0m\u001b[1;33m(\u001b[0m\u001b[0mvalues\u001b[0m\u001b[1;33m,\u001b[0m \u001b[0ms\u001b[0m\u001b[1;33m,\u001b[0m \u001b[0mregex\u001b[0m\u001b[1;33m)\u001b[0m\u001b[1;33m\u001b[0m\u001b[1;33m\u001b[0m\u001b[0m\n\u001b[0;32m    612\u001b[0m \u001b[1;33m\u001b[0m\u001b[0m\n\u001b[1;32m--> 613\u001b[1;33m         \u001b[0mmasks\u001b[0m \u001b[1;33m=\u001b[0m \u001b[1;33m[\u001b[0m\u001b[0mcomp\u001b[0m\u001b[1;33m(\u001b[0m\u001b[0ms\u001b[0m\u001b[1;33m,\u001b[0m \u001b[0mregex\u001b[0m\u001b[1;33m)\u001b[0m \u001b[1;32mfor\u001b[0m \u001b[0mi\u001b[0m\u001b[1;33m,\u001b[0m \u001b[0ms\u001b[0m \u001b[1;32min\u001b[0m \u001b[0menumerate\u001b[0m\u001b[1;33m(\u001b[0m\u001b[0msrc_list\u001b[0m\u001b[1;33m)\u001b[0m\u001b[1;33m]\u001b[0m\u001b[1;33m\u001b[0m\u001b[1;33m\u001b[0m\u001b[0m\n\u001b[0m\u001b[0;32m    614\u001b[0m \u001b[1;33m\u001b[0m\u001b[0m\n\u001b[0;32m    615\u001b[0m         \u001b[0mresult_blocks\u001b[0m \u001b[1;33m=\u001b[0m \u001b[1;33m[\u001b[0m\u001b[1;33m]\u001b[0m\u001b[1;33m\u001b[0m\u001b[1;33m\u001b[0m\u001b[0m\n",
      "\u001b[1;32m~\\anaconda3\\lib\\site-packages\\pandas\\core\\internals\\managers.py\u001b[0m in \u001b[0;36m<listcomp>\u001b[1;34m(.0)\u001b[0m\n\u001b[0;32m    611\u001b[0m             \u001b[1;32mreturn\u001b[0m \u001b[0m_compare_or_regex_search\u001b[0m\u001b[1;33m(\u001b[0m\u001b[0mvalues\u001b[0m\u001b[1;33m,\u001b[0m \u001b[0ms\u001b[0m\u001b[1;33m,\u001b[0m \u001b[0mregex\u001b[0m\u001b[1;33m)\u001b[0m\u001b[1;33m\u001b[0m\u001b[1;33m\u001b[0m\u001b[0m\n\u001b[0;32m    612\u001b[0m \u001b[1;33m\u001b[0m\u001b[0m\n\u001b[1;32m--> 613\u001b[1;33m         \u001b[0mmasks\u001b[0m \u001b[1;33m=\u001b[0m \u001b[1;33m[\u001b[0m\u001b[0mcomp\u001b[0m\u001b[1;33m(\u001b[0m\u001b[0ms\u001b[0m\u001b[1;33m,\u001b[0m \u001b[0mregex\u001b[0m\u001b[1;33m)\u001b[0m \u001b[1;32mfor\u001b[0m \u001b[0mi\u001b[0m\u001b[1;33m,\u001b[0m \u001b[0ms\u001b[0m \u001b[1;32min\u001b[0m \u001b[0menumerate\u001b[0m\u001b[1;33m(\u001b[0m\u001b[0msrc_list\u001b[0m\u001b[1;33m)\u001b[0m\u001b[1;33m]\u001b[0m\u001b[1;33m\u001b[0m\u001b[1;33m\u001b[0m\u001b[0m\n\u001b[0m\u001b[0;32m    614\u001b[0m \u001b[1;33m\u001b[0m\u001b[0m\n\u001b[0;32m    615\u001b[0m         \u001b[0mresult_blocks\u001b[0m \u001b[1;33m=\u001b[0m \u001b[1;33m[\u001b[0m\u001b[1;33m]\u001b[0m\u001b[1;33m\u001b[0m\u001b[1;33m\u001b[0m\u001b[0m\n",
      "\u001b[1;32m~\\anaconda3\\lib\\site-packages\\pandas\\core\\internals\\managers.py\u001b[0m in \u001b[0;36mcomp\u001b[1;34m(s, regex)\u001b[0m\n\u001b[0;32m    609\u001b[0m                     \u001b[0mmaybe_convert_objects\u001b[0m\u001b[1;33m(\u001b[0m\u001b[0mvalues\u001b[0m\u001b[1;33m)\u001b[0m\u001b[1;33m,\u001b[0m \u001b[0ms\u001b[0m\u001b[1;33m.\u001b[0m\u001b[0masm8\u001b[0m\u001b[1;33m,\u001b[0m \u001b[0mregex\u001b[0m\u001b[1;33m\u001b[0m\u001b[1;33m\u001b[0m\u001b[0m\n\u001b[0;32m    610\u001b[0m                 )\n\u001b[1;32m--> 611\u001b[1;33m             \u001b[1;32mreturn\u001b[0m \u001b[0m_compare_or_regex_search\u001b[0m\u001b[1;33m(\u001b[0m\u001b[0mvalues\u001b[0m\u001b[1;33m,\u001b[0m \u001b[0ms\u001b[0m\u001b[1;33m,\u001b[0m \u001b[0mregex\u001b[0m\u001b[1;33m)\u001b[0m\u001b[1;33m\u001b[0m\u001b[1;33m\u001b[0m\u001b[0m\n\u001b[0m\u001b[0;32m    612\u001b[0m \u001b[1;33m\u001b[0m\u001b[0m\n\u001b[0;32m    613\u001b[0m         \u001b[0mmasks\u001b[0m \u001b[1;33m=\u001b[0m \u001b[1;33m[\u001b[0m\u001b[0mcomp\u001b[0m\u001b[1;33m(\u001b[0m\u001b[0ms\u001b[0m\u001b[1;33m,\u001b[0m \u001b[0mregex\u001b[0m\u001b[1;33m)\u001b[0m \u001b[1;32mfor\u001b[0m \u001b[0mi\u001b[0m\u001b[1;33m,\u001b[0m \u001b[0ms\u001b[0m \u001b[1;32min\u001b[0m \u001b[0menumerate\u001b[0m\u001b[1;33m(\u001b[0m\u001b[0msrc_list\u001b[0m\u001b[1;33m)\u001b[0m\u001b[1;33m]\u001b[0m\u001b[1;33m\u001b[0m\u001b[1;33m\u001b[0m\u001b[0m\n",
      "\u001b[1;32m~\\anaconda3\\lib\\site-packages\\pandas\\core\\internals\\managers.py\u001b[0m in \u001b[0;36m_compare_or_regex_search\u001b[1;34m(a, b, regex)\u001b[0m\n\u001b[0;32m   1922\u001b[0m         \u001b[0mresult\u001b[0m \u001b[1;33m=\u001b[0m \u001b[1;32mFalse\u001b[0m\u001b[1;33m\u001b[0m\u001b[1;33m\u001b[0m\u001b[0m\n\u001b[0;32m   1923\u001b[0m     \u001b[1;32melse\u001b[0m\u001b[1;33m:\u001b[0m\u001b[1;33m\u001b[0m\u001b[1;33m\u001b[0m\u001b[0m\n\u001b[1;32m-> 1924\u001b[1;33m         \u001b[0mresult\u001b[0m \u001b[1;33m=\u001b[0m \u001b[0mop\u001b[0m\u001b[1;33m(\u001b[0m\u001b[0ma\u001b[0m\u001b[1;33m)\u001b[0m\u001b[1;33m\u001b[0m\u001b[1;33m\u001b[0m\u001b[0m\n\u001b[0m\u001b[0;32m   1925\u001b[0m \u001b[1;33m\u001b[0m\u001b[0m\n\u001b[0;32m   1926\u001b[0m     \u001b[1;32mif\u001b[0m \u001b[0mis_scalar\u001b[0m\u001b[1;33m(\u001b[0m\u001b[0mresult\u001b[0m\u001b[1;33m)\u001b[0m \u001b[1;32mand\u001b[0m \u001b[1;33m(\u001b[0m\u001b[0mis_a_array\u001b[0m \u001b[1;32mor\u001b[0m \u001b[0mis_b_array\u001b[0m\u001b[1;33m)\u001b[0m\u001b[1;33m:\u001b[0m\u001b[1;33m\u001b[0m\u001b[1;33m\u001b[0m\u001b[0m\n",
      "\u001b[1;31mKeyboardInterrupt\u001b[0m: "
     ]
    }
   ],
   "source": [
    "# def replcnm():\n",
    "#     for i, item in enumerate(imdbprinc.loc[:,'nconst']):\n",
    "#         if str(item) in names:\n",
    "#             imdbprinc.replace(str(item), name_dict[str(item)])\n",
    "        # try:\n",
    "        #     imdbprinc.iloc[i].loc['nconst'].replace(item, name_dict[item])\n",
    "        # except:\n",
    "        #     continue\n",
    "\n",
    "    #     if item not in names:\n",
    "    #         continue\n",
    "    #     if item in names:\n",
    "    #         imdbprinc.replace(item, name_dict[item])\n",
    "# newplc = imdbprinc.replace({'nconst': name_dict})\n",
    "# newplc"
   ]
  },
  {
   "cell_type": "code",
   "execution_count": 28,
   "metadata": {},
   "outputs": [
    {
     "output_type": "error",
     "ename": "KeyboardInterrupt",
     "evalue": "",
     "traceback": [
      "\u001b[1;31m---------------------------------------------------------------------------\u001b[0m",
      "\u001b[1;31mKeyboardInterrupt\u001b[0m                         Traceback (most recent call last)",
      "\u001b[1;32m<ipython-input-28-a5a885ad35ed>\u001b[0m in \u001b[0;36m<module>\u001b[1;34m\u001b[0m\n\u001b[0;32m      5\u001b[0m         \u001b[0mx\u001b[0m \u001b[1;33m=\u001b[0m \u001b[0mx\u001b[0m\u001b[1;33m\u001b[0m\u001b[1;33m\u001b[0m\u001b[0m\n\u001b[0;32m      6\u001b[0m \u001b[1;33m\u001b[0m\u001b[0m\n\u001b[1;32m----> 7\u001b[1;33m \u001b[0mimdbprinc\u001b[0m\u001b[1;33m.\u001b[0m\u001b[0mnconst\u001b[0m\u001b[1;33m.\u001b[0m\u001b[0mmap\u001b[0m\u001b[1;33m(\u001b[0m\u001b[1;32mlambda\u001b[0m \u001b[0mx\u001b[0m\u001b[1;33m:\u001b[0m \u001b[0mname_dict\u001b[0m\u001b[1;33m[\u001b[0m\u001b[0mx\u001b[0m\u001b[1;33m]\u001b[0m \u001b[1;32mif\u001b[0m \u001b[0mx\u001b[0m \u001b[1;32min\u001b[0m \u001b[0mnames\u001b[0m \u001b[1;32melse\u001b[0m \u001b[0mx\u001b[0m\u001b[1;33m)\u001b[0m\u001b[1;33m\u001b[0m\u001b[1;33m\u001b[0m\u001b[0m\n\u001b[0m",
      "\u001b[1;32m~\\anaconda3\\lib\\site-packages\\pandas\\core\\series.py\u001b[0m in \u001b[0;36mmap\u001b[1;34m(self, arg, na_action)\u001b[0m\n\u001b[0;32m   3628\u001b[0m         \u001b[0mdtype\u001b[0m\u001b[1;33m:\u001b[0m \u001b[0mobject\u001b[0m\u001b[1;33m\u001b[0m\u001b[1;33m\u001b[0m\u001b[0m\n\u001b[0;32m   3629\u001b[0m         \"\"\"\n\u001b[1;32m-> 3630\u001b[1;33m         \u001b[0mnew_values\u001b[0m \u001b[1;33m=\u001b[0m \u001b[0msuper\u001b[0m\u001b[1;33m(\u001b[0m\u001b[1;33m)\u001b[0m\u001b[1;33m.\u001b[0m\u001b[0m_map_values\u001b[0m\u001b[1;33m(\u001b[0m\u001b[0marg\u001b[0m\u001b[1;33m,\u001b[0m \u001b[0mna_action\u001b[0m\u001b[1;33m=\u001b[0m\u001b[0mna_action\u001b[0m\u001b[1;33m)\u001b[0m\u001b[1;33m\u001b[0m\u001b[1;33m\u001b[0m\u001b[0m\n\u001b[0m\u001b[0;32m   3631\u001b[0m         \u001b[1;32mreturn\u001b[0m \u001b[0mself\u001b[0m\u001b[1;33m.\u001b[0m\u001b[0m_constructor\u001b[0m\u001b[1;33m(\u001b[0m\u001b[0mnew_values\u001b[0m\u001b[1;33m,\u001b[0m \u001b[0mindex\u001b[0m\u001b[1;33m=\u001b[0m\u001b[0mself\u001b[0m\u001b[1;33m.\u001b[0m\u001b[0mindex\u001b[0m\u001b[1;33m)\u001b[0m\u001b[1;33m.\u001b[0m\u001b[0m__finalize__\u001b[0m\u001b[1;33m(\u001b[0m\u001b[0mself\u001b[0m\u001b[1;33m)\u001b[0m\u001b[1;33m\u001b[0m\u001b[1;33m\u001b[0m\u001b[0m\n\u001b[0;32m   3632\u001b[0m \u001b[1;33m\u001b[0m\u001b[0m\n",
      "\u001b[1;32m~\\anaconda3\\lib\\site-packages\\pandas\\core\\base.py\u001b[0m in \u001b[0;36m_map_values\u001b[1;34m(self, mapper, na_action)\u001b[0m\n\u001b[0;32m   1143\u001b[0m \u001b[1;33m\u001b[0m\u001b[0m\n\u001b[0;32m   1144\u001b[0m         \u001b[1;31m# mapper is a function\u001b[0m\u001b[1;33m\u001b[0m\u001b[1;33m\u001b[0m\u001b[1;33m\u001b[0m\u001b[0m\n\u001b[1;32m-> 1145\u001b[1;33m         \u001b[0mnew_values\u001b[0m \u001b[1;33m=\u001b[0m \u001b[0mmap_f\u001b[0m\u001b[1;33m(\u001b[0m\u001b[0mvalues\u001b[0m\u001b[1;33m,\u001b[0m \u001b[0mmapper\u001b[0m\u001b[1;33m)\u001b[0m\u001b[1;33m\u001b[0m\u001b[1;33m\u001b[0m\u001b[0m\n\u001b[0m\u001b[0;32m   1146\u001b[0m \u001b[1;33m\u001b[0m\u001b[0m\n\u001b[0;32m   1147\u001b[0m         \u001b[1;32mreturn\u001b[0m \u001b[0mnew_values\u001b[0m\u001b[1;33m\u001b[0m\u001b[1;33m\u001b[0m\u001b[0m\n",
      "\u001b[1;32mpandas\\_libs\\lib.pyx\u001b[0m in \u001b[0;36mpandas._libs.lib.map_infer\u001b[1;34m()\u001b[0m\n",
      "\u001b[1;32m<ipython-input-28-a5a885ad35ed>\u001b[0m in \u001b[0;36m<lambda>\u001b[1;34m(x)\u001b[0m\n\u001b[0;32m      5\u001b[0m         \u001b[0mx\u001b[0m \u001b[1;33m=\u001b[0m \u001b[0mx\u001b[0m\u001b[1;33m\u001b[0m\u001b[1;33m\u001b[0m\u001b[0m\n\u001b[0;32m      6\u001b[0m \u001b[1;33m\u001b[0m\u001b[0m\n\u001b[1;32m----> 7\u001b[1;33m \u001b[0mimdbprinc\u001b[0m\u001b[1;33m.\u001b[0m\u001b[0mnconst\u001b[0m\u001b[1;33m.\u001b[0m\u001b[0mmap\u001b[0m\u001b[1;33m(\u001b[0m\u001b[1;32mlambda\u001b[0m \u001b[0mx\u001b[0m\u001b[1;33m:\u001b[0m \u001b[0mname_dict\u001b[0m\u001b[1;33m[\u001b[0m\u001b[0mx\u001b[0m\u001b[1;33m]\u001b[0m \u001b[1;32mif\u001b[0m \u001b[0mx\u001b[0m \u001b[1;32min\u001b[0m \u001b[0mnames\u001b[0m \u001b[1;32melse\u001b[0m \u001b[0mx\u001b[0m\u001b[1;33m)\u001b[0m\u001b[1;33m\u001b[0m\u001b[1;33m\u001b[0m\u001b[0m\n\u001b[0m",
      "\u001b[1;31mKeyboardInterrupt\u001b[0m: "
     ]
    }
   ],
   "source": [
    "\n"
   ]
  },
  {
   "cell_type": "code",
   "execution_count": 22,
   "metadata": {},
   "outputs": [
    {
     "output_type": "error",
     "ename": "KeyError",
     "evalue": "'nm0476864'",
     "traceback": [
      "\u001b[1;31m---------------------------------------------------------------------------\u001b[0m",
      "\u001b[1;31mKeyError\u001b[0m                                  Traceback (most recent call last)",
      "\u001b[1;32m<ipython-input-22-fb2e3b0095de>\u001b[0m in \u001b[0;36m<module>\u001b[1;34m\u001b[0m\n\u001b[1;32m----> 1\u001b[1;33m \u001b[0mname_dict\u001b[0m\u001b[1;33m[\u001b[0m\u001b[1;34m'nm0476864'\u001b[0m\u001b[1;33m]\u001b[0m\u001b[1;33m\u001b[0m\u001b[1;33m\u001b[0m\u001b[0m\n\u001b[0m",
      "\u001b[1;31mKeyError\u001b[0m: 'nm0476864'"
     ]
    }
   ],
   "source": [
    "name_dict['nm0476864']"
   ]
  },
  {
   "cell_type": "code",
   "execution_count": 15,
   "metadata": {},
   "outputs": [
    {
     "output_type": "execute_result",
     "data": {
      "text/plain": [
       "tconst      object\n",
       "ordering     int64\n",
       "nconst      object\n",
       "category    object\n",
       "dtype: object"
      ]
     },
     "metadata": {},
     "execution_count": 15
    }
   ],
   "source": []
  },
  {
   "cell_type": "code",
   "execution_count": 16,
   "metadata": {},
   "outputs": [
    {
     "output_type": "execute_result",
     "data": {
      "text/plain": [
       "606648"
      ]
     },
     "metadata": {},
     "execution_count": 16
    }
   ],
   "source": [
    "len(name_dict)"
   ]
  },
  {
   "cell_type": "code",
   "execution_count": null,
   "metadata": {},
   "outputs": [],
   "source": []
  }
 ]
}