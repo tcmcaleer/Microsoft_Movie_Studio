{
 "metadata": {
  "language_info": {
   "codemirror_mode": {
    "name": "ipython",
    "version": 3
   },
   "file_extension": ".py",
   "mimetype": "text/x-python",
   "name": "python",
   "nbconvert_exporter": "python",
   "pygments_lexer": "ipython3",
   "version": "3.8.3-final"
  },
  "orig_nbformat": 2,
  "kernelspec": {
   "name": "Python 3.8.3 64-bit ('base': conda)",
   "display_name": "Python 3.8.3 64-bit ('base': conda)",
   "metadata": {
    "interpreter": {
     "hash": "8a4dba99b337f7b7c56f3257436139b377f4b22d5009ee8ecea169cfe4d2a37e"
    }
   }
  }
 },
 "nbformat": 4,
 "nbformat_minor": 2,
 "cells": [
  {
   "cell_type": "code",
   "execution_count": 1,
   "metadata": {},
   "outputs": [],
   "source": [
    "# Import needed modules\n",
    "import pandas as pd\n",
    "import numpy as np\n",
    "import requests\n",
    "from bs4 import BeautifulSoup\n",
    "import seaborn as sns\n",
    "import matplotlib.pyplot as plt\n",
    "import ast\n",
    "import matplotlib.pylab as pylab"
   ]
  },
  {
   "cell_type": "code",
   "execution_count": 2,
   "metadata": {},
   "outputs": [],
   "source": [
    "#Livin' in csv city\n",
    "mjgross = pd.read_csv('D:/Flatiron/Project/Zips/bom.movie_gross.csv/bom.movie_gross.csv')\n",
    "imdbname = pd.read_csv('D:/Flatiron/Project/Zips/imdb.name.basics.csv/name.basics.csv')\n",
    "imdbtitle = pd.read_csv('D:/Flatiron/Project/Zips/imdb.title.akas.csv/title.akas.csv')\n",
    "imdbtitle2 = pd.read_csv('D:/Flatiron/Project/Zips/imdb.title.basics.csv/title.basics.csv')\n",
    "imdbcrew = pd.read_csv('D:/Flatiron/Project/Zips/imdb.title.crew.csv/title.crew.csv')\n",
    "imdbprinc = pd.read_csv('D:/Flatiron/Project/Zips/imdb.title.principals.csv/title.principals.csv')\n",
    "imdbrate = pd.read_csv('D:/Flatiron/Project/Zips/imdb.title.ratings.csv/title.ratings.csv')\n",
    "rtinfo = pd.read_csv('D:/Flatiron/Project/Zips/rt.movie_info.tsv/rt.movie_info.tsv', delimiter='\\t')\n",
    "rtreviews = pd.read_csv('D:/Flatiron/Project/Zips/rt.reviews.tsv/rt.reviews.tsv', sep=None)\n",
    "tmdbmovies = pd.read_csv('D:/Flatiron/Project/Zips/tmdb.movies.csv/tmdb.movies.csv')\n",
    "tnbudgets = pd.read_csv('D:/Flatiron/Project/Zips/tn.movie_budgets.csv/tn.movie_budgets.csv')"
   ]
  },
  {
   "cell_type": "code",
   "execution_count": 3,
   "metadata": {},
   "outputs": [
    {
     "output_type": "stream",
     "name": "stdout",
     "text": [
      "{28: 'Action', 12: 'Adventure', 16: 'Animation', 35: 'Comedy', 80: 'Crime', 99: 'Documentary', 18: 'Drama', 10751: 'Family', 14: 'Fantasy', 36: 'History', 27: 'Horror', 10402: 'Music', 9648: 'Mystery', 10749: 'Romance', 878: 'Science Fiction', 10770: 'TV Movie', 53: 'Thriller', 10752: 'War', 37: 'Western'}\n"
     ]
    }
   ],
   "source": [
    "# Make new dict of genres, cutting out fluff.\n",
    "genre_dict = [{\"id\":28,\"name\":\"Action\"},{\"id\":12,\"name\":\"Adventure\"},{\"id\":16,\"name\":\"Animation\"},{\"id\":35,\"name\":\"Comedy\"},{\"id\":80,\"name\":\"Crime\"},{\"id\":99,\"name\":\"Documentary\"},{\"id\":18,\"name\":\"Drama\"},{\"id\":10751,\"name\":\"Family\"},{\"id\":14,\"name\":\"Fantasy\"},{\"id\":36,\"name\":\"History\"},{\"id\":27,\"name\":\"Horror\"},{\"id\":10402,\"name\":\"Music\"},{\"id\":9648,\"name\":\"Mystery\"},{\"id\":10749,\"name\":\"Romance\"},{\"id\":878,\"name\":\"Science Fiction\"},{\"id\":10770,\"name\":\"TV Movie\"},{\"id\":53,\"name\":\"Thriller\"},{\"id\":10752,\"name\":\"War\"},{\"id\":37,\"name\":\"Western\"}]\n",
    "k = []\n",
    "v = []\n",
    "for i in range(len(genre_dict)):\n",
    "    k.append(genre_dict[i]['id'])\n",
    "    v.append(genre_dict[i]['name'])\n",
    "gendic = dict(zip(k,v))\n",
    "print(gendic)"
   ]
  },
  {
   "cell_type": "code",
   "execution_count": 4,
   "metadata": {},
   "outputs": [],
   "source": [
    "# Make lists out of Series.\n",
    "titles = tmdbmovies['title'].to_list()\n",
    "gennums = tmdbmovies['genre_ids'].to_list()"
   ]
  },
  {
   "cell_type": "code",
   "execution_count": 5,
   "metadata": {},
   "outputs": [],
   "source": [
    "# Create empty DataFrame, using movie titles as index.\n",
    "genresnp = np.zeros(shape=(26517, 19))\n",
    "genre = pd.DataFrame(genresnp, columns = v)\n",
    "genre = genre.applymap(lambda x: int(x))\n",
    "genre['titles'] = titles\n",
    "genre = genre.set_index('titles')"
   ]
  },
  {
   "cell_type": "code",
   "execution_count": 6,
   "metadata": {},
   "outputs": [],
   "source": [
    "# Make list of lists of ints out of list of strings of lists of ints. It was as hard as it is confusing.\n",
    "gennums = [i.strip(\"[]\").split(\", \") for i in gennums] \n",
    "gennums = [[int(j) for j in i if j] for i in gennums]"
   ]
  },
  {
   "cell_type": "code",
   "execution_count": 7,
   "metadata": {},
   "outputs": [],
   "source": [
    "# Use list of int genres as keys to produce names of genres as columns in genre dictionary.\n",
    "gennums = [[gendic[j] for j in i if j] for i in gennums]\n",
    "gennums\n",
    "n= -1\n",
    "for i in gennums:\n",
    "    n += 1\n",
    "    for j in i:\n",
    "        if j:\n",
    "            genre.iloc[n].loc[j] += 1\n",
    "genre\n",
    "genres = genre.columns"
   ]
  },
  {
   "cell_type": "code",
   "execution_count": 8,
   "metadata": {},
   "outputs": [],
   "source": [
    "######################## From here until specified I'm demonstrating all the work I put in before our conversation on Thursday. ######################## ########################\n",
    "######################## My original plan when working with Huey's list was to compare critic and audience reviews to see what effect they have on a movie's gross.\n",
    "######################## After talking to you and realizing I couldn't keep iterating on this small list of 21 movies and the point of the project was to work with large data sets, I threw most of this work away.\n",
    "######################## I essentially started the project from scratch on Thursday, and went out of town Saturday and Sunday. I worked hard to give the presentation I did, even if it wasn't near complete.\n",
    "\n",
    "# Huey's contribution to project.\n",
    "df = pd.read_csv('D:/Flatiron/Project/Zips/bom.movie_gross.csv/bom.movie_gross.csv')\n",
    "moneybank = []\n",
    "for money in df.domestic_gross:\n",
    "    if money > 400000000: # 400 mil and above\n",
    "        moneybank.append(money)\n",
    "top_dom_gross = {'Toy Story' : 415000000.0,\n",
    "                \"The Avengers\": 623400000.0,\n",
    "                 'The Dark Knight Rises' : 448100000.0,\n",
    "                 'The Hunger Games' : 408000000.0,\n",
    "                 'Frozen' : 400700000.0,\n",
    "                 'Iron Man 3' : 409000000.0,\n",
    "                 'The Hunger Games: Catching Fire' : 424700000.0,\n",
    "                 'Star Wars: The Force Awakens' : 936700000.0,\n",
    "                 'Jurassic World' : 652300000.0,\n",
    "                 'Avengers: Age of Ultron' : 459000000.0,\n",
    "                 'Captain America: Civil War' : 408100000.0,\n",
    "                 'Rogue One: A Star Wars Story' : 532200000.0,\n",
    "                 'Finding Dory' : 486300000.0,\n",
    "                 'Star Wars: The Last Jedi' : 620200000.0,\n",
    "                 'Beauty and the Beast' : 504000000.0,\n",
    "                 'Jumanji: Welcome to the Jungle' : 404500000.0,\n",
    "                 'Wonder Woman' : 412600000.0,\n",
    "                 'Avengers: Infinity War' : 678800000.0,\n",
    "                 'Black Panther' : 700100000.0,\n",
    "                 'Jurassic World: Fallen Kingdom' :  417700000.0,\n",
    "                 'Incredibles 2' : 608600000.0}\n",
    "top21 = []\n",
    "for movie in top_dom_gross:\n",
    "    top21.append(movie)"
   ]
  },
  {
   "cell_type": "code",
   "execution_count": 9,
   "metadata": {},
   "outputs": [],
   "source": [
    "# New df of genres of top 21 movies.\n",
    "genre21 = genre[~genre.index.duplicated()]\n",
    "genre21 = genre21.reindex(top21)"
   ]
  },
  {
   "cell_type": "code",
   "execution_count": 10,
   "metadata": {},
   "outputs": [
    {
     "output_type": "execute_result",
     "data": {
      "text/plain": [
       "                                            movie  id  release_date  \\\n",
       "0                                          Avatar   1  Dec 18, 2009   \n",
       "1     Pirates of the Caribbean: On Stranger Tides   2  May 20, 2011   \n",
       "2                                    Dark Phoenix   3   Jun 7, 2019   \n",
       "3                         Avengers: Age of Ultron   4   May 1, 2015   \n",
       "4               Star Wars Ep. VIII: The Last Jedi   5  Dec 15, 2017   \n",
       "...                                           ...  ..           ...   \n",
       "5777                                       Red 11  78  Dec 31, 2018   \n",
       "5778                                    Following  79   Apr 2, 1999   \n",
       "5779                Return to the Land of Wonders  80  Jul 13, 2005   \n",
       "5780                         A Plague So Pleasant  81  Sep 29, 2015   \n",
       "5781                            My Date With Drew  82   Aug 5, 2005   \n",
       "\n",
       "     production_budget domestic_gross worldwide_gross  \n",
       "0         $425,000,000   $760,507,625  $2,776,345,279  \n",
       "1         $410,600,000   $241,063,875  $1,045,663,875  \n",
       "2         $350,000,000    $42,762,350    $149,762,350  \n",
       "3         $330,600,000   $459,005,868  $1,403,013,963  \n",
       "4         $317,000,000   $620,181,382  $1,316,721,747  \n",
       "...                ...            ...             ...  \n",
       "5777            $7,000             $0              $0  \n",
       "5778            $6,000        $48,482        $240,495  \n",
       "5779            $5,000         $1,338          $1,338  \n",
       "5780            $1,400             $0              $0  \n",
       "5781            $1,100       $181,041        $181,041  \n",
       "\n",
       "[5782 rows x 6 columns]"
      ],
      "text/html": "<div>\n<style scoped>\n    .dataframe tbody tr th:only-of-type {\n        vertical-align: middle;\n    }\n\n    .dataframe tbody tr th {\n        vertical-align: top;\n    }\n\n    .dataframe thead th {\n        text-align: right;\n    }\n</style>\n<table border=\"1\" class=\"dataframe\">\n  <thead>\n    <tr style=\"text-align: right;\">\n      <th></th>\n      <th>movie</th>\n      <th>id</th>\n      <th>release_date</th>\n      <th>production_budget</th>\n      <th>domestic_gross</th>\n      <th>worldwide_gross</th>\n    </tr>\n  </thead>\n  <tbody>\n    <tr>\n      <th>0</th>\n      <td>Avatar</td>\n      <td>1</td>\n      <td>Dec 18, 2009</td>\n      <td>$425,000,000</td>\n      <td>$760,507,625</td>\n      <td>$2,776,345,279</td>\n    </tr>\n    <tr>\n      <th>1</th>\n      <td>Pirates of the Caribbean: On Stranger Tides</td>\n      <td>2</td>\n      <td>May 20, 2011</td>\n      <td>$410,600,000</td>\n      <td>$241,063,875</td>\n      <td>$1,045,663,875</td>\n    </tr>\n    <tr>\n      <th>2</th>\n      <td>Dark Phoenix</td>\n      <td>3</td>\n      <td>Jun 7, 2019</td>\n      <td>$350,000,000</td>\n      <td>$42,762,350</td>\n      <td>$149,762,350</td>\n    </tr>\n    <tr>\n      <th>3</th>\n      <td>Avengers: Age of Ultron</td>\n      <td>4</td>\n      <td>May 1, 2015</td>\n      <td>$330,600,000</td>\n      <td>$459,005,868</td>\n      <td>$1,403,013,963</td>\n    </tr>\n    <tr>\n      <th>4</th>\n      <td>Star Wars Ep. VIII: The Last Jedi</td>\n      <td>5</td>\n      <td>Dec 15, 2017</td>\n      <td>$317,000,000</td>\n      <td>$620,181,382</td>\n      <td>$1,316,721,747</td>\n    </tr>\n    <tr>\n      <th>...</th>\n      <td>...</td>\n      <td>...</td>\n      <td>...</td>\n      <td>...</td>\n      <td>...</td>\n      <td>...</td>\n    </tr>\n    <tr>\n      <th>5777</th>\n      <td>Red 11</td>\n      <td>78</td>\n      <td>Dec 31, 2018</td>\n      <td>$7,000</td>\n      <td>$0</td>\n      <td>$0</td>\n    </tr>\n    <tr>\n      <th>5778</th>\n      <td>Following</td>\n      <td>79</td>\n      <td>Apr 2, 1999</td>\n      <td>$6,000</td>\n      <td>$48,482</td>\n      <td>$240,495</td>\n    </tr>\n    <tr>\n      <th>5779</th>\n      <td>Return to the Land of Wonders</td>\n      <td>80</td>\n      <td>Jul 13, 2005</td>\n      <td>$5,000</td>\n      <td>$1,338</td>\n      <td>$1,338</td>\n    </tr>\n    <tr>\n      <th>5780</th>\n      <td>A Plague So Pleasant</td>\n      <td>81</td>\n      <td>Sep 29, 2015</td>\n      <td>$1,400</td>\n      <td>$0</td>\n      <td>$0</td>\n    </tr>\n    <tr>\n      <th>5781</th>\n      <td>My Date With Drew</td>\n      <td>82</td>\n      <td>Aug 5, 2005</td>\n      <td>$1,100</td>\n      <td>$181,041</td>\n      <td>$181,041</td>\n    </tr>\n  </tbody>\n</table>\n<p>5782 rows × 6 columns</p>\n</div>"
     },
     "metadata": {},
     "execution_count": 10
    }
   ],
   "source": [
    "# Add columns for domestic gross and budget.\n",
    "genre21 = genre[~genre.index.duplicated()]\n",
    "genre21 = genre21.reindex(top21)\n",
    "genre21['domgross'] = moneybank\n",
    "tnbudgets = tnbudgets.set_index('movie')\n",
    "tnbudgets21 = tnbudgets[~tnbudgets.index.duplicated()]\n",
    "tnbudgets21 = tnbudgets21.reindex(top21)\n",
    "budgets21 = list(tnbudgets21['production_budget'])\n",
    "genre21['budget'] = budgets21\n",
    "tnbudgets.reset_index()"
   ]
  },
  {
   "cell_type": "code",
   "execution_count": 11,
   "metadata": {},
   "outputs": [],
   "source": [
    "# Clean budget column.\n",
    "genre21['budget'] = genre21['budget'].str.replace(',','')\n",
    "genre21['budget'] = genre21['budget'].fillna(10)\n",
    "genre21['budget'] = genre21['budget'].apply(lambda x: int(str(x)[1:]))"
   ]
  },
  {
   "cell_type": "code",
   "execution_count": 12,
   "metadata": {},
   "outputs": [],
   "source": [
    "# Found missing values using original source's website. Possible because of small data set.\n",
    "genre21.loc['Star Wars: The Force Awakens', 'budget'] = 306000000\n",
    "genre21.loc['Star Wars: The Last Jedi', 'budget'] = 200000000"
   ]
  },
  {
   "cell_type": "code",
   "execution_count": 13,
   "metadata": {},
   "outputs": [],
   "source": [
    "# Use new columns to create informative columns.\n",
    "genre21['return'] = genre21['domgross'] / genre21['budget'] \n",
    "genre21['profit'] = genre21['domgross'] - genre21['budget']"
   ]
  },
  {
   "cell_type": "code",
   "execution_count": 14,
   "metadata": {},
   "outputs": [],
   "source": [
    "# Researched Rotten Tomatoes website, discovered url is based on movie title. Reformatted list to conform to url structure. \n",
    "top = []\n",
    "for movie in top21:\n",
    "    movie = movie.replace(' ', '_').replace(':', '').replace(\"'\",'')\n",
    "    top.append(movie)\n",
    "# Manually fix entries that are named differently. Not sure how to automate.\n",
    "top[14] = 'beauty_and_the_beast_2017'\n",
    "top[7] = 'star_wars_episode_vii_the_force_awakens'\n",
    "top[1] = 'marvels_the_avengers'\n",
    "# Web Scrape RT to find critic and audience ratings for top 21 movies.\n",
    "critic_ratings = []\n",
    "audience_ratings = []\n",
    "for i in range(21):\n",
    "    url = 'http://www.rottentomatoes.com/m/{}'.format(top[i])\n",
    "    html_page = requests.get(url)\n",
    "    soup = BeautifulSoup(html_page.content, 'html.parser')\n",
    "    try:\n",
    "        critic_ratings.append(soup.find('span', class_=\"mop-ratings-wrap__percentage\").text.strip())\n",
    "    except:\n",
    "        critic_ratings.append(top[i])\n",
    "    try:\n",
    "        audience_ratings.append(soup.find('span', class_=\"mop-ratings-wrap__percentage\").text.strip())\n",
    "    except:\n",
    "        audience_ratings.append(top[i])"
   ]
  },
  {
   "cell_type": "code",
   "execution_count": 15,
   "metadata": {},
   "outputs": [
    {
     "output_type": "error",
     "ename": "ValueError",
     "evalue": "invalid literal for int() with base 10: 'Toy_Stor'",
     "traceback": [
      "\u001b[1;31m---------------------------------------------------------------------------\u001b[0m",
      "\u001b[1;31mValueError\u001b[0m                                Traceback (most recent call last)",
      "\u001b[1;32m<ipython-input-15-aef74637d237>\u001b[0m in \u001b[0;36m<module>\u001b[1;34m\u001b[0m\n\u001b[0;32m      2\u001b[0m \u001b[0mgenre21\u001b[0m\u001b[1;33m[\u001b[0m\u001b[1;34m'critics'\u001b[0m\u001b[1;33m]\u001b[0m \u001b[1;33m=\u001b[0m \u001b[0mcritic_ratings\u001b[0m\u001b[1;33m\u001b[0m\u001b[1;33m\u001b[0m\u001b[0m\n\u001b[0;32m      3\u001b[0m \u001b[0mgenre21\u001b[0m\u001b[1;33m[\u001b[0m\u001b[1;34m'audiences'\u001b[0m\u001b[1;33m]\u001b[0m \u001b[1;33m=\u001b[0m \u001b[0maudience_ratings\u001b[0m\u001b[1;33m\u001b[0m\u001b[1;33m\u001b[0m\u001b[0m\n\u001b[1;32m----> 4\u001b[1;33m \u001b[0mgenre21\u001b[0m\u001b[1;33m[\u001b[0m\u001b[1;34m'audiences'\u001b[0m\u001b[1;33m]\u001b[0m \u001b[1;33m=\u001b[0m \u001b[0mgenre21\u001b[0m\u001b[1;33m[\u001b[0m\u001b[1;34m'audiences'\u001b[0m\u001b[1;33m]\u001b[0m\u001b[1;33m.\u001b[0m\u001b[0mapply\u001b[0m\u001b[1;33m(\u001b[0m\u001b[1;32mlambda\u001b[0m \u001b[0mx\u001b[0m\u001b[1;33m:\u001b[0m \u001b[0mint\u001b[0m\u001b[1;33m(\u001b[0m\u001b[0mx\u001b[0m\u001b[1;33m[\u001b[0m\u001b[1;36m0\u001b[0m\u001b[1;33m:\u001b[0m\u001b[1;33m-\u001b[0m\u001b[1;36m1\u001b[0m\u001b[1;33m]\u001b[0m\u001b[1;33m)\u001b[0m\u001b[1;33m)\u001b[0m\u001b[1;33m\u001b[0m\u001b[1;33m\u001b[0m\u001b[0m\n\u001b[0m\u001b[0;32m      5\u001b[0m \u001b[0mgenre21\u001b[0m\u001b[1;33m[\u001b[0m\u001b[1;34m'critics'\u001b[0m\u001b[1;33m]\u001b[0m \u001b[1;33m=\u001b[0m \u001b[0mgenre21\u001b[0m\u001b[1;33m[\u001b[0m\u001b[1;34m'critics'\u001b[0m\u001b[1;33m]\u001b[0m\u001b[1;33m.\u001b[0m\u001b[0mapply\u001b[0m\u001b[1;33m(\u001b[0m\u001b[1;32mlambda\u001b[0m \u001b[0mx\u001b[0m\u001b[1;33m:\u001b[0m \u001b[0mint\u001b[0m\u001b[1;33m(\u001b[0m\u001b[0mx\u001b[0m\u001b[1;33m[\u001b[0m\u001b[1;36m0\u001b[0m\u001b[1;33m:\u001b[0m\u001b[1;33m-\u001b[0m\u001b[1;36m1\u001b[0m\u001b[1;33m]\u001b[0m\u001b[1;33m)\u001b[0m\u001b[1;33m)\u001b[0m\u001b[1;33m\u001b[0m\u001b[1;33m\u001b[0m\u001b[0m\n\u001b[0;32m      6\u001b[0m \u001b[1;32mfor\u001b[0m \u001b[0mc\u001b[0m \u001b[1;32min\u001b[0m \u001b[0mgenre21\u001b[0m\u001b[1;33m.\u001b[0m\u001b[0mcolumns\u001b[0m\u001b[1;33m:\u001b[0m\u001b[1;33m\u001b[0m\u001b[1;33m\u001b[0m\u001b[0m\n",
      "\u001b[1;32m~\\anaconda3\\lib\\site-packages\\pandas\\core\\series.py\u001b[0m in \u001b[0;36mapply\u001b[1;34m(self, func, convert_dtype, args, **kwds)\u001b[0m\n\u001b[0;32m   3846\u001b[0m             \u001b[1;32melse\u001b[0m\u001b[1;33m:\u001b[0m\u001b[1;33m\u001b[0m\u001b[1;33m\u001b[0m\u001b[0m\n\u001b[0;32m   3847\u001b[0m                 \u001b[0mvalues\u001b[0m \u001b[1;33m=\u001b[0m \u001b[0mself\u001b[0m\u001b[1;33m.\u001b[0m\u001b[0mastype\u001b[0m\u001b[1;33m(\u001b[0m\u001b[0mobject\u001b[0m\u001b[1;33m)\u001b[0m\u001b[1;33m.\u001b[0m\u001b[0mvalues\u001b[0m\u001b[1;33m\u001b[0m\u001b[1;33m\u001b[0m\u001b[0m\n\u001b[1;32m-> 3848\u001b[1;33m                 \u001b[0mmapped\u001b[0m \u001b[1;33m=\u001b[0m \u001b[0mlib\u001b[0m\u001b[1;33m.\u001b[0m\u001b[0mmap_infer\u001b[0m\u001b[1;33m(\u001b[0m\u001b[0mvalues\u001b[0m\u001b[1;33m,\u001b[0m \u001b[0mf\u001b[0m\u001b[1;33m,\u001b[0m \u001b[0mconvert\u001b[0m\u001b[1;33m=\u001b[0m\u001b[0mconvert_dtype\u001b[0m\u001b[1;33m)\u001b[0m\u001b[1;33m\u001b[0m\u001b[1;33m\u001b[0m\u001b[0m\n\u001b[0m\u001b[0;32m   3849\u001b[0m \u001b[1;33m\u001b[0m\u001b[0m\n\u001b[0;32m   3850\u001b[0m         \u001b[1;32mif\u001b[0m \u001b[0mlen\u001b[0m\u001b[1;33m(\u001b[0m\u001b[0mmapped\u001b[0m\u001b[1;33m)\u001b[0m \u001b[1;32mand\u001b[0m \u001b[0misinstance\u001b[0m\u001b[1;33m(\u001b[0m\u001b[0mmapped\u001b[0m\u001b[1;33m[\u001b[0m\u001b[1;36m0\u001b[0m\u001b[1;33m]\u001b[0m\u001b[1;33m,\u001b[0m \u001b[0mSeries\u001b[0m\u001b[1;33m)\u001b[0m\u001b[1;33m:\u001b[0m\u001b[1;33m\u001b[0m\u001b[1;33m\u001b[0m\u001b[0m\n",
      "\u001b[1;32mpandas\\_libs\\lib.pyx\u001b[0m in \u001b[0;36mpandas._libs.lib.map_infer\u001b[1;34m()\u001b[0m\n",
      "\u001b[1;32m<ipython-input-15-aef74637d237>\u001b[0m in \u001b[0;36m<lambda>\u001b[1;34m(x)\u001b[0m\n\u001b[0;32m      2\u001b[0m \u001b[0mgenre21\u001b[0m\u001b[1;33m[\u001b[0m\u001b[1;34m'critics'\u001b[0m\u001b[1;33m]\u001b[0m \u001b[1;33m=\u001b[0m \u001b[0mcritic_ratings\u001b[0m\u001b[1;33m\u001b[0m\u001b[1;33m\u001b[0m\u001b[0m\n\u001b[0;32m      3\u001b[0m \u001b[0mgenre21\u001b[0m\u001b[1;33m[\u001b[0m\u001b[1;34m'audiences'\u001b[0m\u001b[1;33m]\u001b[0m \u001b[1;33m=\u001b[0m \u001b[0maudience_ratings\u001b[0m\u001b[1;33m\u001b[0m\u001b[1;33m\u001b[0m\u001b[0m\n\u001b[1;32m----> 4\u001b[1;33m \u001b[0mgenre21\u001b[0m\u001b[1;33m[\u001b[0m\u001b[1;34m'audiences'\u001b[0m\u001b[1;33m]\u001b[0m \u001b[1;33m=\u001b[0m \u001b[0mgenre21\u001b[0m\u001b[1;33m[\u001b[0m\u001b[1;34m'audiences'\u001b[0m\u001b[1;33m]\u001b[0m\u001b[1;33m.\u001b[0m\u001b[0mapply\u001b[0m\u001b[1;33m(\u001b[0m\u001b[1;32mlambda\u001b[0m \u001b[0mx\u001b[0m\u001b[1;33m:\u001b[0m \u001b[0mint\u001b[0m\u001b[1;33m(\u001b[0m\u001b[0mx\u001b[0m\u001b[1;33m[\u001b[0m\u001b[1;36m0\u001b[0m\u001b[1;33m:\u001b[0m\u001b[1;33m-\u001b[0m\u001b[1;36m1\u001b[0m\u001b[1;33m]\u001b[0m\u001b[1;33m)\u001b[0m\u001b[1;33m)\u001b[0m\u001b[1;33m\u001b[0m\u001b[1;33m\u001b[0m\u001b[0m\n\u001b[0m\u001b[0;32m      5\u001b[0m \u001b[0mgenre21\u001b[0m\u001b[1;33m[\u001b[0m\u001b[1;34m'critics'\u001b[0m\u001b[1;33m]\u001b[0m \u001b[1;33m=\u001b[0m \u001b[0mgenre21\u001b[0m\u001b[1;33m[\u001b[0m\u001b[1;34m'critics'\u001b[0m\u001b[1;33m]\u001b[0m\u001b[1;33m.\u001b[0m\u001b[0mapply\u001b[0m\u001b[1;33m(\u001b[0m\u001b[1;32mlambda\u001b[0m \u001b[0mx\u001b[0m\u001b[1;33m:\u001b[0m \u001b[0mint\u001b[0m\u001b[1;33m(\u001b[0m\u001b[0mx\u001b[0m\u001b[1;33m[\u001b[0m\u001b[1;36m0\u001b[0m\u001b[1;33m:\u001b[0m\u001b[1;33m-\u001b[0m\u001b[1;36m1\u001b[0m\u001b[1;33m]\u001b[0m\u001b[1;33m)\u001b[0m\u001b[1;33m)\u001b[0m\u001b[1;33m\u001b[0m\u001b[1;33m\u001b[0m\u001b[0m\n\u001b[0;32m      6\u001b[0m \u001b[1;32mfor\u001b[0m \u001b[0mc\u001b[0m \u001b[1;32min\u001b[0m \u001b[0mgenre21\u001b[0m\u001b[1;33m.\u001b[0m\u001b[0mcolumns\u001b[0m\u001b[1;33m:\u001b[0m\u001b[1;33m\u001b[0m\u001b[1;33m\u001b[0m\u001b[0m\n",
      "\u001b[1;31mValueError\u001b[0m: invalid literal for int() with base 10: 'Toy_Stor'"
     ]
    }
   ],
   "source": [
    "# Add two new columns for ratings, clean and convert\n",
    "genre21['critics'] = critic_ratings\n",
    "genre21['audiences'] = audience_ratings\n",
    "genre21['audiences'] = genre21['audiences'].apply(lambda x: int(x[0:-1]))\n",
    "genre21['critics'] = genre21['critics'].apply(lambda x: int(x[0:-1]))\n",
    "for c in genre21.columns:\n",
    "    if c == 'return':\n",
    "        continue\n",
    "    genre21[c] = genre21[c].apply(lambda x: int(x))\n",
    "genre21['return'] = genre21['return'].apply(lambda x: round(x, 1))\n",
    "genre21"
   ]
  },
  {
   "cell_type": "code",
   "execution_count": 16,
   "metadata": {},
   "outputs": [],
   "source": [
    "# After our talk about using a larger data set, I changed plans.\n",
    "# My first idea was to iterate through tmdbmovies to find genre ids that matched the top 3 genres by return. The return calculation is shown below. \n",
    "# tmdbmovies['hasTop3Genres'] = [True if all(elem in ast.literal_eval(g) for elem in top3) else False for g in tmdbmovies['genre_ids']]\n",
    "# Very few movies met the all three genre criteria. Changed it to just animated movies as below. Problems listed at end.\n",
    "animatedmovies = tmdbmovies[tmdbmovies['genre_ids'].str.contains('16')]\n",
    "tmdbmovies['genre_ids'] = tmdbmovies['genre_ids'].apply(lambda x: ast.literal_eval(x))\n",
    "anlist = list(animatedmovies.title)\n",
    "\n",
    "# Tried to fix as many scenarios that would trip up the RT urls, which are based on titles. I imagine regex is the way to do this.\n",
    "topan = []\n",
    "for movie in anlist:\n",
    "    movie = movie.replace(' ', '_').replace(':', '').replace(\"'\",'').replace('-','_').replace('!','').replace('.','').replace('&','').replace('?','').replace('(','').replace(')','').replace('#','').replace('__','_').replace('__','_')\n",
    "    topan.append(movie)\n",
    "\n",
    "# Same process as before. List of animated movies was MUCH larger than the list of 21 movies above. This producued MANY more url errors (as shown by len(mistake)).\n",
    "# As the only solution I knew to fix the urls was to do it by hand by searching through RT one title at a time, I found this extremely impractical.\n",
    "# Threw away all this work. The successful run produced a list far too small to accurately finish project. Larger dataset produced too many errors.\n",
    "critic_ratings = []\n",
    "audience_ratings = []\n",
    "mistake = []\n",
    "ansuccess = []\n",
    "for i in range(len(topan)):\n",
    "    url = 'http://www.rottentomatoes.com/m/{}'.format(topan[i])\n",
    "    html_page = requests.get(url)\n",
    "    soup = BeautifulSoup(html_page.content, 'html.parser')\n",
    "    try:\n",
    "        critic_ratings.append(soup.find('span', class_=\"mop-ratings-wrap__percentage\").text.strip())\n",
    "        ansuccess.append(topan[i])\n",
    "    except:\n",
    "        mistake.append(topan[i])\n",
    "    try:\n",
    "        audience_ratings.append(soup.find('span', class_=\"mop-ratings-wrap__percentage\").text.strip())\n",
    "    except:\n",
    "        mistake.append(topan[i])\n",
    "######################## Unapplicable work is over. Below is the project's work as presented. ######################## ########################"
   ]
  },
  {
   "cell_type": "code",
   "execution_count": 17,
   "metadata": {},
   "outputs": [],
   "source": [
    "# Use data in tnbudgets to create a new column: return. Return on investment based on production budget vs domestic gross. Step one: lots of cleaning.\n",
    "returnbudgets = tnbudgets\n",
    "returnbudgets['production_budget'] = returnbudgets['production_budget'].str.replace(',','')\n",
    "returnbudgets['production_budget'] = returnbudgets['production_budget'].fillna(10)\n",
    "returnbudgets['production_budget'] = returnbudgets['production_budget'].apply(lambda x: int(str(x)[1:]))\n",
    "returnbudgets['domestic_gross'] = returnbudgets['domestic_gross'].str.replace(',','')\n",
    "returnbudgets['domestic_gross'] = returnbudgets['domestic_gross'].fillna(10)\n",
    "returnbudgets['domestic_gross'] = returnbudgets['domestic_gross'].apply(lambda x: int(str(x)[1:]))\n",
    "returnbudgets['return'] = returnbudgets['domestic_gross'] / returnbudgets['production_budget'] "
   ]
  },
  {
   "cell_type": "code",
   "execution_count": 18,
   "metadata": {},
   "outputs": [],
   "source": [
    "# Merge DataFrame with just genres with newly created DataFrame with budget,\n",
    "genre = genre[~genre.index.duplicated()]\n",
    "genre = genre[genre.notnull()]\n",
    "genre = genre.reset_index()\n",
    "returnbudgets = returnbudgets.reset_index()\n",
    "genre = genre.merge(returnbudgets, left_on='titles', right_on='movie', how='inner')\n"
   ]
  },
  {
   "cell_type": "code",
   "execution_count": 34,
   "metadata": {},
   "outputs": [
    {
     "output_type": "execute_result",
     "data": {
      "text/plain": [
       "{'Family': 0.0,\n",
       " 'Fantasy': 0.0,\n",
       " 'Science Fiction': 0.0,\n",
       " 'Comedy': 0.0,\n",
       " 'Thriller': 0.0,\n",
       " 'Drama': 0.0,\n",
       " 'Romance': 0.0,\n",
       " 'Mystery': 0.0,\n",
       " 'Crime': 0.0,\n",
       " 'History': 0.0,\n",
       " 'Western': 0.0,\n",
       " 'War': 0.0,\n",
       " 'Documentary': 0.0,\n",
       " 'Music': 0.0,\n",
       " 'TV Movie': 0.0,\n",
       " 'Horror': 1.0,\n",
       " 'Adventure': 2.0,\n",
       " 'Animation': 22.0,\n",
       " 'Action': 378.0}"
      ]
     },
     "metadata": {},
     "execution_count": 34
    }
   ],
   "source": [
    "# Break down movies by listed genre, assign that movie's return to a dictionary value of its genre, then divide by the number of movies adding values to the return to find average return by individual genre\n",
    "# Sort genre by its values after switching keys and values. Could have altered code to skip the switching step\n",
    "genrevalue = {}\n",
    "for row in genre.index:\n",
    "    genrecount = 0\n",
    "    for g in genres:\n",
    "        if genre.loc[row, g]:\n",
    "            if g not in genrevalue:\n",
    "                genrevalue[g] = genre.loc[row, 'return']\n",
    "                genrecount += 1\n",
    "            else:\n",
    "                genrevalue[g] += genre.loc[row, 'return']\n",
    "                genrecount += 1\n",
    "        try:\n",
    "            genrevalue[g] = int(genrevalue[g]) / genrecount\n",
    "        except:\n",
    "            continue\n",
    "sortgenre = {k: v for k, v in sorted(genrevalue.items(), key=lambda item: item[1])}\n",
    "sortgenre"
   ]
  },
  {
   "cell_type": "code",
   "execution_count": null,
   "metadata": {},
   "outputs": [],
   "source": [
    "# Graph the genre results with a bar chart.\n",
    "params = {'legend.fontsize': 'x-large',\n",
    "          'figure.figsize': (20, 10),\n",
    "         'axes.labelsize': 'x-large',\n",
    "         'axes.titlesize':'x-large',\n",
    "         'xtick.labelsize':'x-large',\n",
    "         'ytick.labelsize':'x-large'}\n",
    "pylab.rcParams.update(params)\n",
    "plt.xticks(rotation=30)\n",
    "plt.ylabel('Return on Investment')\n",
    "plt.bar(genrevalue.keys(), genrevalue.values());"
   ]
  },
  {
   "cell_type": "code",
   "execution_count": null,
   "metadata": {},
   "outputs": [],
   "source": [
    "# Remove the overwhelmingly large result. Graph the rest.\n",
    "sortgenrenoaction = sortgenre\n",
    "del sortgenrenoaction['Action']\n",
    "plt.xticks(rotation=30)\n",
    "noaction = plt.bar(sortgenrenoaction.keys(), sortgenrenoaction.values())"
   ]
  },
  {
   "cell_type": "code",
   "execution_count": null,
   "metadata": {},
   "outputs": [],
   "source": [
    "# Scatterplot with regression line. Budget vs gross.\n",
    "ax = sns.lmplot(data=genre, x='production_budget', y='domestic_gross', size=10)\n",
    "ax.set(xlabel='Budget (hundreds of millions)', ylabel= 'Domestic Gross (hundreds of millions');"
   ]
  },
  {
   "cell_type": "code",
   "execution_count": 17,
   "metadata": {},
   "outputs": [
    {
     "output_type": "error",
     "ename": "KeyError",
     "evalue": "\"['production_budget', 'domestic_gross'] not in index\"",
     "traceback": [
      "\u001b[1;31m---------------------------------------------------------------------------\u001b[0m",
      "\u001b[1;31mKeyError\u001b[0m                                  Traceback (most recent call last)",
      "\u001b[1;32m<ipython-input-17-0ff0fbe7736c>\u001b[0m in \u001b[0;36m<module>\u001b[1;34m\u001b[0m\n\u001b[0;32m      1\u001b[0m \u001b[1;31m# Same scatterplot with Animation genre highlighted\u001b[0m\u001b[1;33m\u001b[0m\u001b[1;33m\u001b[0m\u001b[1;33m\u001b[0m\u001b[0m\n\u001b[1;32m----> 2\u001b[1;33m \u001b[0max\u001b[0m \u001b[1;33m=\u001b[0m \u001b[0msns\u001b[0m\u001b[1;33m.\u001b[0m\u001b[0mlmplot\u001b[0m\u001b[1;33m(\u001b[0m\u001b[0mdata\u001b[0m\u001b[1;33m=\u001b[0m\u001b[0mgenre\u001b[0m\u001b[1;33m,\u001b[0m \u001b[0mx\u001b[0m\u001b[1;33m=\u001b[0m\u001b[1;34m'production_budget'\u001b[0m\u001b[1;33m,\u001b[0m \u001b[0my\u001b[0m\u001b[1;33m=\u001b[0m\u001b[1;34m'domestic_gross'\u001b[0m\u001b[1;33m,\u001b[0m \u001b[0mhue\u001b[0m \u001b[1;33m=\u001b[0m \u001b[1;34m'Animation'\u001b[0m\u001b[1;33m,\u001b[0m \u001b[0mlegend_out\u001b[0m\u001b[1;33m=\u001b[0m\u001b[1;32mFalse\u001b[0m\u001b[1;33m,\u001b[0m \u001b[0msize\u001b[0m\u001b[1;33m=\u001b[0m\u001b[1;36m10\u001b[0m\u001b[1;33m)\u001b[0m\u001b[1;33m\u001b[0m\u001b[1;33m\u001b[0m\u001b[0m\n\u001b[0m\u001b[0;32m      3\u001b[0m \u001b[0mnew_labels\u001b[0m \u001b[1;33m=\u001b[0m \u001b[1;33m[\u001b[0m\u001b[1;34m'Human'\u001b[0m\u001b[1;33m,\u001b[0m \u001b[1;34m'Cartoon'\u001b[0m\u001b[1;33m]\u001b[0m\u001b[1;33m\u001b[0m\u001b[1;33m\u001b[0m\u001b[0m\n\u001b[0;32m      4\u001b[0m \u001b[0max\u001b[0m\u001b[1;33m.\u001b[0m\u001b[0m_legend\u001b[0m\u001b[1;33m.\u001b[0m\u001b[0mset_title\u001b[0m\u001b[1;33m(\u001b[0m\u001b[1;32mNone\u001b[0m\u001b[1;33m)\u001b[0m\u001b[1;33m\u001b[0m\u001b[1;33m\u001b[0m\u001b[0m\n\u001b[0;32m      5\u001b[0m \u001b[1;32mfor\u001b[0m \u001b[0mt\u001b[0m\u001b[1;33m,\u001b[0m \u001b[0ml\u001b[0m \u001b[1;32min\u001b[0m \u001b[0mzip\u001b[0m\u001b[1;33m(\u001b[0m\u001b[0max\u001b[0m\u001b[1;33m.\u001b[0m\u001b[0m_legend\u001b[0m\u001b[1;33m.\u001b[0m\u001b[0mtexts\u001b[0m\u001b[1;33m,\u001b[0m \u001b[0mnew_labels\u001b[0m\u001b[1;33m)\u001b[0m\u001b[1;33m:\u001b[0m \u001b[0mt\u001b[0m\u001b[1;33m.\u001b[0m\u001b[0mset_text\u001b[0m\u001b[1;33m(\u001b[0m\u001b[0ml\u001b[0m\u001b[1;33m)\u001b[0m\u001b[1;33m\u001b[0m\u001b[1;33m\u001b[0m\u001b[0m\n",
      "\u001b[1;32m~\\anaconda3\\lib\\site-packages\\seaborn\\_decorators.py\u001b[0m in \u001b[0;36minner_f\u001b[1;34m(*args, **kwargs)\u001b[0m\n\u001b[0;32m     44\u001b[0m             )\n\u001b[0;32m     45\u001b[0m         \u001b[0mkwargs\u001b[0m\u001b[1;33m.\u001b[0m\u001b[0mupdate\u001b[0m\u001b[1;33m(\u001b[0m\u001b[1;33m{\u001b[0m\u001b[0mk\u001b[0m\u001b[1;33m:\u001b[0m \u001b[0marg\u001b[0m \u001b[1;32mfor\u001b[0m \u001b[0mk\u001b[0m\u001b[1;33m,\u001b[0m \u001b[0marg\u001b[0m \u001b[1;32min\u001b[0m \u001b[0mzip\u001b[0m\u001b[1;33m(\u001b[0m\u001b[0msig\u001b[0m\u001b[1;33m.\u001b[0m\u001b[0mparameters\u001b[0m\u001b[1;33m,\u001b[0m \u001b[0margs\u001b[0m\u001b[1;33m)\u001b[0m\u001b[1;33m}\u001b[0m\u001b[1;33m)\u001b[0m\u001b[1;33m\u001b[0m\u001b[1;33m\u001b[0m\u001b[0m\n\u001b[1;32m---> 46\u001b[1;33m         \u001b[1;32mreturn\u001b[0m \u001b[0mf\u001b[0m\u001b[1;33m(\u001b[0m\u001b[1;33m**\u001b[0m\u001b[0mkwargs\u001b[0m\u001b[1;33m)\u001b[0m\u001b[1;33m\u001b[0m\u001b[1;33m\u001b[0m\u001b[0m\n\u001b[0m\u001b[0;32m     47\u001b[0m     \u001b[1;32mreturn\u001b[0m \u001b[0minner_f\u001b[0m\u001b[1;33m\u001b[0m\u001b[1;33m\u001b[0m\u001b[0m\n\u001b[0;32m     48\u001b[0m \u001b[1;33m\u001b[0m\u001b[0m\n",
      "\u001b[1;32m~\\anaconda3\\lib\\site-packages\\seaborn\\regression.py\u001b[0m in \u001b[0;36mlmplot\u001b[1;34m(x, y, data, hue, col, row, palette, col_wrap, height, aspect, markers, sharex, sharey, hue_order, col_order, row_order, legend, legend_out, x_estimator, x_bins, x_ci, scatter, fit_reg, ci, n_boot, units, seed, order, logistic, lowess, robust, logx, x_partial, y_partial, truncate, x_jitter, y_jitter, scatter_kws, line_kws, size)\u001b[0m\n\u001b[0;32m    583\u001b[0m     \u001b[0mneed_cols\u001b[0m \u001b[1;33m=\u001b[0m \u001b[1;33m[\u001b[0m\u001b[0mx\u001b[0m\u001b[1;33m,\u001b[0m \u001b[0my\u001b[0m\u001b[1;33m,\u001b[0m \u001b[0mhue\u001b[0m\u001b[1;33m,\u001b[0m \u001b[0mcol\u001b[0m\u001b[1;33m,\u001b[0m \u001b[0mrow\u001b[0m\u001b[1;33m,\u001b[0m \u001b[0munits\u001b[0m\u001b[1;33m,\u001b[0m \u001b[0mx_partial\u001b[0m\u001b[1;33m,\u001b[0m \u001b[0my_partial\u001b[0m\u001b[1;33m]\u001b[0m\u001b[1;33m\u001b[0m\u001b[1;33m\u001b[0m\u001b[0m\n\u001b[0;32m    584\u001b[0m     \u001b[0mcols\u001b[0m \u001b[1;33m=\u001b[0m \u001b[0mnp\u001b[0m\u001b[1;33m.\u001b[0m\u001b[0munique\u001b[0m\u001b[1;33m(\u001b[0m\u001b[1;33m[\u001b[0m\u001b[0ma\u001b[0m \u001b[1;32mfor\u001b[0m \u001b[0ma\u001b[0m \u001b[1;32min\u001b[0m \u001b[0mneed_cols\u001b[0m \u001b[1;32mif\u001b[0m \u001b[0ma\u001b[0m \u001b[1;32mis\u001b[0m \u001b[1;32mnot\u001b[0m \u001b[1;32mNone\u001b[0m\u001b[1;33m]\u001b[0m\u001b[1;33m)\u001b[0m\u001b[1;33m.\u001b[0m\u001b[0mtolist\u001b[0m\u001b[1;33m(\u001b[0m\u001b[1;33m)\u001b[0m\u001b[1;33m\u001b[0m\u001b[1;33m\u001b[0m\u001b[0m\n\u001b[1;32m--> 585\u001b[1;33m     \u001b[0mdata\u001b[0m \u001b[1;33m=\u001b[0m \u001b[0mdata\u001b[0m\u001b[1;33m[\u001b[0m\u001b[0mcols\u001b[0m\u001b[1;33m]\u001b[0m\u001b[1;33m\u001b[0m\u001b[1;33m\u001b[0m\u001b[0m\n\u001b[0m\u001b[0;32m    586\u001b[0m \u001b[1;33m\u001b[0m\u001b[0m\n\u001b[0;32m    587\u001b[0m     \u001b[1;31m# Initialize the grid\u001b[0m\u001b[1;33m\u001b[0m\u001b[1;33m\u001b[0m\u001b[1;33m\u001b[0m\u001b[0m\n",
      "\u001b[1;32m~\\anaconda3\\lib\\site-packages\\pandas\\core\\frame.py\u001b[0m in \u001b[0;36m__getitem__\u001b[1;34m(self, key)\u001b[0m\n\u001b[0;32m   2804\u001b[0m             \u001b[1;32mif\u001b[0m \u001b[0mis_iterator\u001b[0m\u001b[1;33m(\u001b[0m\u001b[0mkey\u001b[0m\u001b[1;33m)\u001b[0m\u001b[1;33m:\u001b[0m\u001b[1;33m\u001b[0m\u001b[1;33m\u001b[0m\u001b[0m\n\u001b[0;32m   2805\u001b[0m                 \u001b[0mkey\u001b[0m \u001b[1;33m=\u001b[0m \u001b[0mlist\u001b[0m\u001b[1;33m(\u001b[0m\u001b[0mkey\u001b[0m\u001b[1;33m)\u001b[0m\u001b[1;33m\u001b[0m\u001b[1;33m\u001b[0m\u001b[0m\n\u001b[1;32m-> 2806\u001b[1;33m             \u001b[0mindexer\u001b[0m \u001b[1;33m=\u001b[0m \u001b[0mself\u001b[0m\u001b[1;33m.\u001b[0m\u001b[0mloc\u001b[0m\u001b[1;33m.\u001b[0m\u001b[0m_get_listlike_indexer\u001b[0m\u001b[1;33m(\u001b[0m\u001b[0mkey\u001b[0m\u001b[1;33m,\u001b[0m \u001b[0maxis\u001b[0m\u001b[1;33m=\u001b[0m\u001b[1;36m1\u001b[0m\u001b[1;33m,\u001b[0m \u001b[0mraise_missing\u001b[0m\u001b[1;33m=\u001b[0m\u001b[1;32mTrue\u001b[0m\u001b[1;33m)\u001b[0m\u001b[1;33m[\u001b[0m\u001b[1;36m1\u001b[0m\u001b[1;33m]\u001b[0m\u001b[1;33m\u001b[0m\u001b[1;33m\u001b[0m\u001b[0m\n\u001b[0m\u001b[0;32m   2807\u001b[0m \u001b[1;33m\u001b[0m\u001b[0m\n\u001b[0;32m   2808\u001b[0m         \u001b[1;31m# take() does not accept boolean indexers\u001b[0m\u001b[1;33m\u001b[0m\u001b[1;33m\u001b[0m\u001b[1;33m\u001b[0m\u001b[0m\n",
      "\u001b[1;32m~\\anaconda3\\lib\\site-packages\\pandas\\core\\indexing.py\u001b[0m in \u001b[0;36m_get_listlike_indexer\u001b[1;34m(self, key, axis, raise_missing)\u001b[0m\n\u001b[0;32m   1550\u001b[0m             \u001b[0mkeyarr\u001b[0m\u001b[1;33m,\u001b[0m \u001b[0mindexer\u001b[0m\u001b[1;33m,\u001b[0m \u001b[0mnew_indexer\u001b[0m \u001b[1;33m=\u001b[0m \u001b[0max\u001b[0m\u001b[1;33m.\u001b[0m\u001b[0m_reindex_non_unique\u001b[0m\u001b[1;33m(\u001b[0m\u001b[0mkeyarr\u001b[0m\u001b[1;33m)\u001b[0m\u001b[1;33m\u001b[0m\u001b[1;33m\u001b[0m\u001b[0m\n\u001b[0;32m   1551\u001b[0m \u001b[1;33m\u001b[0m\u001b[0m\n\u001b[1;32m-> 1552\u001b[1;33m         self._validate_read_indexer(\n\u001b[0m\u001b[0;32m   1553\u001b[0m             \u001b[0mkeyarr\u001b[0m\u001b[1;33m,\u001b[0m \u001b[0mindexer\u001b[0m\u001b[1;33m,\u001b[0m \u001b[0mo\u001b[0m\u001b[1;33m.\u001b[0m\u001b[0m_get_axis_number\u001b[0m\u001b[1;33m(\u001b[0m\u001b[0maxis\u001b[0m\u001b[1;33m)\u001b[0m\u001b[1;33m,\u001b[0m \u001b[0mraise_missing\u001b[0m\u001b[1;33m=\u001b[0m\u001b[0mraise_missing\u001b[0m\u001b[1;33m\u001b[0m\u001b[1;33m\u001b[0m\u001b[0m\n\u001b[0;32m   1554\u001b[0m         )\n",
      "\u001b[1;32m~\\anaconda3\\lib\\site-packages\\pandas\\core\\indexing.py\u001b[0m in \u001b[0;36m_validate_read_indexer\u001b[1;34m(self, key, indexer, axis, raise_missing)\u001b[0m\n\u001b[0;32m   1644\u001b[0m             \u001b[1;32mif\u001b[0m \u001b[1;32mnot\u001b[0m \u001b[1;33m(\u001b[0m\u001b[0mself\u001b[0m\u001b[1;33m.\u001b[0m\u001b[0mname\u001b[0m \u001b[1;33m==\u001b[0m \u001b[1;34m\"loc\"\u001b[0m \u001b[1;32mand\u001b[0m \u001b[1;32mnot\u001b[0m \u001b[0mraise_missing\u001b[0m\u001b[1;33m)\u001b[0m\u001b[1;33m:\u001b[0m\u001b[1;33m\u001b[0m\u001b[1;33m\u001b[0m\u001b[0m\n\u001b[0;32m   1645\u001b[0m                 \u001b[0mnot_found\u001b[0m \u001b[1;33m=\u001b[0m \u001b[0mlist\u001b[0m\u001b[1;33m(\u001b[0m\u001b[0mset\u001b[0m\u001b[1;33m(\u001b[0m\u001b[0mkey\u001b[0m\u001b[1;33m)\u001b[0m \u001b[1;33m-\u001b[0m \u001b[0mset\u001b[0m\u001b[1;33m(\u001b[0m\u001b[0max\u001b[0m\u001b[1;33m)\u001b[0m\u001b[1;33m)\u001b[0m\u001b[1;33m\u001b[0m\u001b[1;33m\u001b[0m\u001b[0m\n\u001b[1;32m-> 1646\u001b[1;33m                 \u001b[1;32mraise\u001b[0m \u001b[0mKeyError\u001b[0m\u001b[1;33m(\u001b[0m\u001b[1;34mf\"{not_found} not in index\"\u001b[0m\u001b[1;33m)\u001b[0m\u001b[1;33m\u001b[0m\u001b[1;33m\u001b[0m\u001b[0m\n\u001b[0m\u001b[0;32m   1647\u001b[0m \u001b[1;33m\u001b[0m\u001b[0m\n\u001b[0;32m   1648\u001b[0m             \u001b[1;31m# we skip the warning on Categorical/Interval\u001b[0m\u001b[1;33m\u001b[0m\u001b[1;33m\u001b[0m\u001b[1;33m\u001b[0m\u001b[0m\n",
      "\u001b[1;31mKeyError\u001b[0m: \"['production_budget', 'domestic_gross'] not in index\""
     ]
    }
   ],
   "source": [
    "# Same scatterplot with Animation genre highlighted\n",
    "ax = sns.lmplot(data=genre, x='production_budget', y='domestic_gross', hue = 'Animation', legend_out=False, size=10)\n",
    "new_labels = ['Human', 'Cartoon']\n",
    "ax._legend.set_title(None)\n",
    "for t, l in zip(ax._legend.texts, new_labels): t.set_text(l)\n",
    "ax.set(xlabel='Budget, (hundreds of millions)', ylabel= 'Domestic Gross (hundreds of millions)');"
   ]
  },
  {
   "cell_type": "code",
   "execution_count": null,
   "metadata": {},
   "outputs": [],
   "source": []
  }
 ]
}