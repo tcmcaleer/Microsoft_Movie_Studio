{
 "metadata": {
  "language_info": {
   "codemirror_mode": {
    "name": "ipython",
    "version": 3
   },
   "file_extension": ".py",
   "mimetype": "text/x-python",
   "name": "python",
   "nbconvert_exporter": "python",
   "pygments_lexer": "ipython3",
   "version": "3.8.3-final"
  },
  "orig_nbformat": 2,
  "kernelspec": {
   "name": "Python 3.8.3 64-bit ('base': conda)",
   "display_name": "Python 3.8.3 64-bit ('base': conda)",
   "metadata": {
    "interpreter": {
     "hash": "8a4dba99b337f7b7c56f3257436139b377f4b22d5009ee8ecea169cfe4d2a37e"
    }
   }
  }
 },
 "nbformat": 4,
 "nbformat_minor": 2,
 "cells": [
  {
   "cell_type": "code",
   "execution_count": null,
   "metadata": {},
   "outputs": [],
   "source": [
    "import pandas as pd"
   ]
  },
  {
   "cell_type": "code",
   "execution_count": null,
   "metadata": {},
   "outputs": [],
   "source": [
    "import matplotlib.pyplot as plt\n",
    "get_ipython().run_line_magic('matplotlib', 'inline')"
   ]
  },
  {
   "cell_type": "code",
   "execution_count": null,
   "metadata": {},
   "outputs": [],
   "source": [
    "df = pd.read_csv('D:/Flatiron/Project/Zips/bom.movie_gross.csv/bom.movie_gross.csv')"
   ]
  },
  {
   "cell_type": "code",
   "execution_count": null,
   "metadata": {},
   "outputs": [],
   "source": [
    "df.head()"
   ]
  },
  {
   "cell_type": "code",
   "execution_count": null,
   "metadata": {},
   "outputs": [],
   "source": [
    "df.domestic_gross > 4000000"
   ]
  },
  {
   "cell_type": "code",
   "execution_count": null,
   "metadata": {},
   "outputs": [],
   "source": [
    "money_bank = []\n",
    "for money in df.domestic_gross:\n",
    "    if money > 400000000: # 400 mil and above\n",
    "        money_bank.append(money)\n",
    "money_bank"
   ]
  },
  {
   "cell_type": "code",
   "execution_count": null,
   "metadata": {},
   "outputs": [],
   "source": [
    "top_dom_gross = {'Toy story' : 415000000.0,\n",
    "                \"Marvel's The Avengers\": 623400000.0,\n",
    "                 'The Dark Knight Rises' : 448100000.0,\n",
    "                 'The Hunger Games' : 408000000.0,\n",
    "                 'Frozen' : 400700000.0,\n",
    "                 'Iron Man 3' : 409000000.0,\n",
    "                 'The Hunger Games: Catching Fire' : 424700000.0,\n",
    "                 'Star Wars: The Force Awakens' : 936700000.0,\n",
    "                 'Jurassic World' : 652300000.0,\n",
    "                 'Avengers: Age of Ultron' : 459000000.0,\n",
    "                 'Captain America: Civil War' : 408100000.0,\n",
    "                 'Rogue One: A Star Wars Story' : 532200000.0,\n",
    "                 'Finding Dory' : 486300000.0,\n",
    "                 'Star Wars: The Last Jedi' : 620200000.0,\n",
    "                 'Beauty and the Beast' : 504000000.0,\n",
    "                 'Jumanji: Welcome to the Jungle' : 404500000.0,\n",
    "                 'Wonder Woman' : 412600000.0,\n",
    "                 'Avengers: Infinity War' : 678800000.0,\n",
    "                 'Black Panther' : 700100000.0,\n",
    "                 'Jurassic World: Fallen Kingdom' :  417700000.0,\n",
    "                 'Incredibles 2' : 608600000.0}"
   ]
  },
  {
   "cell_type": "code",
   "execution_count": null,
   "metadata": {},
   "outputs": [],
   "source": [
    "top_dom_gross"
   ]
  },
  {
   "cell_type": "code",
   "execution_count": null,
   "metadata": {},
   "outputs": [],
   "source": [
    "movies_name = []\n",
    "for movie in top_dom_gross:\n",
    "    movies_name.append(movie)"
   ]
  },
  {
   "cell_type": "code",
   "execution_count": null,
   "metadata": {},
   "outputs": [],
   "source": [
    "movies_name"
   ]
  },
  {
   "cell_type": "code",
   "execution_count": null,
   "metadata": {},
   "outputs": [],
   "source": [
    "fig = plt.figure()\n",
    "ax = fig.add_axes([0,0,1,1])\n",
    "plt.title('Movies over 400mil + Domestic')\n",
    "plt.ylabel('Millions')\n",
    "plt.xticks(rotation=90)\n",
    "ax.bar(movies_name, money_bank)\n",
    "plt.show()"
   ]
  },
  {
   "cell_type": "code",
   "execution_count": null,
   "metadata": {},
   "outputs": [],
   "source": []
  }
 ]
}